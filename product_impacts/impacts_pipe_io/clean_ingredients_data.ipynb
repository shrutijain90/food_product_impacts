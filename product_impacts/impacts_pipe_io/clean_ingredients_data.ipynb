{
 "cells": [
  {
   "cell_type": "code",
   "execution_count": 1,
   "id": "189236b8-6970-4b17-b058-20c638639147",
   "metadata": {},
   "outputs": [
    {
     "name": "stdout",
     "output_type": "stream",
     "text": [
      "\u001b[34mproduct_impacts\u001b[m\u001b[m\n"
     ]
    }
   ],
   "source": [
    "import os\n",
    "os.chdir('../..')\n",
    "!ls"
   ]
  },
  {
   "cell_type": "code",
   "execution_count": 2,
   "id": "f2a73d85-6cd0-4a97-b1d8-2a66a9aeadd8",
   "metadata": {},
   "outputs": [],
   "source": [
    "import pandas as pd\n",
    "import numpy as np\n",
    "import re\n",
    "import unicodedata\n",
    "from skimpy import skim\n",
    "from tqdm.notebook import tqdm\n",
    "\n",
    "from product_impacts.product_cat.run_model import get_store\n",
    "\n",
    "pd.set_option('display.max_columns', None)\n",
    "pd.set_option('display.max_rows', None)\n",
    "tqdm.pandas()"
   ]
  },
  {
   "cell_type": "markdown",
   "id": "05714347-81d9-405c-b14c-bf71c38b93e1",
   "metadata": {},
   "source": [
    "#### Food db data"
   ]
  },
  {
   "cell_type": "code",
   "execution_count": 3,
   "id": "0a9ad4cf-65a4-4a73-8fc6-794aba67b324",
   "metadata": {},
   "outputs": [
    {
     "name": "stderr",
     "output_type": "stream",
     "text": [
      "/Users/shruti/anaconda3/envs/ct_map/lib/python3.7/site-packages/IPython/core/interactiveshell.py:3457: DtypeWarning: Columns (16) have mixed types.Specify dtype option on import or set low_memory=False.\n",
      "  exec(code_obj, self.user_global_ns, self.user_ns)\n",
      "/Users/shruti/anaconda3/envs/ct_map/lib/python3.7/site-packages/IPython/core/interactiveshell.py:3457: DtypeWarning: Columns (37,38,40,41) have mixed types.Specify dtype option on import or set low_memory=False.\n",
      "  exec(code_obj, self.user_global_ns, self.user_ns)\n"
     ]
    }
   ],
   "source": [
    "fdb = pd.read_csv('../../SFS/NDNS UK/predictions/all_predictions_15Oct2024.csv')\n",
    "\n",
    "products1 = pd.read_csv('../../SFS/all_fooddb_data_extracts/Extract_2019/foodDB_Raw/products.csv', usecols= [\n",
    "    'product_id', 'product_list_name', 'product_name', 'ingredients_text',  \n",
    "    'energy_per_100', 'fat_per_100', 'saturates_per_100', 'salt_per_100', \n",
    "    'sugar_per_100', 'carbohydrate_per_100', 'protein_per_100', 'fibre_per_100',\n",
    "    'serving', 'serving_value', 'serving_unit']).rename(columns={\n",
    "    'serving': 'serving_size', \n",
    "    'serving_value': 'serving_size_value', \n",
    "    'serving_unit': 'serving_size_unit'})\n",
    "products2 = pd.read_csv('../../SFS/all_fooddb_data_extracts/Extract_2021/foodDB_dat/products.csv', usecols= [\n",
    "    'product_id', 'product_list_name', 'product_name', 'ingredients_text', \n",
    "    'energy_per_100', 'fat_per_100', 'saturates_per_100', 'salt_per_100', \n",
    "    'sugar_per_100', 'carbohydrate_per_100', 'protein_per_100', 'fibre_per_100',\n",
    "    'serving', 'serving_value', 'serving_unit']).rename(columns={\n",
    "    'serving': 'serving_size', \n",
    "    'serving_value': 'serving_size_value', \n",
    "    'serving_unit': 'serving_size_unit'})\n",
    "products3 = pd.read_csv('../../SFS/all_fooddb_data_extracts/Extract_2022/May_2022_Extract/products.csv',  usecols= [\n",
    "    'foodDB_product_id', 'product_list_name', 'product_name', 'ingredients_list', \n",
    "    'Energy', 'Fat', 'Saturates', 'Salt', 'Sugar', 'Carbohydrate', 'Fibre', 'Protein',\n",
    "    'serving_size', 'serving_size_value', 'serving_size_unit']).rename(columns={\n",
    "    'foodDB_product_id': 'product_id',\n",
    "    'ingredients_list': 'ingredients_text',\n",
    "    'Energy': 'energy_per_100',\n",
    "    'Fat': 'fat_per_100', \n",
    "    'Saturates': 'saturates_per_100', \n",
    "    'Salt': 'salt_per_100', \n",
    "    'Sugar': 'sugar_per_100', \n",
    "    'Carbohydrate': 'carbohydrate_per_100', \n",
    "    'Protein': 'protein_per_100', \n",
    "    'Fibre': 'fibre_per_100'})\n",
    "products = pd.concat([products1, products2, products3], axis=0, ignore_index=True)\n",
    "\n",
    "products = products.drop_duplicates(['product_id']).reset_index(drop=True)\n",
    "products.loc[(products['product_name'].notnull()) \n",
    "             & (products['product_name'].str.len()>products['product_list_name'].str.len()),\n",
    "             'product_list_name'] = products[\n",
    "    (products['product_name'].notnull()) \n",
    "    & (products['product_name'].str.len()>products['product_list_name'].str.len())]['product_name']\n",
    "products['ingredients_text'] = products['ingredients_text'].fillna('')\n",
    "\n",
    "fdb = products.merge(fdb[['product_id', 'store', 'parentcategory_pred', 'mainfoodgroup_pred', 'subfoodgroup_pred']])"
   ]
  },
  {
   "cell_type": "code",
   "execution_count": 4,
   "id": "e3ab0f0b-f952-4f27-9c87-cf065f2e0905",
   "metadata": {},
   "outputs": [],
   "source": [
    "fdb = fdb[~fdb['parentcategory_pred'].isin(['Alcoholic Beverages', 'Not Food', 'Artificial Sweeteners'])]"
   ]
  },
  {
   "cell_type": "code",
   "execution_count": 5,
   "id": "e2266bc9-cef2-4b8a-bfce-5bef2c0e59ae",
   "metadata": {},
   "outputs": [],
   "source": [
    "# replacing grams with % (doing this separately here as the cleaning function function removes *)\n",
    "exclusion_pattern = r'(?!.*egg\\*\\*)(?!.*veg\\*\\*)(?!.*ing\\*\\*)'\n",
    "pattern = rf'^{exclusion_pattern}.*g\\*\\*.*$'\n",
    "combined_condition = fdb['ingredients_text'].str.contains(pattern, case=False, regex=True)\n",
    "fdb.loc[combined_condition, 'ingredients_text'] = fdb.loc[combined_condition, \n",
    "                                                          'ingredients_text'].str.replace('g**', '%', regex=False)"
   ]
  },
  {
   "cell_type": "code",
   "execution_count": 6,
   "id": "6e63c5c8-68c3-44b0-a078-7a9cdbafbf90",
   "metadata": {},
   "outputs": [
    {
     "data": {
      "text/plain": [
       "(242071, 19)"
      ]
     },
     "execution_count": 6,
     "metadata": {},
     "output_type": "execute_result"
    }
   ],
   "source": [
    "fdb.shape"
   ]
  },
  {
   "cell_type": "code",
   "execution_count": 7,
   "id": "f859747e-9385-4f44-8eb8-5c2ac5922a6a",
   "metadata": {},
   "outputs": [
    {
     "data": {
      "text/plain": [
       "Cereals and Cereal Products             52426\n",
       "Miscellaneous                           27598\n",
       "Meat and Meat Products                  26837\n",
       "Non-Alcoholic Beverages                 25994\n",
       "Sugar, Preserves and Confectionery      25822\n",
       "Vegetables, Potatoes                    23757\n",
       "Milk and Milk Products                  23239\n",
       "Fish and Fish Dishes                     9302\n",
       "Fruit                                    7343\n",
       "Savoury Snacks                           6460\n",
       "Nuts and Seeds                           5057\n",
       "Fat Spreads                              3811\n",
       "Commercial Toddlers Foods and Drinks     2488\n",
       "Eggs and Egg Dishes                      1315\n",
       "Dietary Supplements                       622\n",
       "Name: parentcategory_pred, dtype: int64"
      ]
     },
     "execution_count": 7,
     "metadata": {},
     "output_type": "execute_result"
    }
   ],
   "source": [
    "fdb['parentcategory_pred'].value_counts()"
   ]
  },
  {
   "cell_type": "markdown",
   "id": "b7ac5321-6932-4b0e-8428-62da9d7e7db7",
   "metadata": {},
   "source": [
    "#### Open food facts data"
   ]
  },
  {
   "cell_type": "code",
   "execution_count": 3,
   "id": "7e356887-c12d-41f9-9894-598b0d14104e",
   "metadata": {},
   "outputs": [
    {
     "name": "stderr",
     "output_type": "stream",
     "text": [
      "/Users/shruti/anaconda3/envs/ct_map/lib/python3.7/site-packages/IPython/core/interactiveshell.py:3457: DtypeWarning: Columns (15,16,29) have mixed types.Specify dtype option on import or set low_memory=False.\n",
      "  exec(code_obj, self.user_global_ns, self.user_ns)\n"
     ]
    }
   ],
   "source": [
    "# it is okay to just go with the neaural network oredictions and impose a 0.8 threshold (maybe this is too conservative, can rethink)\n",
    "off = pd.read_csv('../../SFS/openfoodfacts/all/openfoodfacts_lang.csv')\n",
    "# off_non_eng1 = pd.read_csv('../../SFS/openfoodfacts/all/openfoodfacts_non_eng1_temp.csv')\n",
    "\n",
    "# off_whole = off_whole[~off_whole['product_id'].isin(off_non_eng1['product_id'].unique())]\n",
    "# off = pd.concat([off_whole, off_non_eng1], axis=0, ignore_index=True)\n",
    "\n",
    "off = off[['product_id', 'product_name', 'ingredients_text',\n",
    "           'product_name_en', 'ingredients_text_en', 'countries_en', 'stores',\n",
    "           'energy_100g', 'fat_100g', 'saturated-fat_100g', 'carbohydrates_100g', \n",
    "           'fiber_100g', 'proteins_100g', 'sugars_100g', 'salt_100g', \n",
    "           'serving_size', 'serving_quantity']].rename(columns={\n",
    "    'energy_100g': 'energy_per_100', \n",
    "    'fat_100g': 'fat_per_100', \n",
    "    'saturated-fat_100g': 'saturates_per_100', \n",
    "    'salt_100g': 'salt_per_100', \n",
    "    'sugars_100g': 'sugar_per_100',\n",
    "    'carbohydrates_100g': 'carbohydrate_per_100', \n",
    "    'proteins_100g': 'protein_per_100', \n",
    "    'fiber_100g': 'fibre_per_100'})\n",
    "\n",
    "preds = []\n",
    "\n",
    "for prefix in ['eng/', 'non_eng/']:\n",
    "    pred = pd.read_csv(f'../../SFS/openfoodfacts/all/predictions/{prefix}predictions_nn.csv')\n",
    "\n",
    "    pred = pred[(pred['parentcategory_prob']>0.8)\n",
    "                      & ((pred['subfoodgroup_prob'].isna()) | (pred['subfoodgroup_prob']>0.8))]\n",
    "    \n",
    "    preds.append(pred)\n",
    "\n",
    "preds = pd.concat(preds, axis=0, ignore_index=True)\n",
    "off = off.merge(preds)#[['product_id', 'parentcategory', 'mainfoodgroup', 'subfoodgroup']])"
   ]
  },
  {
   "cell_type": "code",
   "execution_count": 15,
   "id": "3d27ed88-c097-48e8-b72e-baf9c8a8fb99",
   "metadata": {},
   "outputs": [],
   "source": [
    "off = off[~off['parentcategory'].isin(['Alcoholic Beverages', 'Not Food', 'Artificial Sweeteners'])]"
   ]
  },
  {
   "cell_type": "code",
   "execution_count": 16,
   "id": "7c2aa6b1-a6c6-4c97-b369-6f0d73e0bc9f",
   "metadata": {},
   "outputs": [],
   "source": [
    "off['ingredients_text_en'] = off['ingredients_text_en'].fillna('')"
   ]
  },
  {
   "cell_type": "code",
   "execution_count": 17,
   "id": "dc0cc7bb-6c2f-49f4-ac26-4e6b06f9d31f",
   "metadata": {},
   "outputs": [
    {
     "data": {
      "text/plain": [
       "(851860, 22)"
      ]
     },
     "execution_count": 17,
     "metadata": {},
     "output_type": "execute_result"
    }
   ],
   "source": [
    "off.shape"
   ]
  },
  {
   "cell_type": "code",
   "execution_count": 18,
   "id": "178ce711-4015-43ee-84d6-04d09f99102a",
   "metadata": {},
   "outputs": [
    {
     "data": {
      "text/plain": [
       "(668994, 22)"
      ]
     },
     "execution_count": 18,
     "metadata": {},
     "output_type": "execute_result"
    }
   ],
   "source": [
    "off[off['ingredients_text_en']!=''].shape"
   ]
  },
  {
   "cell_type": "code",
   "execution_count": 19,
   "id": "86185ce2-540d-4a56-a3ab-befbddb45f6a",
   "metadata": {},
   "outputs": [
    {
     "data": {
      "text/plain": [
       "United States           225155\n",
       "France                  188847\n",
       "Germany                  49598\n",
       "United Kingdom           27809\n",
       "Spain                    24811\n",
       "Switzerland              17127\n",
       "Italy                    16106\n",
       "Belgium                  13718\n",
       "World                    13400\n",
       "Canada                    9243\n",
       "Netherlands               8275\n",
       "Australia                 6758\n",
       "Poland                    5000\n",
       "Ireland                   4324\n",
       "Austria                   3413\n",
       "Mexico                    3366\n",
       "Bulgaria                  3342\n",
       "Portugal                  3295\n",
       "Sweden                    2990\n",
       "Czech Republic            2606\n",
       "Norway                    2576\n",
       "New Zealand               2404\n",
       "Romania                   2375\n",
       "Finland                   2323\n",
       "Argentina                 1888\n",
       "Russia                    1767\n",
       "Thailand                  1764\n",
       "Bolivia                   1734\n",
       "Brazil                    1499\n",
       "India                     1459\n",
       "Hungary                   1309\n",
       "Croatia                   1217\n",
       "Luxembourg                1168\n",
       "Denmark                   1103\n",
       "Morocco                    981\n",
       "South Africa               837\n",
       "Réunion                    763\n",
       "Tunisia                    756\n",
       "Colombia                   717\n",
       "Chile                      710\n",
       "Greece                     686\n",
       "Algeria                    646\n",
       "Singapore                  625\n",
       "Serbia                     602\n",
       "Japan                      564\n",
       "Slovenia                   477\n",
       "Slovakia                   456\n",
       "Lithuania                  411\n",
       "French Polynesia           387\n",
       "Guadeloupe                 356\n",
       "Hong Kong                  351\n",
       "Latvia                     335\n",
       "Philippines                330\n",
       "Indonesia                  330\n",
       "Saudi Arabia               312\n",
       "Turkey                     303\n",
       "Martinique                 302\n",
       "Peru                       286\n",
       "United Arab Emirates       252\n",
       "Ukraine                    247\n",
       "New Caledonia              230\n",
       "Costa Rica                 202\n",
       "Panama                     194\n",
       "Estonia                    188\n",
       "Israel                     163\n",
       "Malaysia                   159\n",
       "Qatar                      126\n",
       "Ecuador                    121\n",
       "Puerto Rico                110\n",
       "Lebanon                    109\n",
       "Iraq                       107\n",
       "Kuwait                     105\n",
       "Venezuela                   94\n",
       "Egypt                       84\n",
       "Cyprus                      73\n",
       "Cuba                        71\n",
       "South Korea                 67\n",
       "Name: countries_en, dtype: int64"
      ]
     },
     "execution_count": 19,
     "metadata": {},
     "output_type": "execute_result"
    }
   ],
   "source": [
    "off[off['ingredients_text_en']!='']['countries_en'].value_counts()"
   ]
  },
  {
   "cell_type": "code",
   "execution_count": 20,
   "id": "0a1bc0bd-4045-464c-bf0b-28a37ef085cc",
   "metadata": {},
   "outputs": [
    {
     "data": {
      "text/plain": [
       "United States           287081\n",
       "France                  210206\n",
       "Germany                  55663\n",
       "United Kingdom           46711\n",
       "Spain                    29344\n",
       "World                    24736\n",
       "Canada                   19921\n",
       "Switzerland              19894\n",
       "Italy                    19420\n",
       "Belgium                  16507\n",
       "Australia                16488\n",
       "Ireland                  12260\n",
       "Netherlands               9276\n",
       "Poland                    5486\n",
       "New Zealand               4017\n",
       "Austria                   3820\n",
       "Sweden                    3684\n",
       "Mexico                    3613\n",
       "Bulgaria                  3550\n",
       "Portugal                  3481\n",
       "Norway                    2993\n",
       "Czech Republic            2972\n",
       "Finland                   2815\n",
       "Romania                   2733\n",
       "India                     2202\n",
       "Thailand                  2058\n",
       "Brazil                    2050\n",
       "Argentina                 1993\n",
       "Russia                    1893\n",
       "South Africa              1841\n",
       "Bolivia                   1775\n",
       "Singapore                 1648\n",
       "Luxembourg                1640\n",
       "Denmark                   1611\n",
       "Japan                     1587\n",
       "Hungary                   1578\n",
       "Saudi Arabia              1345\n",
       "Croatia                   1322\n",
       "Morocco                   1192\n",
       "Greece                    1086\n",
       "Philippines               1035\n",
       "United Arab Emirates       925\n",
       "Réunion                    856\n",
       "Tunisia                    807\n",
       "Colombia                   794\n",
       "Chile                      785\n",
       "Algeria                    733\n",
       "Serbia                     677\n",
       "Hong Kong                  675\n",
       "Slovakia                   628\n",
       "Indonesia                  610\n",
       "Lithuania                  596\n",
       "Malaysia                   575\n",
       "Slovenia                   574\n",
       "Qatar                      554\n",
       "French Polynesia           510\n",
       "Puerto Rico                502\n",
       "Israel                     451\n",
       "Latvia                     440\n",
       "New Caledonia              414\n",
       "Cuba                       410\n",
       "Guadeloupe                 397\n",
       "Turkey                     392\n",
       "Kuwait                     390\n",
       "Ukraine                    361\n",
       "Lebanon                    338\n",
       "Egypt                      336\n",
       "Peru                       332\n",
       "Estonia                    324\n",
       "Martinique                 315\n",
       "Cyprus                     296\n",
       "Costa Rica                 277\n",
       "Panama                     267\n",
       "South Korea                266\n",
       "Iraq                       245\n",
       "Ecuador                    152\n",
       "Venezuela                  129\n",
       "Name: countries_en, dtype: int64"
      ]
     },
     "execution_count": 20,
     "metadata": {},
     "output_type": "execute_result"
    }
   ],
   "source": [
    "off['countries_en'].value_counts()"
   ]
  },
  {
   "cell_type": "code",
   "execution_count": 21,
   "id": "f251ef48-abcf-4157-b720-c82493a0733e",
   "metadata": {},
   "outputs": [
    {
     "data": {
      "text/plain": [
       "Cereals and Cereal Products             165729\n",
       "Sugar, Preserves and Confectionery      116424\n",
       "Milk and Milk Products                  102494\n",
       "Meat and Meat Products                   89076\n",
       "Miscellaneous                            86032\n",
       "Vegetables, Potatoes                     78080\n",
       "Non-Alcoholic Beverages                  71801\n",
       "Nuts and Seeds                           33708\n",
       "Fruit                                    31383\n",
       "Fish and Fish Dishes                     30760\n",
       "Savoury Snacks                           24131\n",
       "Fat Spreads                              14336\n",
       "Eggs and Egg Dishes                       4308\n",
       "Dietary Supplements                       2750\n",
       "Commercial Toddlers Foods and Drinks       848\n",
       "Name: parentcategory, dtype: int64"
      ]
     },
     "execution_count": 21,
     "metadata": {},
     "output_type": "execute_result"
    }
   ],
   "source": [
    "off['parentcategory'].value_counts()"
   ]
  },
  {
   "cell_type": "code",
   "execution_count": 22,
   "id": "d310e017-208d-4c37-a6f7-eefa2cb6edc1",
   "metadata": {},
   "outputs": [
    {
     "data": {
      "text/html": [
       "<div>\n",
       "<style scoped>\n",
       "    .dataframe tbody tr th:only-of-type {\n",
       "        vertical-align: middle;\n",
       "    }\n",
       "\n",
       "    .dataframe tbody tr th {\n",
       "        vertical-align: top;\n",
       "    }\n",
       "\n",
       "    .dataframe thead th {\n",
       "        text-align: right;\n",
       "    }\n",
       "</style>\n",
       "<table border=\"1\" class=\"dataframe\">\n",
       "  <thead>\n",
       "    <tr style=\"text-align: right;\">\n",
       "      <th>parentcategory</th>\n",
       "      <th>Cereals and Cereal Products</th>\n",
       "      <th>Commercial Toddlers Foods and Drinks</th>\n",
       "      <th>Dietary Supplements</th>\n",
       "      <th>Eggs and Egg Dishes</th>\n",
       "      <th>Fat Spreads</th>\n",
       "      <th>Fish and Fish Dishes</th>\n",
       "      <th>Fruit</th>\n",
       "      <th>Meat and Meat Products</th>\n",
       "      <th>Milk and Milk Products</th>\n",
       "      <th>Miscellaneous</th>\n",
       "      <th>Non-Alcoholic Beverages</th>\n",
       "      <th>Nuts and Seeds</th>\n",
       "      <th>Savoury Snacks</th>\n",
       "      <th>Sugar, Preserves and Confectionery</th>\n",
       "      <th>Vegetables, Potatoes</th>\n",
       "    </tr>\n",
       "    <tr>\n",
       "      <th>countries_en</th>\n",
       "      <th></th>\n",
       "      <th></th>\n",
       "      <th></th>\n",
       "      <th></th>\n",
       "      <th></th>\n",
       "      <th></th>\n",
       "      <th></th>\n",
       "      <th></th>\n",
       "      <th></th>\n",
       "      <th></th>\n",
       "      <th></th>\n",
       "      <th></th>\n",
       "      <th></th>\n",
       "      <th></th>\n",
       "      <th></th>\n",
       "    </tr>\n",
       "  </thead>\n",
       "  <tbody>\n",
       "    <tr>\n",
       "      <th>Australia</th>\n",
       "      <td>2584</td>\n",
       "      <td>9</td>\n",
       "      <td>40</td>\n",
       "      <td>102</td>\n",
       "      <td>229</td>\n",
       "      <td>544</td>\n",
       "      <td>756</td>\n",
       "      <td>2059</td>\n",
       "      <td>1965</td>\n",
       "      <td>1666</td>\n",
       "      <td>1348</td>\n",
       "      <td>813</td>\n",
       "      <td>493</td>\n",
       "      <td>2177</td>\n",
       "      <td>1703</td>\n",
       "    </tr>\n",
       "    <tr>\n",
       "      <th>Belgium</th>\n",
       "      <td>2975</td>\n",
       "      <td>14</td>\n",
       "      <td>45</td>\n",
       "      <td>87</td>\n",
       "      <td>315</td>\n",
       "      <td>652</td>\n",
       "      <td>663</td>\n",
       "      <td>1776</td>\n",
       "      <td>2020</td>\n",
       "      <td>1435</td>\n",
       "      <td>1614</td>\n",
       "      <td>639</td>\n",
       "      <td>305</td>\n",
       "      <td>2292</td>\n",
       "      <td>1675</td>\n",
       "    </tr>\n",
       "    <tr>\n",
       "      <th>Canada</th>\n",
       "      <td>3459</td>\n",
       "      <td>11</td>\n",
       "      <td>101</td>\n",
       "      <td>101</td>\n",
       "      <td>292</td>\n",
       "      <td>523</td>\n",
       "      <td>873</td>\n",
       "      <td>1833</td>\n",
       "      <td>2062</td>\n",
       "      <td>2027</td>\n",
       "      <td>1756</td>\n",
       "      <td>982</td>\n",
       "      <td>755</td>\n",
       "      <td>3037</td>\n",
       "      <td>2109</td>\n",
       "    </tr>\n",
       "    <tr>\n",
       "      <th>France</th>\n",
       "      <td>37657</td>\n",
       "      <td>321</td>\n",
       "      <td>493</td>\n",
       "      <td>1556</td>\n",
       "      <td>4416</td>\n",
       "      <td>11481</td>\n",
       "      <td>8325</td>\n",
       "      <td>27146</td>\n",
       "      <td>25275</td>\n",
       "      <td>16168</td>\n",
       "      <td>18063</td>\n",
       "      <td>5989</td>\n",
       "      <td>2628</td>\n",
       "      <td>32378</td>\n",
       "      <td>18310</td>\n",
       "    </tr>\n",
       "    <tr>\n",
       "      <th>Germany</th>\n",
       "      <td>9435</td>\n",
       "      <td>46</td>\n",
       "      <td>277</td>\n",
       "      <td>259</td>\n",
       "      <td>1018</td>\n",
       "      <td>1583</td>\n",
       "      <td>2094</td>\n",
       "      <td>5898</td>\n",
       "      <td>7546</td>\n",
       "      <td>5801</td>\n",
       "      <td>5010</td>\n",
       "      <td>2121</td>\n",
       "      <td>873</td>\n",
       "      <td>7307</td>\n",
       "      <td>6395</td>\n",
       "    </tr>\n",
       "    <tr>\n",
       "      <th>Ireland</th>\n",
       "      <td>1834</td>\n",
       "      <td>4</td>\n",
       "      <td>31</td>\n",
       "      <td>83</td>\n",
       "      <td>121</td>\n",
       "      <td>442</td>\n",
       "      <td>451</td>\n",
       "      <td>2598</td>\n",
       "      <td>1415</td>\n",
       "      <td>1049</td>\n",
       "      <td>737</td>\n",
       "      <td>537</td>\n",
       "      <td>327</td>\n",
       "      <td>1295</td>\n",
       "      <td>1336</td>\n",
       "    </tr>\n",
       "    <tr>\n",
       "      <th>Italy</th>\n",
       "      <td>5260</td>\n",
       "      <td>22</td>\n",
       "      <td>42</td>\n",
       "      <td>76</td>\n",
       "      <td>317</td>\n",
       "      <td>913</td>\n",
       "      <td>606</td>\n",
       "      <td>1213</td>\n",
       "      <td>3057</td>\n",
       "      <td>1218</td>\n",
       "      <td>1545</td>\n",
       "      <td>654</td>\n",
       "      <td>283</td>\n",
       "      <td>2269</td>\n",
       "      <td>1945</td>\n",
       "    </tr>\n",
       "    <tr>\n",
       "      <th>Spain</th>\n",
       "      <td>5335</td>\n",
       "      <td>12</td>\n",
       "      <td>124</td>\n",
       "      <td>119</td>\n",
       "      <td>641</td>\n",
       "      <td>1210</td>\n",
       "      <td>1104</td>\n",
       "      <td>2216</td>\n",
       "      <td>4201</td>\n",
       "      <td>2304</td>\n",
       "      <td>2565</td>\n",
       "      <td>914</td>\n",
       "      <td>544</td>\n",
       "      <td>4660</td>\n",
       "      <td>3395</td>\n",
       "    </tr>\n",
       "    <tr>\n",
       "      <th>Switzerland</th>\n",
       "      <td>3648</td>\n",
       "      <td>30</td>\n",
       "      <td>73</td>\n",
       "      <td>102</td>\n",
       "      <td>389</td>\n",
       "      <td>644</td>\n",
       "      <td>844</td>\n",
       "      <td>1679</td>\n",
       "      <td>2879</td>\n",
       "      <td>1775</td>\n",
       "      <td>1871</td>\n",
       "      <td>672</td>\n",
       "      <td>263</td>\n",
       "      <td>3199</td>\n",
       "      <td>1826</td>\n",
       "    </tr>\n",
       "    <tr>\n",
       "      <th>United Kingdom</th>\n",
       "      <td>8648</td>\n",
       "      <td>76</td>\n",
       "      <td>233</td>\n",
       "      <td>343</td>\n",
       "      <td>624</td>\n",
       "      <td>1868</td>\n",
       "      <td>1800</td>\n",
       "      <td>7288</td>\n",
       "      <td>4460</td>\n",
       "      <td>4570</td>\n",
       "      <td>3172</td>\n",
       "      <td>1632</td>\n",
       "      <td>1627</td>\n",
       "      <td>5186</td>\n",
       "      <td>5184</td>\n",
       "    </tr>\n",
       "    <tr>\n",
       "      <th>United States</th>\n",
       "      <td>61878</td>\n",
       "      <td>167</td>\n",
       "      <td>740</td>\n",
       "      <td>1018</td>\n",
       "      <td>3124</td>\n",
       "      <td>7471</td>\n",
       "      <td>9511</td>\n",
       "      <td>27714</td>\n",
       "      <td>30555</td>\n",
       "      <td>37214</td>\n",
       "      <td>22331</td>\n",
       "      <td>12880</td>\n",
       "      <td>12376</td>\n",
       "      <td>37664</td>\n",
       "      <td>22438</td>\n",
       "    </tr>\n",
       "  </tbody>\n",
       "</table>\n",
       "</div>"
      ],
      "text/plain": [
       "parentcategory  Cereals and Cereal Products  \\\n",
       "countries_en                                  \n",
       "Australia                              2584   \n",
       "Belgium                                2975   \n",
       "Canada                                 3459   \n",
       "France                                37657   \n",
       "Germany                                9435   \n",
       "Ireland                                1834   \n",
       "Italy                                  5260   \n",
       "Spain                                  5335   \n",
       "Switzerland                            3648   \n",
       "United Kingdom                         8648   \n",
       "United States                         61878   \n",
       "\n",
       "parentcategory  Commercial Toddlers Foods and Drinks  Dietary Supplements  \\\n",
       "countries_en                                                                \n",
       "Australia                                          9                   40   \n",
       "Belgium                                           14                   45   \n",
       "Canada                                            11                  101   \n",
       "France                                           321                  493   \n",
       "Germany                                           46                  277   \n",
       "Ireland                                            4                   31   \n",
       "Italy                                             22                   42   \n",
       "Spain                                             12                  124   \n",
       "Switzerland                                       30                   73   \n",
       "United Kingdom                                    76                  233   \n",
       "United States                                    167                  740   \n",
       "\n",
       "parentcategory  Eggs and Egg Dishes  Fat Spreads  Fish and Fish Dishes  Fruit  \\\n",
       "countries_en                                                                    \n",
       "Australia                       102          229                   544    756   \n",
       "Belgium                          87          315                   652    663   \n",
       "Canada                          101          292                   523    873   \n",
       "France                         1556         4416                 11481   8325   \n",
       "Germany                         259         1018                  1583   2094   \n",
       "Ireland                          83          121                   442    451   \n",
       "Italy                            76          317                   913    606   \n",
       "Spain                           119          641                  1210   1104   \n",
       "Switzerland                     102          389                   644    844   \n",
       "United Kingdom                  343          624                  1868   1800   \n",
       "United States                  1018         3124                  7471   9511   \n",
       "\n",
       "parentcategory  Meat and Meat Products  Milk and Milk Products  Miscellaneous  \\\n",
       "countries_en                                                                    \n",
       "Australia                         2059                    1965           1666   \n",
       "Belgium                           1776                    2020           1435   \n",
       "Canada                            1833                    2062           2027   \n",
       "France                           27146                   25275          16168   \n",
       "Germany                           5898                    7546           5801   \n",
       "Ireland                           2598                    1415           1049   \n",
       "Italy                             1213                    3057           1218   \n",
       "Spain                             2216                    4201           2304   \n",
       "Switzerland                       1679                    2879           1775   \n",
       "United Kingdom                    7288                    4460           4570   \n",
       "United States                    27714                   30555          37214   \n",
       "\n",
       "parentcategory  Non-Alcoholic Beverages  Nuts and Seeds  Savoury Snacks  \\\n",
       "countries_en                                                              \n",
       "Australia                          1348             813             493   \n",
       "Belgium                            1614             639             305   \n",
       "Canada                             1756             982             755   \n",
       "France                            18063            5989            2628   \n",
       "Germany                            5010            2121             873   \n",
       "Ireland                             737             537             327   \n",
       "Italy                              1545             654             283   \n",
       "Spain                              2565             914             544   \n",
       "Switzerland                        1871             672             263   \n",
       "United Kingdom                     3172            1632            1627   \n",
       "United States                     22331           12880           12376   \n",
       "\n",
       "parentcategory  Sugar, Preserves and Confectionery  Vegetables, Potatoes  \n",
       "countries_en                                                              \n",
       "Australia                                     2177                  1703  \n",
       "Belgium                                       2292                  1675  \n",
       "Canada                                        3037                  2109  \n",
       "France                                       32378                 18310  \n",
       "Germany                                       7307                  6395  \n",
       "Ireland                                       1295                  1336  \n",
       "Italy                                         2269                  1945  \n",
       "Spain                                         4660                  3395  \n",
       "Switzerland                                   3199                  1826  \n",
       "United Kingdom                                5186                  5184  \n",
       "United States                                37664                 22438  "
      ]
     },
     "execution_count": 22,
     "metadata": {},
     "output_type": "execute_result"
    }
   ],
   "source": [
    "off[off['countries_en'].isin(['United States', 'France', 'United Kingdom', 'Germany',\n",
    "                              'Spain', 'Switzerland', 'Italy', 'Canada', 'Belgium',\n",
    "                              'Australia', 'Ireland'])].groupby(\n",
    "    ['countries_en', 'parentcategory']).count()[['product_id']].reset_index().pivot(\n",
    "    index='countries_en', columns='parentcategory', values='product_id')"
   ]
  },
  {
   "cell_type": "markdown",
   "id": "ceef34f7-ca9e-4751-a4b7-c90c19f98490",
   "metadata": {},
   "source": [
    "#### Generic cleaning funciton - can be applied to both food db and open food facts"
   ]
  },
  {
   "cell_type": "code",
   "execution_count": 17,
   "id": "7d90cdab-64a3-46a7-844a-63132c8d9d8a",
   "metadata": {},
   "outputs": [],
   "source": [
    "def clean_ingredients(text, is_fdb=True):\n",
    "    \n",
    "    # Mapping for special characters not handled by unicodedata\n",
    "    special_replacements = {\n",
    "        'ß': 'ss',\n",
    "        'Æ': 'ae',\n",
    "        'æ': 'ae',\n",
    "        'Œ': 'oe',\n",
    "        'œ': 'oe',\n",
    "        'Ø': 'o',\n",
    "        'ø': 'o',\n",
    "        'Đ': 'd',\n",
    "        'đ': 'd',\n",
    "        'Þ': 'th',\n",
    "        'þ': 'th',\n",
    "        # Add more mappings as needed\n",
    "    }\n",
    "    \n",
    "    # Removing unwanted characters and words\n",
    "    text = text.lower()\n",
    "    text = text.replace(\"*\", \" \").replace(\"_\", \" \").replace(\"’\", \"'\").replace(\"?\", \" \").replace(\"=\", \" \").replace(\"^\", \" \")\n",
    "    text = re.sub(' +', ' ', text)\n",
    "    text = text.replace(\";\", \",\").replace(\",,\", \",\").replace(\", ,\", \",\")\n",
    "    text = text.replace(\": (\", \"(\")\n",
    "    text = text.replace(\"“\", \"\").replace(\"”\", \"\")\n",
    "    text = text.replace(\"& quot;\", \"\")  # remove html encoded quotes\n",
    "    text = text.replace(\"â€\\xa0\", \"\")\n",
    "    text = text.replace(\"\\u200b\", \"\")\n",
    "    text = text.replace(\"&\", \"and\")      # replace ampersand\n",
    "    text = text.replace('ingredients:', '')\n",
    "    text = text.replace('ingredients list:', '')\n",
    "    text = re.sub(r'(?<!\\s)\\(', ' (', text)\n",
    "    \n",
    "    # removing diacritics and replacing special Latin characters\n",
    "    for char, replacement in special_replacements.items():\n",
    "        text = text.replace(char, replacement)\n",
    "    # Normalize the string to NFD (Normalization Form Decomposition)\n",
    "    text = unicodedata.normalize('NFD', text)\n",
    "    # Remove combining diacritical marks\n",
    "    text = re.sub(r'[\\u0300-\\u036f]', '', text)\n",
    "    \n",
    "    # Converting brackets to parentheses\n",
    "    text = re.sub(\"\\[|\\{\",\"(\", text)\n",
    "    text = re.sub(\"\\]|\\}\",\")\", text)\n",
    "\n",
    "    # Replacing \"per cent\" with \"%\"\n",
    "    text = re.sub(r\"per(\\s)?cent\", \"%\", text)\n",
    "    text = text.replace(\" %\", \"%\")\n",
    "    text = text.replace(\"%\", \"% \")\n",
    "    text = text.replace(\"( \", \"(\").replace(\" )\", \")\")\n",
    "    text = re.sub(' +', ' ', text)\n",
    "    text = text.replace(\"%%\", \"%\")\n",
    "    \n",
    "    # Fix \"(10% brown\" → \"(10%) brown\"\n",
    "    text = re.sub(r'\\((\\d+(?:\\.\\d+)?)%(\\s)', r'(\\1%)\\2', text)\n",
    "    # Fix \"grapes 10%)\" → \"grapes (10%)\" \n",
    "    text = re.sub(r'\\s+([+-]?\\d+(?:\\.\\d+)?)%\\)', r' (\\1%)', text)\n",
    "    # Fix \"10%\" → \"(10%)\"\n",
    "    text = re.sub(r'(?<!\\()(\\d+(?:\\.\\d+)?)%(?!\\))', r'(\\1%)', text)\n",
    "    \n",
    "    # Removing specific allergen advice text and other labels\n",
    "    if is_fdb:\n",
    "        text = text.replace(\"allergy Advice: for allergens see highlighted ingredients\", \"\")\n",
    "        text = text.replace(\"for allergens, see undelined ingredients in bold.\", \"\")\n",
    "    text = re.sub(r'allerg.*', '', text)\n",
    "    text = re.sub(r'it may contain.*', '', text)\n",
    "    text = re.sub(r'may contain.*', '', text)\n",
    "    text = re.sub(r'our method.*', '', text)\n",
    "    text = re.sub(r'www.*', '', text)\n",
    "    text = re.sub(r'dietary advice.*', '', text)\n",
    "    text = re.sub(r'not suitable for.*', '', text)\n",
    "    text = re.sub(r'suitable for.*', '', text)\n",
    "    text = re.sub(r'this product is made in.*', '', text)\n",
    "    text = re.sub(r'made in.*', '', text)\n",
    "    text = re.sub(r'free from.*', '', text)\n",
    "    text = re.sub(r'rainforest alliance.*', '', text)\n",
    "    text = re.sub(r'organic ingredients certified.*', '', text)\n",
    "    text = re.sub(r'certified organic ingredients.*', '', text)\n",
    "    text = re.sub(r'from sustainably grown.*', '', text)\n",
    "    text = text.replace('sustainably grown', '')\n",
    "    text = re.sub(r'†from.*', '', text)\n",
    "    text = text.replace(\"†\", \" \").strip()\n",
    "    text = re.sub(' +', ' ', text)\n",
    "\n",
    "    # removing empty brackets\n",
    "    text = text.replace(\"()\",\" \").strip()\n",
    "    text = re.sub(' +', ' ', text)\n",
    "    \n",
    "    return text"
   ]
  },
  {
   "cell_type": "code",
   "execution_count": 18,
   "id": "52344361-2110-47e4-9449-e08fb07f813b",
   "metadata": {},
   "outputs": [
    {
     "data": {
      "application/vnd.jupyter.widget-view+json": {
       "model_id": "63a75208a69446189e00593e50751b4f",
       "version_major": 2,
       "version_minor": 0
      },
      "text/plain": [
       "  0%|          | 0/242071 [00:00<?, ?it/s]"
      ]
     },
     "metadata": {},
     "output_type": "display_data"
    }
   ],
   "source": [
    "fdb['ingredients_text'] = fdb.progress_apply(lambda row: clean_ingredients(row['ingredients_text'], True), axis=1)"
   ]
  },
  {
   "cell_type": "code",
   "execution_count": 19,
   "id": "3e6c3624-5508-457d-ad71-107bcfaf7b83",
   "metadata": {},
   "outputs": [
    {
     "data": {
      "application/vnd.jupyter.widget-view+json": {
       "model_id": "0c026262c73e4c459fc58aea27f4b807",
       "version_major": 2,
       "version_minor": 0
      },
      "text/plain": [
       "  0%|          | 0/851860 [00:00<?, ?it/s]"
      ]
     },
     "metadata": {},
     "output_type": "display_data"
    }
   ],
   "source": [
    "off['ingredients_text_en'] = off.progress_apply(lambda row: clean_ingredients(row['ingredients_text_en'], False), axis=1)"
   ]
  },
  {
   "cell_type": "markdown",
   "id": "fc9ea5ff-7592-427e-b66b-fc246af29826",
   "metadata": {},
   "source": [
    "#### cleaning functions only for open food facts"
   ]
  },
  {
   "cell_type": "code",
   "execution_count": 20,
   "id": "ead08498-f105-4bf1-9c91-5110e55ddf4b",
   "metadata": {},
   "outputs": [],
   "source": [
    "def clean_ingredients2(text):\n",
    "    \n",
    "    # handling ' - ' separaters \n",
    "    if ',' not in text:\n",
    "        text = text.replace(\" - \", \", \")\n",
    "        \n",
    "    # removing origin: ...\n",
    "    text = re.sub(\"\\(origin:[^)]*\\)\", \"\", text)\n",
    "    text = re.sub(\"\\(country of origin:[^)]*\\)\", \"\", text)\n",
    "    text = re.sub(\"origin:[^.]*\\.\", \"\", text)\n",
    "    \n",
    "    text = re.sub(r'although every care.*', '', text)\n",
    "    \n",
    "    return text"
   ]
  },
  {
   "cell_type": "code",
   "execution_count": 21,
   "id": "58436ffd-114c-4ade-aab8-670d5f5acb7d",
   "metadata": {},
   "outputs": [],
   "source": [
    "off['ingredients_text_en'] = off.apply(lambda row: clean_ingredients2(row['ingredients_text_en']), axis=1)"
   ]
  },
  {
   "cell_type": "code",
   "execution_count": 22,
   "id": "a4963b78-a627-4dc2-a87b-235563a89f30",
   "metadata": {},
   "outputs": [],
   "source": [
    "off = off[off['countries_en'].isin(['United States', 'France', 'United Kingdom', 'Germany',\n",
    "                                    'Spain', 'Switzerland', 'Italy', 'Canada', 'Belgium',\n",
    "                                    'Australia', 'Ireland'])].reset_index(drop=True)"
   ]
  },
  {
   "cell_type": "code",
   "execution_count": 23,
   "id": "2e2d6eff-fd9f-4858-8b4a-1e3bf78af5e5",
   "metadata": {},
   "outputs": [],
   "source": [
    "# 2 rows have large and weird strings, removing those\n",
    "off.loc[(off['ingredients_text_en'].str.contains('helado sabor a vainilla 55,(5%)', regex=False)), \n",
    "        'ingredients_text_en'] = ''"
   ]
  },
  {
   "cell_type": "code",
   "execution_count": 24,
   "id": "e66854e2-94f4-455b-ab71-e01681864a74",
   "metadata": {},
   "outputs": [],
   "source": [
    "allowed_pattern = r'^[A-Za-z0-9.\\(\\),% ]+$' # allowing only alphanumeric, periods, percentages, parantheses, commas\n",
    "off1 = off[(off['ingredients_text_en'].str.match(allowed_pattern))\n",
    "           | (off['ingredients_text_en']=='')\n",
    "          ]\n",
    "\n",
    "off2 = off[(~off['ingredients_text_en'].str.match(allowed_pattern))\n",
    "           & (off['ingredients_text_en']!='')\n",
    "          ]"
   ]
  },
  {
   "cell_type": "code",
   "execution_count": 25,
   "id": "75fa1c72-c16d-4094-b827-7126f9a77240",
   "metadata": {},
   "outputs": [
    {
     "data": {
      "text/plain": [
       "(452455, 22)"
      ]
     },
     "execution_count": 25,
     "metadata": {},
     "output_type": "execute_result"
    }
   ],
   "source": [
    "off1.shape"
   ]
  },
  {
   "cell_type": "code",
   "execution_count": 26,
   "id": "260eba78-a4af-403a-b137-894fb6ac3cf9",
   "metadata": {},
   "outputs": [
    {
     "data": {
      "text/plain": [
       "(281040, 22)"
      ]
     },
     "execution_count": 26,
     "metadata": {},
     "output_type": "execute_result"
    }
   ],
   "source": [
    "off2.shape # figure out if any of these are usable"
   ]
  },
  {
   "cell_type": "code",
   "execution_count": 27,
   "id": "8c8664d5-fb76-4e6d-a5c4-9958b23e98ba",
   "metadata": {},
   "outputs": [
    {
     "data": {
      "text/plain": [
       "United States     193036\n",
       "France            104344\n",
       "United Kingdom     34568\n",
       "Germany            30048\n",
       "Spain              18172\n",
       "Canada             15868\n",
       "Australia          14462\n",
       "Switzerland        11707\n",
       "Italy              10838\n",
       "Ireland            10057\n",
       "Belgium             9355\n",
       "Name: countries_en, dtype: int64"
      ]
     },
     "execution_count": 27,
     "metadata": {},
     "output_type": "execute_result"
    }
   ],
   "source": [
    "off1['countries_en'].value_counts()"
   ]
  },
  {
   "cell_type": "code",
   "execution_count": 28,
   "id": "fb50ef3a-f80d-484d-889f-143bee239633",
   "metadata": {},
   "outputs": [
    {
     "data": {
      "text/plain": [
       "United States     131074\n",
       "France             82890\n",
       "Germany            23969\n",
       "United Kingdom     15630\n",
       "Spain              13629\n",
       "Switzerland         8930\n",
       "Italy               7517\n",
       "Belgium             6558\n",
       "Canada              5188\n",
       "Australia           4725\n",
       "Ireland             2114\n",
       "Name: countries_en, dtype: int64"
      ]
     },
     "execution_count": 28,
     "metadata": {},
     "output_type": "execute_result"
    }
   ],
   "source": [
    "off1[off1['ingredients_text_en']!='']['countries_en'].value_counts()"
   ]
  },
  {
   "cell_type": "code",
   "execution_count": 29,
   "id": "7b222e4e-989d-4ff9-9183-67366a58cd40",
   "metadata": {},
   "outputs": [
    {
     "data": {
      "text/plain": [
       "France            105862\n",
       "United States      94045\n",
       "Germany            25615\n",
       "United Kingdom     12143\n",
       "Spain              11172\n",
       "Italy               8582\n",
       "Switzerland         8187\n",
       "Belgium             7152\n",
       "Canada              4053\n",
       "Ireland             2203\n",
       "Australia           2026\n",
       "Name: countries_en, dtype: int64"
      ]
     },
     "execution_count": 29,
     "metadata": {},
     "output_type": "execute_result"
    }
   ],
   "source": [
    "off2['countries_en'].value_counts()"
   ]
  },
  {
   "cell_type": "code",
   "execution_count": 30,
   "id": "9e2a697f-c5e2-45d8-a9cb-589e21b9901c",
   "metadata": {},
   "outputs": [],
   "source": [
    "def correct_structure(s, max_iterations=10):\n",
    "    \"\"\"\n",
    "    Corrects the structure of the input string by ensuring that percentages\n",
    "    are placed immediately after the relevant words within each segment.\n",
    "\n",
    "    Args:\n",
    "        s (str): The input string to be corrected.\n",
    "\n",
    "    Returns:\n",
    "        str: The corrected string with properly structured segments.\n",
    "    \"\"\"\n",
    "    s = re.sub(' +', ' ', s)\n",
    "    s = re.sub(r'\\.$', '', s)\n",
    "    s = re.sub(r'\\,$', '', s)\n",
    "\n",
    "    # Pattern 1: (percentage) word => word (percentage)\n",
    "    pattern1 = re.compile(r'\\((\\d+(\\.\\d+)?)%\\)\\s+([^(),]+)')\n",
    "    replacement1 = r'\\3 (\\1%)'\n",
    "\n",
    "    # Pattern 2: word (description) (percentage) => word (percentage) (description)\n",
    "    pattern2 = re.compile(r'([^(),]+)\\s*\\(([^()]+)\\)\\s*\\((\\d+(\\.\\d+)?)%\\)')\n",
    "    replacement2 = r'\\1 (\\3%) (\\2)'\n",
    "\n",
    "    iterations = 0\n",
    "    previous_s = None\n",
    "\n",
    "    while previous_s != s and iterations < max_iterations:\n",
    "        previous_s = s\n",
    "        s = pattern1.sub(replacement1, s)\n",
    "        s = pattern2.sub(replacement2, s)\n",
    "        iterations += 1\n",
    "\n",
    "    if iterations >= max_iterations:\n",
    "        # Optionally, log the problematic string for debugging\n",
    "        # print(f\"Max iterations reached. Replacing string with empty string: {s}\")\n",
    "        return ''\n",
    "    \n",
    "    # Clean up any extra spaces resulting from substitutions\n",
    "    s = re.sub(r'\\s+', ' ', s)\n",
    "    \n",
    "    s = s.replace('(', ' (')\n",
    "    s = re.sub(' +', ' ', s)\n",
    "\n",
    "    return s.strip()"
   ]
  },
  {
   "cell_type": "code",
   "execution_count": 31,
   "id": "50e5f15a-dc78-4c63-8f45-d65350faa2a6",
   "metadata": {},
   "outputs": [
    {
     "data": {
      "application/vnd.jupyter.widget-view+json": {
       "model_id": "d63de6fe00df4fa787ba35da163f1e81",
       "version_major": 2,
       "version_minor": 0
      },
      "text/plain": [
       "  0%|          | 0/452455 [00:00<?, ?it/s]"
      ]
     },
     "metadata": {},
     "output_type": "display_data"
    },
    {
     "name": "stderr",
     "output_type": "stream",
     "text": [
      "/Users/shruti/anaconda3/envs/ct_map/lib/python3.7/site-packages/ipykernel_launcher.py:1: SettingWithCopyWarning: \n",
      "A value is trying to be set on a copy of a slice from a DataFrame.\n",
      "Try using .loc[row_indexer,col_indexer] = value instead\n",
      "\n",
      "See the caveats in the documentation: https://pandas.pydata.org/pandas-docs/stable/user_guide/indexing.html#returning-a-view-versus-a-copy\n",
      "  \"\"\"Entry point for launching an IPython kernel.\n"
     ]
    }
   ],
   "source": [
    "off1['ingredients_text_en'] = off1['ingredients_text_en'].progress_apply(correct_structure)"
   ]
  },
  {
   "cell_type": "code",
   "execution_count": 32,
   "id": "8bc1af0b-8694-4a4b-9dcd-5aa5e04ae1a7",
   "metadata": {},
   "outputs": [
    {
     "data": {
      "text/plain": [
       "United States     130909\n",
       "France             81897\n",
       "Germany            23880\n",
       "United Kingdom     15521\n",
       "Spain              13430\n",
       "Switzerland         8874\n",
       "Italy               7422\n",
       "Belgium             6502\n",
       "Canada              5173\n",
       "Australia           4667\n",
       "Ireland             2100\n",
       "Name: countries_en, dtype: int64"
      ]
     },
     "execution_count": 32,
     "metadata": {},
     "output_type": "execute_result"
    }
   ],
   "source": [
    "off1[off1['ingredients_text_en']!='']['countries_en'].value_counts()"
   ]
  },
  {
   "cell_type": "code",
   "execution_count": 33,
   "id": "020699d5-b00f-44ec-b070-ddcf443900e7",
   "metadata": {},
   "outputs": [],
   "source": [
    "def clean_ingredients3(text):\n",
    "    # remove may contain, traces etc\n",
    "    \n",
    "    text = re.sub(r'it can contain.*', '', text)\n",
    "    text = re.sub(r'can contain.*', '', text)\n",
    "    text = re.sub(r'it does not contain.*', '', text)\n",
    "    text = re.sub(r'this product coes not contain.*', '', text)\n",
    "    text = re.sub(r'this chocolate coes not contain.*', '', text)\n",
    "    text = re.sub(r'does not contain.*', '', text)\n",
    "    text = re.sub(r'possible traces.*', '', text)\n",
    "    text = re.sub(r'keep refrigerated.*', '', text)\n",
    "    \n",
    "    text = re.sub(r'contains or less of the following:', '', text)\n",
    "    text = re.sub(r'contains less than of the following:', '', text)\n",
    "    text = re.sub(r'contains two% or less of the following:', '', text)\n",
    "    \n",
    "    text = re.sub(r'contains or less of :', '', text)\n",
    "    text = re.sub(r'contains less than of :', '', text)\n",
    "    text = re.sub(r'contains two% or less of :', '', text)\n",
    "    \n",
    "    text = re.sub(r'contains or less of the following', '', text)\n",
    "    text = re.sub(r'contains less than of the following', '', text)\n",
    "    text = re.sub(r'contains two% or less of the following', '', text)\n",
    "    \n",
    "    text = re.sub(r'contains or less of', '', text)\n",
    "    text = re.sub(r'contains less than of', '', text)\n",
    "    text = re.sub(r'contains two% or less of', '', text)\n",
    "    \n",
    "    text = re.sub(r'contains or less', '', text)\n",
    "    text = re.sub(r'contains less than', '', text)\n",
    "    text = re.sub(r'contains two% or less', '', text)\n",
    "    \n",
    "    text = re.sub(r'\\.$', '', text)\n",
    "    text = re.sub(r'\\,$', '', text)\n",
    "    text = re.sub(r'(?<!\\d)\\.', ',', text)\n",
    "    \n",
    "    return text.strip()"
   ]
  },
  {
   "cell_type": "code",
   "execution_count": 34,
   "id": "73c3a598-9eae-4272-97b8-1938c3a7e855",
   "metadata": {},
   "outputs": [
    {
     "data": {
      "application/vnd.jupyter.widget-view+json": {
       "model_id": "6230456ddf084c75afb1e03d566a1a82",
       "version_major": 2,
       "version_minor": 0
      },
      "text/plain": [
       "  0%|          | 0/452455 [00:00<?, ?it/s]"
      ]
     },
     "metadata": {},
     "output_type": "display_data"
    },
    {
     "name": "stderr",
     "output_type": "stream",
     "text": [
      "/Users/shruti/anaconda3/envs/ct_map/lib/python3.7/site-packages/ipykernel_launcher.py:1: SettingWithCopyWarning: \n",
      "A value is trying to be set on a copy of a slice from a DataFrame.\n",
      "Try using .loc[row_indexer,col_indexer] = value instead\n",
      "\n",
      "See the caveats in the documentation: https://pandas.pydata.org/pandas-docs/stable/user_guide/indexing.html#returning-a-view-versus-a-copy\n",
      "  \"\"\"Entry point for launching an IPython kernel.\n"
     ]
    }
   ],
   "source": [
    "off1['ingredients_text_en'] = off1['ingredients_text_en'].progress_apply(clean_ingredients3)"
   ]
  },
  {
   "cell_type": "code",
   "execution_count": 35,
   "id": "795dfd3f-c2bd-4b99-9d2a-3b068d9e934b",
   "metadata": {},
   "outputs": [
    {
     "data": {
      "text/plain": [
       "(452455, 22)"
      ]
     },
     "execution_count": 35,
     "metadata": {},
     "output_type": "execute_result"
    }
   ],
   "source": [
    "off1.shape"
   ]
  },
  {
   "cell_type": "code",
   "execution_count": 36,
   "id": "aab6bbb6-260e-4454-a97a-cbdcfd882c4d",
   "metadata": {},
   "outputs": [
    {
     "name": "stderr",
     "output_type": "stream",
     "text": [
      "/Users/shruti/anaconda3/envs/ct_map/lib/python3.7/site-packages/ipykernel_launcher.py:1: UserWarning: Boolean Series key will be reindexed to match DataFrame index.\n",
      "  \"\"\"Entry point for launching an IPython kernel.\n"
     ]
    },
    {
     "data": {
      "text/plain": [
       "(302224, 22)"
      ]
     },
     "execution_count": 36,
     "metadata": {},
     "output_type": "execute_result"
    }
   ],
   "source": [
    "off1[off['ingredients_text_en']!=''].shape"
   ]
  },
  {
   "cell_type": "code",
   "execution_count": 37,
   "id": "9909b614-b83d-4c0e-9e41-d5cc2bef93fb",
   "metadata": {},
   "outputs": [
    {
     "name": "stderr",
     "output_type": "stream",
     "text": [
      "/Users/shruti/anaconda3/envs/ct_map/lib/python3.7/site-packages/ipykernel_launcher.py:1: UserWarning: Boolean Series key will be reindexed to match DataFrame index.\n",
      "  \"\"\"Entry point for launching an IPython kernel.\n"
     ]
    },
    {
     "data": {
      "text/plain": [
       "United States     131074\n",
       "France             82890\n",
       "Germany            23969\n",
       "United Kingdom     15630\n",
       "Spain              13629\n",
       "Switzerland         8930\n",
       "Italy               7517\n",
       "Belgium             6558\n",
       "Canada              5188\n",
       "Australia           4725\n",
       "Ireland             2114\n",
       "Name: countries_en, dtype: int64"
      ]
     },
     "execution_count": 37,
     "metadata": {},
     "output_type": "execute_result"
    }
   ],
   "source": [
    "off1[off['ingredients_text_en']!='']['countries_en'].value_counts()"
   ]
  },
  {
   "cell_type": "code",
   "execution_count": 38,
   "id": "d3103a10-9219-45cb-b517-e370007fb910",
   "metadata": {},
   "outputs": [],
   "source": [
    "allowed_pattern = r'^[A-Za-z0-9.\\(\\),% -]+$' # allowing only alphanumeric, periods, percentages, parantheses, commas, hyphen\n",
    "off3 = off2[(off2['ingredients_text_en'].str.match(allowed_pattern))]\n",
    "\n",
    "off4 = off2[(~off2['ingredients_text_en'].str.match(allowed_pattern))]"
   ]
  },
  {
   "cell_type": "code",
   "execution_count": 39,
   "id": "c735ab9a-b791-42bf-be72-7552752e586e",
   "metadata": {},
   "outputs": [
    {
     "data": {
      "text/plain": [
       "(281040, 22)"
      ]
     },
     "execution_count": 39,
     "metadata": {},
     "output_type": "execute_result"
    }
   ],
   "source": [
    "off2.shape"
   ]
  },
  {
   "cell_type": "code",
   "execution_count": 40,
   "id": "6c184df0-dde6-49bf-9d63-3e249d5ab7f6",
   "metadata": {},
   "outputs": [
    {
     "data": {
      "text/plain": [
       "(45750, 22)"
      ]
     },
     "execution_count": 40,
     "metadata": {},
     "output_type": "execute_result"
    }
   ],
   "source": [
    "off3.shape"
   ]
  },
  {
   "cell_type": "code",
   "execution_count": 41,
   "id": "3fe1da3b-482d-49cf-a8b3-0f493e44da00",
   "metadata": {},
   "outputs": [
    {
     "data": {
      "text/plain": [
       "(235290, 22)"
      ]
     },
     "execution_count": 41,
     "metadata": {},
     "output_type": "execute_result"
    }
   ],
   "source": [
    "off4.shape"
   ]
  },
  {
   "cell_type": "code",
   "execution_count": 42,
   "id": "dd1b21f5-0921-46ae-a9dc-f17aeb6b7a05",
   "metadata": {},
   "outputs": [
    {
     "data": {
      "text/plain": [
       "(35040, 22)"
      ]
     },
     "execution_count": 42,
     "metadata": {},
     "output_type": "execute_result"
    }
   ],
   "source": [
    "off3 = off3[(off3['ingredients_text_en'].str.contains('-', regex=False)) \n",
    "            & (~off3['ingredients_text_en'].str.contains(' - ', regex=False))]\n",
    "off3.shape"
   ]
  },
  {
   "cell_type": "code",
   "execution_count": 43,
   "id": "4558a92e-922d-4a29-bb36-821e4db9dac6",
   "metadata": {},
   "outputs": [
    {
     "data": {
      "application/vnd.jupyter.widget-view+json": {
       "model_id": "da7f6447e12946b0a0f28e8832978940",
       "version_major": 2,
       "version_minor": 0
      },
      "text/plain": [
       "  0%|          | 0/35040 [00:00<?, ?it/s]"
      ]
     },
     "metadata": {},
     "output_type": "display_data"
    }
   ],
   "source": [
    "off3['ingredients_text_en'] = off3['ingredients_text_en'].progress_apply(correct_structure)"
   ]
  },
  {
   "cell_type": "code",
   "execution_count": 44,
   "id": "b2e61d24-8192-44d0-b752-9ccf93f42e0d",
   "metadata": {},
   "outputs": [
    {
     "data": {
      "application/vnd.jupyter.widget-view+json": {
       "model_id": "79c2bffd287340b0a1dfd3b2fca90fbf",
       "version_major": 2,
       "version_minor": 0
      },
      "text/plain": [
       "  0%|          | 0/35040 [00:00<?, ?it/s]"
      ]
     },
     "metadata": {},
     "output_type": "display_data"
    }
   ],
   "source": [
    "off3['ingredients_text_en'] = off3['ingredients_text_en'].progress_apply(clean_ingredients3)"
   ]
  },
  {
   "cell_type": "code",
   "execution_count": 45,
   "id": "cffde0ce-535f-49f2-83fe-b14d9196fc2b",
   "metadata": {},
   "outputs": [],
   "source": [
    "allowed_pattern = r'^[A-Za-z0-9.\\(\\),%: ]+$' # allowing only alphanumeric, periods, percentages, parantheses, commas, colon\n",
    "off5 = off4[(off4['ingredients_text_en'].str.match(allowed_pattern))]\n",
    "\n",
    "off6 = off4[(~off4['ingredients_text_en'].str.match(allowed_pattern))]"
   ]
  },
  {
   "cell_type": "code",
   "execution_count": 46,
   "id": "58ea8466-e8ee-4b5a-8d08-eb03cbfeb002",
   "metadata": {},
   "outputs": [
    {
     "data": {
      "text/plain": [
       "(112462, 22)"
      ]
     },
     "execution_count": 46,
     "metadata": {},
     "output_type": "execute_result"
    }
   ],
   "source": [
    "off5.shape"
   ]
  },
  {
   "cell_type": "code",
   "execution_count": 47,
   "id": "ea46db48-aacb-46af-b69a-44bb601249d7",
   "metadata": {},
   "outputs": [
    {
     "data": {
      "text/plain": [
       "(122828, 22)"
      ]
     },
     "execution_count": 47,
     "metadata": {},
     "output_type": "execute_result"
    }
   ],
   "source": [
    "off6.shape"
   ]
  },
  {
   "cell_type": "code",
   "execution_count": 48,
   "id": "6128c8ce-3567-4948-813f-4061f0821211",
   "metadata": {},
   "outputs": [],
   "source": [
    "off5 = off5[(off5['ingredients_text_en'].str.contains('preservative:', regex=False))\n",
    "             | (off5['ingredients_text_en'].str.contains('preservatives:', regex=False))\n",
    "             | (off5['ingredients_text_en'].str.contains('conservative:', regex=False))\n",
    "             | (off5['ingredients_text_en'].str.contains('conservatives:', regex=False))\n",
    "             | (off5['ingredients_text_en'].str.contains('acidifying:', regex=False))\n",
    "             | (off5['ingredients_text_en'].str.contains('acidity:', regex=False))\n",
    "             | (off5['ingredients_text_en'].str.contains('acidic:', regex=False))\n",
    "             | (off5['ingredients_text_en'].str.contains('acid:', regex=False))\n",
    "             | (off5['ingredients_text_en'].str.contains('color:', regex=False))\n",
    "             | (off5['ingredients_text_en'].str.contains('colors:', regex=False))\n",
    "             | (off5['ingredients_text_en'].str.contains('colour:', regex=False))\n",
    "             | (off5['ingredients_text_en'].str.contains('coloring:', regex=False))\n",
    "             | (off5['ingredients_text_en'].str.contains('regulator:', regex=False))\n",
    "             | (off5['ingredients_text_en'].str.contains('regulators:', regex=False))\n",
    "             | (off5['ingredients_text_en'].str.contains('corrector:', regex=False))\n",
    "             | (off5['ingredients_text_en'].str.contains('emulgator:', regex=False))\n",
    "             | (off5['ingredients_text_en'].str.contains('emulsifying:', regex=False))\n",
    "             | (off5['ingredients_text_en'].str.contains('antioxidant:', regex=False))\n",
    "             | (off5['ingredients_text_en'].str.contains('fier:', regex=False))\n",
    "             | (off5['ingredients_text_en'].str.contains('fiers:', regex=False))\n",
    "             | (off5['ingredients_text_en'].str.contains('zer:', regex=False))\n",
    "             | (off5['ingredients_text_en'].str.contains('less:', regex=False))\n",
    "             | (off5['ingredients_text_en'].str.contains('following:', regex=False))\n",
    "             | (off5['ingredients_text_en'].str.contains('of:', regex=False))\n",
    "             | (off5['ingredients_text_en'].str.contains('thickening:', regex=False))\n",
    "             | (off5['ingredients_text_en'].str.contains('contains:', regex=False))\n",
    "             | (off5['ingredients_text_en'].str.contains('cultures:', regex=False))\n",
    "             | (off5['ingredients_text_en'].str.contains('agent:', regex=False))]"
   ]
  },
  {
   "cell_type": "code",
   "execution_count": 49,
   "id": "0198233d-0f49-4129-80a9-5cddb59d0707",
   "metadata": {},
   "outputs": [
    {
     "data": {
      "application/vnd.jupyter.widget-view+json": {
       "model_id": "bb786a985e1c4e88b75167381117ac7c",
       "version_major": 2,
       "version_minor": 0
      },
      "text/plain": [
       "  0%|          | 0/82238 [00:00<?, ?it/s]"
      ]
     },
     "metadata": {},
     "output_type": "display_data"
    }
   ],
   "source": [
    "off5['ingredients_text_en'] = off5['ingredients_text_en'].progress_apply(correct_structure)"
   ]
  },
  {
   "cell_type": "code",
   "execution_count": 50,
   "id": "6e445f4a-9fc5-4295-890d-311e462582c8",
   "metadata": {},
   "outputs": [
    {
     "data": {
      "application/vnd.jupyter.widget-view+json": {
       "model_id": "c6304931ced7444cb7ad26daa44df8ff",
       "version_major": 2,
       "version_minor": 0
      },
      "text/plain": [
       "  0%|          | 0/82238 [00:00<?, ?it/s]"
      ]
     },
     "metadata": {},
     "output_type": "display_data"
    }
   ],
   "source": [
    "off5['ingredients_text_en'] = off5['ingredients_text_en'].progress_apply(clean_ingredients3)"
   ]
  },
  {
   "cell_type": "code",
   "execution_count": 51,
   "id": "e3bc38fc-0867-49af-b615-b90dcc8e6c1e",
   "metadata": {},
   "outputs": [],
   "source": [
    "off_clean = pd.concat([off1, off3, off5], axis=0, ignore_index=True)"
   ]
  },
  {
   "cell_type": "code",
   "execution_count": 52,
   "id": "197b8b55-dcf9-4701-8651-cf04dbdbd03a",
   "metadata": {},
   "outputs": [],
   "source": [
    "def clean_ingredients4(text):\n",
    "    # remove may contain, traces etc\n",
    "    \n",
    "    text = re.sub(r'product from organic farming.*', '', text)\n",
    "    text = re.sub(r'products from organic farming.*', '', text)\n",
    "    text = re.sub(r'all the ingredients come from organic farmin.*', '', text)\n",
    "    text = re.sub(r'agricultural ingredient from organic farming.*', '', text)\n",
    "    text = re.sub(r'(ingredients from organic farming).*', '', text)\n",
    "    text = re.sub(r'ingredient from organic farming.*', '', text)\n",
    "    text = re.sub(r'ingredients from organic farming.*', '', text)\n",
    "    text = re.sub(r'from organic farming.*', '', text)\n",
    "    \n",
    "    text = text.replace('origin france', '')\n",
    "    text = text.replace('origin, france', '')\n",
    "    text = text.replace('developed from eu origin', '')\n",
    "    text = text.replace('eu origin, asia', '')\n",
    "    text = text.replace('eu original', '')\n",
    "    text = text.replace('eu origin', '')\n",
    "    text = text.replace('origin eu', '')\n",
    "    text = text.replace('origin spain', '')\n",
    "    text = text.replace('brittany origin', '')\n",
    "    text = text.replace('origin of the netherlands and france', '')\n",
    "    text = text.replace('zygochlams patagonjca, argentinian origin', '')\n",
    "    text = text.replace('ingredients origin france (100%)', '')\n",
    "    text = text.replace('developed from france origin france', '')\n",
    "    text = text.replace('this product is made from eu original pork', '')\n",
    "    text = text.replace('origin england or france', '')\n",
    "    text = text.replace('ingredients of natural origin', '')\n",
    "    text = text.replace('france', '')\n",
    "    \n",
    "    text = text.replace(':', '')\n",
    "    text = re.sub(' +', ' ', text)\n",
    "    text = text.strip()\n",
    "    text = re.sub(r'\\.$', '', text)\n",
    "    text = re.sub(r'\\,$', '', text)\n",
    "    text = text.replace('()', '')\n",
    "    \n",
    "    return text.strip()"
   ]
  },
  {
   "cell_type": "code",
   "execution_count": 53,
   "id": "83fb3f27-767d-41a0-bc09-ea640e529f42",
   "metadata": {},
   "outputs": [
    {
     "data": {
      "application/vnd.jupyter.widget-view+json": {
       "model_id": "840cecedf921472ea8f8962094435ada",
       "version_major": 2,
       "version_minor": 0
      },
      "text/plain": [
       "  0%|          | 0/569733 [00:00<?, ?it/s]"
      ]
     },
     "metadata": {},
     "output_type": "display_data"
    }
   ],
   "source": [
    "off_clean['ingredients_text_en'] = off_clean['ingredients_text_en'].progress_apply(clean_ingredients4)"
   ]
  },
  {
   "cell_type": "code",
   "execution_count": 54,
   "id": "fffc44bb-4c9f-40fc-b175-19b29b67e62d",
   "metadata": {},
   "outputs": [
    {
     "data": {
      "text/plain": [
       "(569733, 22)"
      ]
     },
     "execution_count": 54,
     "metadata": {},
     "output_type": "execute_result"
    }
   ],
   "source": [
    "off_clean.shape"
   ]
  },
  {
   "cell_type": "code",
   "execution_count": 55,
   "id": "87d94b4e-5e79-4606-ae21-ca7257c9f7e5",
   "metadata": {},
   "outputs": [
    {
     "data": {
      "text/plain": [
       "United States     230217\n",
       "France            149933\n",
       "Germany            41327\n",
       "United Kingdom     39967\n",
       "Spain              22493\n",
       "Canada             17151\n",
       "Switzerland        15692\n",
       "Australia          15193\n",
       "Italy              14414\n",
       "Belgium            12265\n",
       "Ireland            11081\n",
       "Name: countries_en, dtype: int64"
      ]
     },
     "execution_count": 55,
     "metadata": {},
     "output_type": "execute_result"
    }
   ],
   "source": [
    "off_clean['countries_en'].value_counts()"
   ]
  },
  {
   "cell_type": "code",
   "execution_count": 56,
   "id": "42630939-e1f5-43d4-923d-4bb790e60e01",
   "metadata": {},
   "outputs": [
    {
     "data": {
      "text/plain": [
       "(415770, 22)"
      ]
     },
     "execution_count": 56,
     "metadata": {},
     "output_type": "execute_result"
    }
   ],
   "source": [
    "off_clean[off_clean['ingredients_text_en']!=''].shape"
   ]
  },
  {
   "cell_type": "code",
   "execution_count": 57,
   "id": "b23756a0-6a8d-4352-bc74-9827f5bca43d",
   "metadata": {},
   "outputs": [
    {
     "data": {
      "text/plain": [
       "United States     167932\n",
       "France            126237\n",
       "Germany            35051\n",
       "United Kingdom     20863\n",
       "Spain              17674\n",
       "Switzerland        12800\n",
       "Italy              10907\n",
       "Belgium             9366\n",
       "Canada              6442\n",
       "Australia           5383\n",
       "Ireland             3115\n",
       "Name: countries_en, dtype: int64"
      ]
     },
     "execution_count": 57,
     "metadata": {},
     "output_type": "execute_result"
    }
   ],
   "source": [
    "off_clean[off_clean['ingredients_text_en']!='']['countries_en'].value_counts()"
   ]
  },
  {
   "cell_type": "code",
   "execution_count": 58,
   "id": "97b95c74-04a9-47f5-9809-a493576103c6",
   "metadata": {},
   "outputs": [
    {
     "data": {
      "text/html": [
       "<div>\n",
       "<style scoped>\n",
       "    .dataframe tbody tr th:only-of-type {\n",
       "        vertical-align: middle;\n",
       "    }\n",
       "\n",
       "    .dataframe tbody tr th {\n",
       "        vertical-align: top;\n",
       "    }\n",
       "\n",
       "    .dataframe thead th {\n",
       "        text-align: right;\n",
       "    }\n",
       "</style>\n",
       "<table border=\"1\" class=\"dataframe\">\n",
       "  <thead>\n",
       "    <tr style=\"text-align: right;\">\n",
       "      <th>parentcategory</th>\n",
       "      <th>Cereals and Cereal Products</th>\n",
       "      <th>Commercial Toddlers Foods and Drinks</th>\n",
       "      <th>Dietary Supplements</th>\n",
       "      <th>Eggs and Egg Dishes</th>\n",
       "      <th>Fat Spreads</th>\n",
       "      <th>Fish and Fish Dishes</th>\n",
       "      <th>Fruit</th>\n",
       "      <th>Meat and Meat Products</th>\n",
       "      <th>Milk and Milk Products</th>\n",
       "      <th>Miscellaneous</th>\n",
       "      <th>Non-Alcoholic Beverages</th>\n",
       "      <th>Nuts and Seeds</th>\n",
       "      <th>Savoury Snacks</th>\n",
       "      <th>Sugar, Preserves and Confectionery</th>\n",
       "      <th>Vegetables, Potatoes</th>\n",
       "    </tr>\n",
       "    <tr>\n",
       "      <th>countries_en</th>\n",
       "      <th></th>\n",
       "      <th></th>\n",
       "      <th></th>\n",
       "      <th></th>\n",
       "      <th></th>\n",
       "      <th></th>\n",
       "      <th></th>\n",
       "      <th></th>\n",
       "      <th></th>\n",
       "      <th></th>\n",
       "      <th></th>\n",
       "      <th></th>\n",
       "      <th></th>\n",
       "      <th></th>\n",
       "      <th></th>\n",
       "    </tr>\n",
       "  </thead>\n",
       "  <tbody>\n",
       "    <tr>\n",
       "      <th>Australia</th>\n",
       "      <td>2326</td>\n",
       "      <td>9</td>\n",
       "      <td>29</td>\n",
       "      <td>102</td>\n",
       "      <td>216</td>\n",
       "      <td>514</td>\n",
       "      <td>744</td>\n",
       "      <td>1935</td>\n",
       "      <td>1786</td>\n",
       "      <td>1503</td>\n",
       "      <td>1265</td>\n",
       "      <td>789</td>\n",
       "      <td>438</td>\n",
       "      <td>1922</td>\n",
       "      <td>1615</td>\n",
       "    </tr>\n",
       "    <tr>\n",
       "      <th>Belgium</th>\n",
       "      <td>2056</td>\n",
       "      <td>12</td>\n",
       "      <td>25</td>\n",
       "      <td>66</td>\n",
       "      <td>256</td>\n",
       "      <td>465</td>\n",
       "      <td>592</td>\n",
       "      <td>1169</td>\n",
       "      <td>1298</td>\n",
       "      <td>1121</td>\n",
       "      <td>1325</td>\n",
       "      <td>599</td>\n",
       "      <td>254</td>\n",
       "      <td>1649</td>\n",
       "      <td>1378</td>\n",
       "    </tr>\n",
       "    <tr>\n",
       "      <th>Canada</th>\n",
       "      <td>2678</td>\n",
       "      <td>11</td>\n",
       "      <td>49</td>\n",
       "      <td>90</td>\n",
       "      <td>255</td>\n",
       "      <td>482</td>\n",
       "      <td>853</td>\n",
       "      <td>1659</td>\n",
       "      <td>1758</td>\n",
       "      <td>1736</td>\n",
       "      <td>1554</td>\n",
       "      <td>927</td>\n",
       "      <td>603</td>\n",
       "      <td>2575</td>\n",
       "      <td>1921</td>\n",
       "    </tr>\n",
       "    <tr>\n",
       "      <th>France</th>\n",
       "      <td>23790</td>\n",
       "      <td>219</td>\n",
       "      <td>246</td>\n",
       "      <td>1277</td>\n",
       "      <td>3628</td>\n",
       "      <td>8017</td>\n",
       "      <td>6893</td>\n",
       "      <td>19587</td>\n",
       "      <td>15380</td>\n",
       "      <td>12233</td>\n",
       "      <td>14694</td>\n",
       "      <td>5214</td>\n",
       "      <td>2097</td>\n",
       "      <td>22035</td>\n",
       "      <td>14623</td>\n",
       "    </tr>\n",
       "    <tr>\n",
       "      <th>Germany</th>\n",
       "      <td>6536</td>\n",
       "      <td>37</td>\n",
       "      <td>155</td>\n",
       "      <td>223</td>\n",
       "      <td>903</td>\n",
       "      <td>1174</td>\n",
       "      <td>1820</td>\n",
       "      <td>4119</td>\n",
       "      <td>5035</td>\n",
       "      <td>4423</td>\n",
       "      <td>4113</td>\n",
       "      <td>1896</td>\n",
       "      <td>679</td>\n",
       "      <td>5093</td>\n",
       "      <td>5121</td>\n",
       "    </tr>\n",
       "    <tr>\n",
       "      <th>Ireland</th>\n",
       "      <td>1553</td>\n",
       "      <td>4</td>\n",
       "      <td>22</td>\n",
       "      <td>74</td>\n",
       "      <td>112</td>\n",
       "      <td>409</td>\n",
       "      <td>436</td>\n",
       "      <td>2446</td>\n",
       "      <td>1229</td>\n",
       "      <td>926</td>\n",
       "      <td>684</td>\n",
       "      <td>520</td>\n",
       "      <td>299</td>\n",
       "      <td>1129</td>\n",
       "      <td>1238</td>\n",
       "    </tr>\n",
       "    <tr>\n",
       "      <th>Italy</th>\n",
       "      <td>3444</td>\n",
       "      <td>18</td>\n",
       "      <td>19</td>\n",
       "      <td>73</td>\n",
       "      <td>275</td>\n",
       "      <td>726</td>\n",
       "      <td>522</td>\n",
       "      <td>933</td>\n",
       "      <td>2038</td>\n",
       "      <td>926</td>\n",
       "      <td>1332</td>\n",
       "      <td>609</td>\n",
       "      <td>251</td>\n",
       "      <td>1605</td>\n",
       "      <td>1643</td>\n",
       "    </tr>\n",
       "    <tr>\n",
       "      <th>Spain</th>\n",
       "      <td>4009</td>\n",
       "      <td>10</td>\n",
       "      <td>64</td>\n",
       "      <td>107</td>\n",
       "      <td>580</td>\n",
       "      <td>980</td>\n",
       "      <td>914</td>\n",
       "      <td>1805</td>\n",
       "      <td>2632</td>\n",
       "      <td>1887</td>\n",
       "      <td>2154</td>\n",
       "      <td>846</td>\n",
       "      <td>445</td>\n",
       "      <td>3301</td>\n",
       "      <td>2759</td>\n",
       "    </tr>\n",
       "    <tr>\n",
       "      <th>Switzerland</th>\n",
       "      <td>2619</td>\n",
       "      <td>24</td>\n",
       "      <td>36</td>\n",
       "      <td>90</td>\n",
       "      <td>339</td>\n",
       "      <td>537</td>\n",
       "      <td>729</td>\n",
       "      <td>1311</td>\n",
       "      <td>2138</td>\n",
       "      <td>1461</td>\n",
       "      <td>1575</td>\n",
       "      <td>611</td>\n",
       "      <td>226</td>\n",
       "      <td>2415</td>\n",
       "      <td>1581</td>\n",
       "    </tr>\n",
       "    <tr>\n",
       "      <th>United Kingdom</th>\n",
       "      <td>6603</td>\n",
       "      <td>56</td>\n",
       "      <td>157</td>\n",
       "      <td>313</td>\n",
       "      <td>538</td>\n",
       "      <td>1647</td>\n",
       "      <td>1732</td>\n",
       "      <td>6521</td>\n",
       "      <td>3608</td>\n",
       "      <td>3977</td>\n",
       "      <td>2870</td>\n",
       "      <td>1566</td>\n",
       "      <td>1376</td>\n",
       "      <td>4311</td>\n",
       "      <td>4692</td>\n",
       "    </tr>\n",
       "    <tr>\n",
       "      <th>United States</th>\n",
       "      <td>40574</td>\n",
       "      <td>133</td>\n",
       "      <td>524</td>\n",
       "      <td>920</td>\n",
       "      <td>3000</td>\n",
       "      <td>6423</td>\n",
       "      <td>9261</td>\n",
       "      <td>23706</td>\n",
       "      <td>25744</td>\n",
       "      <td>32660</td>\n",
       "      <td>20515</td>\n",
       "      <td>10304</td>\n",
       "      <td>8285</td>\n",
       "      <td>28265</td>\n",
       "      <td>19903</td>\n",
       "    </tr>\n",
       "  </tbody>\n",
       "</table>\n",
       "</div>"
      ],
      "text/plain": [
       "parentcategory  Cereals and Cereal Products  \\\n",
       "countries_en                                  \n",
       "Australia                              2326   \n",
       "Belgium                                2056   \n",
       "Canada                                 2678   \n",
       "France                                23790   \n",
       "Germany                                6536   \n",
       "Ireland                                1553   \n",
       "Italy                                  3444   \n",
       "Spain                                  4009   \n",
       "Switzerland                            2619   \n",
       "United Kingdom                         6603   \n",
       "United States                         40574   \n",
       "\n",
       "parentcategory  Commercial Toddlers Foods and Drinks  Dietary Supplements  \\\n",
       "countries_en                                                                \n",
       "Australia                                          9                   29   \n",
       "Belgium                                           12                   25   \n",
       "Canada                                            11                   49   \n",
       "France                                           219                  246   \n",
       "Germany                                           37                  155   \n",
       "Ireland                                            4                   22   \n",
       "Italy                                             18                   19   \n",
       "Spain                                             10                   64   \n",
       "Switzerland                                       24                   36   \n",
       "United Kingdom                                    56                  157   \n",
       "United States                                    133                  524   \n",
       "\n",
       "parentcategory  Eggs and Egg Dishes  Fat Spreads  Fish and Fish Dishes  Fruit  \\\n",
       "countries_en                                                                    \n",
       "Australia                       102          216                   514    744   \n",
       "Belgium                          66          256                   465    592   \n",
       "Canada                           90          255                   482    853   \n",
       "France                         1277         3628                  8017   6893   \n",
       "Germany                         223          903                  1174   1820   \n",
       "Ireland                          74          112                   409    436   \n",
       "Italy                            73          275                   726    522   \n",
       "Spain                           107          580                   980    914   \n",
       "Switzerland                      90          339                   537    729   \n",
       "United Kingdom                  313          538                  1647   1732   \n",
       "United States                   920         3000                  6423   9261   \n",
       "\n",
       "parentcategory  Meat and Meat Products  Milk and Milk Products  Miscellaneous  \\\n",
       "countries_en                                                                    \n",
       "Australia                         1935                    1786           1503   \n",
       "Belgium                           1169                    1298           1121   \n",
       "Canada                            1659                    1758           1736   \n",
       "France                           19587                   15380          12233   \n",
       "Germany                           4119                    5035           4423   \n",
       "Ireland                           2446                    1229            926   \n",
       "Italy                              933                    2038            926   \n",
       "Spain                             1805                    2632           1887   \n",
       "Switzerland                       1311                    2138           1461   \n",
       "United Kingdom                    6521                    3608           3977   \n",
       "United States                    23706                   25744          32660   \n",
       "\n",
       "parentcategory  Non-Alcoholic Beverages  Nuts and Seeds  Savoury Snacks  \\\n",
       "countries_en                                                              \n",
       "Australia                          1265             789             438   \n",
       "Belgium                            1325             599             254   \n",
       "Canada                             1554             927             603   \n",
       "France                            14694            5214            2097   \n",
       "Germany                            4113            1896             679   \n",
       "Ireland                             684             520             299   \n",
       "Italy                              1332             609             251   \n",
       "Spain                              2154             846             445   \n",
       "Switzerland                        1575             611             226   \n",
       "United Kingdom                     2870            1566            1376   \n",
       "United States                     20515           10304            8285   \n",
       "\n",
       "parentcategory  Sugar, Preserves and Confectionery  Vegetables, Potatoes  \n",
       "countries_en                                                              \n",
       "Australia                                     1922                  1615  \n",
       "Belgium                                       1649                  1378  \n",
       "Canada                                        2575                  1921  \n",
       "France                                       22035                 14623  \n",
       "Germany                                       5093                  5121  \n",
       "Ireland                                       1129                  1238  \n",
       "Italy                                         1605                  1643  \n",
       "Spain                                         3301                  2759  \n",
       "Switzerland                                   2415                  1581  \n",
       "United Kingdom                                4311                  4692  \n",
       "United States                                28265                 19903  "
      ]
     },
     "execution_count": 58,
     "metadata": {},
     "output_type": "execute_result"
    }
   ],
   "source": [
    "off_clean.groupby(\n",
    "    ['countries_en', 'parentcategory']).count()[['product_id']].reset_index().pivot(\n",
    "    index='countries_en', columns='parentcategory', values='product_id')"
   ]
  },
  {
   "cell_type": "code",
   "execution_count": 59,
   "id": "7bae0a03-0d5a-46bb-b560-045e2f57cdb4",
   "metadata": {},
   "outputs": [],
   "source": [
    "# off_clean[off_clean['ingredients_text_en']!=''].sample(100)['ingredients_text_en'].values"
   ]
  },
  {
   "cell_type": "code",
   "execution_count": 60,
   "id": "620aca65-1feb-4d7b-b62d-0236d9586c94",
   "metadata": {},
   "outputs": [
    {
     "data": {
      "text/plain": [
       "(163762, 22)"
      ]
     },
     "execution_count": 60,
     "metadata": {},
     "output_type": "execute_result"
    }
   ],
   "source": [
    "off[~off['product_id'].isin(off_clean['product_id'].unique())].shape"
   ]
  },
  {
   "cell_type": "code",
   "execution_count": 61,
   "id": "107d5bd3-7da3-447d-8372-6983bb3a7fe5",
   "metadata": {},
   "outputs": [],
   "source": [
    "# off[~off['product_id'].isin(off_clean['product_id'].unique())].sample(100)['ingredients_text_en'].values"
   ]
  },
  {
   "cell_type": "code",
   "execution_count": 62,
   "id": "d071a0db-2fb8-48cd-9538-f26e7873f015",
   "metadata": {},
   "outputs": [],
   "source": [
    "###########################\n",
    "# maybe also try : and - together\n",
    "# translate some words - ble: wheat, soja: soya, oeuf: egg, leche: milk"
   ]
  },
  {
   "cell_type": "code",
   "execution_count": 63,
   "id": "9f1fe1b0-fe8d-41cc-b5d1-492501611945",
   "metadata": {},
   "outputs": [],
   "source": [
    "def translation_terms(text):\n",
    "    \n",
    "    text = text.replace(' ble ', ' wheat ')\n",
    "    text = text.replace('soja ', ' soya ')\n",
    "    text = text.replace(' leche ', ' milk ')\n",
    "    text = text.replace(' ait ', ' milk ')\n",
    "    text = text.replace(' oeuf ', ' egg ')\n",
    "    text = text.replace(' euf ', ' egg ')\n",
    "    text = text.replace(' oeufs ', ' eggs ')\n",
    "    text = text.replace(' eufs ', ' eggs ')\n",
    "    text = text.replace(' moutarde ', ' mustard ')\n",
    "    text = text.replace(' sucre ', ' sugar ')\n",
    "    text = text.replace(' beurre ', ' butter ')\n",
    "    \n",
    "    return text"
   ]
  },
  {
   "cell_type": "code",
   "execution_count": 64,
   "id": "bdf1b294-c79d-4cac-a633-63bb6f317efc",
   "metadata": {},
   "outputs": [
    {
     "data": {
      "application/vnd.jupyter.widget-view+json": {
       "model_id": "862e9ebb260a4e8abe389add8dce363a",
       "version_major": 2,
       "version_minor": 0
      },
      "text/plain": [
       "  0%|          | 0/569733 [00:00<?, ?it/s]"
      ]
     },
     "metadata": {},
     "output_type": "display_data"
    }
   ],
   "source": [
    "off_clean['ingredients_text_en'] = off_clean['ingredients_text_en'].progress_apply(translation_terms)"
   ]
  },
  {
   "cell_type": "markdown",
   "id": "40d1493f-4148-4acc-b431-b47bb6e0c917",
   "metadata": {},
   "source": [
    "#### standardize columns and merge datasets"
   ]
  },
  {
   "cell_type": "code",
   "execution_count": 65,
   "id": "e17b91be-13cd-4863-8898-57203d764166",
   "metadata": {},
   "outputs": [],
   "source": [
    "# cleaning nutrient data\n",
    "def nutrition_adjust_function(dat, nutrient_list):\n",
    "    \"\"\"\n",
    "    Adjusts and standardizes nutrient data in a DataFrame.\n",
    "\n",
    "    Parameters:\n",
    "    - dat: pandas DataFrame containing nutrient information.\n",
    "    - nutrient_list: list of nutrient column names to process.\n",
    "\n",
    "    Returns:\n",
    "    - Modified DataFrame with standardized nutrient values and units.\n",
    "    \"\"\"\n",
    "    # Creating new columns to store data\n",
    "    for nutrient in nutrient_list:\n",
    "        dat[f\"{nutrient}_value\"] = np.nan\n",
    "        dat[f\"{nutrient}_unit\"] = np.nan\n",
    "\n",
    "    # Define units to extract\n",
    "    unit_pattern = r'(mg|g|kcal|calorie|kj|j|kiloj)'\n",
    "\n",
    "    # Define which nutrients are energy\n",
    "    energy_nutrients = ['energy_per_100']\n",
    "\n",
    "    for nutrient in nutrient_list:\n",
    "        # Process each nutrient column\n",
    "        value_col = f\"{nutrient}_value\"\n",
    "        unit_col = f\"{nutrient}_unit\"\n",
    "\n",
    "        # Ensure the nutrient column is string type for regex operations\n",
    "        dat[nutrient] = dat[nutrient].astype(str)\n",
    "\n",
    "        # Extract units using regex\n",
    "        dat[unit_col] = dat[nutrient].str.extract(unit_pattern, flags=re.IGNORECASE, expand=False)\n",
    "        dat[unit_col] = dat[unit_col].str.lower()\n",
    "\n",
    "        # Extract numeric values using regex\n",
    "        # Pattern to capture numbers with optional decimal separators and optional spaces\n",
    "        number_pattern = r'(\\d{1,4}\\s*[.,]?\\s*\\d{0,3})'\n",
    "\n",
    "        extracted_numbers = dat[nutrient].str.extract(number_pattern, flags=re.IGNORECASE, expand=False)\n",
    "        extracted_numbers = extracted_numbers.str.replace(r'\\s+', '', regex=True)  # Remove spaces\n",
    "        extracted_numbers = extracted_numbers.str.replace(',', '.', regex=False)  # Replace comma with dot\n",
    "\n",
    "        # Assign numeric values\n",
    "        dat[value_col] = pd.to_numeric(extracted_numbers, errors='coerce')\n",
    "\n",
    "        # Handle entries that are purely numeric (no units)\n",
    "        # Detect if the entire string is a number\n",
    "        purely_numeric_mask = dat[nutrient].str.strip().str.fullmatch(r'^\\d+([.,]\\d+)?$')\n",
    "\n",
    "        # Assign values and units for purely numeric entries\n",
    "        dat.loc[purely_numeric_mask, value_col] = pd.to_numeric(dat.loc[purely_numeric_mask, nutrient].str.replace(',', '.', regex=False), errors='coerce')\n",
    "        # Assign default units: 'kj' for energy, 'g' for others\n",
    "        default_unit = 'kj' if nutrient.lower() in [n.lower() for n in energy_nutrients] else 'g'\n",
    "        dat.loc[purely_numeric_mask, unit_col] = default_unit\n",
    "\n",
    "        # Adjusting units\n",
    "        # Convert kcal to kj\n",
    "        kcal_mask = dat[unit_col] == 'kcal'\n",
    "        dat.loc[kcal_mask, value_col] = dat.loc[kcal_mask, value_col] * 4.184\n",
    "        dat.loc[kcal_mask, unit_col] = 'kj'\n",
    "\n",
    "        # Convert mg to g\n",
    "        mg_mask = dat[unit_col] == 'mg'\n",
    "        dat.loc[mg_mask, value_col] = dat.loc[mg_mask, value_col] / 1000\n",
    "        dat.loc[mg_mask, unit_col] = 'g'\n",
    "\n",
    "        # Define expected unit based on nutrient type\n",
    "        expected_unit = 'kj' if nutrient.lower() in [n.lower() for n in energy_nutrients] else 'g'\n",
    "\n",
    "        # Identify invalid units\n",
    "        invalid_unit_mask = ~dat[unit_col].isin([expected_unit])\n",
    "\n",
    "        # Set invalid entries to NaN\n",
    "        dat.loc[invalid_unit_mask, value_col] = np.nan\n",
    "        dat.loc[invalid_unit_mask, unit_col] = np.nan\n",
    "\n",
    "        # Additionally, if the value is NaN, set unit to NaN\n",
    "        value_nan_mask = dat[value_col].isna()\n",
    "        dat.loc[value_nan_mask, unit_col] = np.nan\n",
    "\n",
    "    return dat"
   ]
  },
  {
   "cell_type": "code",
   "execution_count": 66,
   "id": "b9bf0314-a2fc-4375-9a72-7380e9a9faf2",
   "metadata": {},
   "outputs": [],
   "source": [
    "# Define the list of nutrients\n",
    "nutrient_list = ['energy_per_100', 'fat_per_100', 'saturates_per_100', \n",
    "                 'carbohydrate_per_100', 'fibre_per_100', 'protein_per_100', \n",
    "                 'sugar_per_100', 'salt_per_100']\n",
    "\n",
    "# Apply the function\n",
    "fdb = nutrition_adjust_function(fdb, nutrient_list)"
   ]
  },
  {
   "cell_type": "code",
   "execution_count": 67,
   "id": "ee8a72d2-0a08-432a-8886-90a44ac30397",
   "metadata": {},
   "outputs": [],
   "source": [
    "# Apply the function\n",
    "off_clean = nutrition_adjust_function(off_clean, nutrient_list)"
   ]
  },
  {
   "cell_type": "code",
   "execution_count": 68,
   "id": "33b5cf53-e8b4-4cad-9303-5d5ec97e61e7",
   "metadata": {},
   "outputs": [],
   "source": [
    "off_clean['serving_size'] = off_clean['serving_size'].fillna('')\n",
    "off_clean['serving_size_unit'] = 'g'\n",
    "off_clean.loc[(~off_clean['serving_size'].str.contains('g'))\n",
    "              & (off_clean['serving_size']!=''), 'serving_size_unit'] = 'ml'"
   ]
  },
  {
   "cell_type": "code",
   "execution_count": 69,
   "id": "06092d97-d0f4-4b49-9f78-3970701e6970",
   "metadata": {},
   "outputs": [],
   "source": [
    "off_clean = off_clean[['product_id', 'product_name_en', 'ingredients_text_en',\n",
    "                       'countries_en', 'stores', \n",
    "                       'energy_per_100', 'fat_per_100', 'saturates_per_100', \n",
    "                       'carbohydrate_per_100', 'fibre_per_100', 'protein_per_100', \n",
    "                       'sugar_per_100', 'salt_per_100',\n",
    "                       'energy_per_100_value', 'fat_per_100_value', 'saturates_per_100_value', \n",
    "                       'carbohydrate_per_100_value', 'fibre_per_100_value', 'protein_per_100_value', \n",
    "                       'sugar_per_100_value', 'salt_per_100_value',\n",
    "                       'energy_per_100_unit', 'fat_per_100_unit', 'saturates_per_100_unit', \n",
    "                       'carbohydrate_per_100_unit', 'fibre_per_100_unit', 'protein_per_100_unit', \n",
    "                       'sugar_per_100_unit', 'salt_per_100_unit',\n",
    "                       'serving_size', 'serving_quantity', 'serving_size_unit',\n",
    "                       'parentcategory', 'mainfoodgroup','subfoodgroup']].rename(\n",
    "    columns={'product_name_en': 'product_name', \n",
    "             'ingredients_text_en': 'ingredients_text',\n",
    "             'countries_en': 'country',\n",
    "             'stores': 'store',\n",
    "             'serving_quantity': 'serving_size_value',\n",
    "             'parentcategory': 'Department', \n",
    "             'mainfoodgroup': 'Aisle',\n",
    "             'subfoodgroup': 'Shelf'})"
   ]
  },
  {
   "cell_type": "code",
   "execution_count": 70,
   "id": "600ab5d5-8d23-45fc-882b-d55dd3c17a98",
   "metadata": {},
   "outputs": [],
   "source": [
    "off_clean['database'] = 'openfoodfacts'"
   ]
  },
  {
   "cell_type": "code",
   "execution_count": 71,
   "id": "d6f2c6ee-7c01-4f67-b89d-349d91b8fa3a",
   "metadata": {},
   "outputs": [
    {
     "data": {
      "text/plain": [
       "(569733, 36)"
      ]
     },
     "execution_count": 71,
     "metadata": {},
     "output_type": "execute_result"
    }
   ],
   "source": [
    "off_clean.shape"
   ]
  },
  {
   "cell_type": "code",
   "execution_count": 72,
   "id": "e34cede5-4312-4916-bd6f-7de285f069c2",
   "metadata": {},
   "outputs": [],
   "source": [
    "fdb['country'] = 'United Kingdom'\n",
    "fdb = fdb[['product_id', 'product_list_name', 'ingredients_text', \n",
    "           'country', 'store', \n",
    "           'energy_per_100', 'fat_per_100', 'saturates_per_100', \n",
    "           'carbohydrate_per_100', 'fibre_per_100', 'protein_per_100', \n",
    "           'sugar_per_100', 'salt_per_100',\n",
    "           'energy_per_100_value', 'fat_per_100_value', 'saturates_per_100_value', \n",
    "           'carbohydrate_per_100_value', 'fibre_per_100_value', 'protein_per_100_value', \n",
    "           'sugar_per_100_value', 'salt_per_100_value',\n",
    "           'energy_per_100_unit', 'fat_per_100_unit', 'saturates_per_100_unit', \n",
    "           'carbohydrate_per_100_unit', 'fibre_per_100_unit', 'protein_per_100_unit', \n",
    "           'sugar_per_100_unit', 'salt_per_100_unit',\n",
    "           'serving_size', 'serving_size_value', 'serving_size_unit',\n",
    "           'parentcategory_pred', 'mainfoodgroup_pred','subfoodgroup_pred']].rename(\n",
    "    columns={'product_list_name': 'product_name',\n",
    "             'parentcategory_pred': 'Department',\n",
    "             'mainfoodgroup_pred': 'Aisle',\n",
    "             'subfoodgroup_pred': 'Shelf'})"
   ]
  },
  {
   "cell_type": "code",
   "execution_count": 73,
   "id": "3ec4bb50-570f-489d-97dc-4ce280e0e971",
   "metadata": {},
   "outputs": [],
   "source": [
    "fdb.loc[(~fdb['serving_size_unit'].isin(['', 'g', 'ml']))\n",
    "        & (fdb['serving_size_unit'].notnull()), 'serving_size_value'] = np.nan\n",
    "fdb.loc[(~fdb['serving_size_unit'].isin(['', 'g', 'ml']))\n",
    "        & (fdb['serving_size_unit'].notnull()), 'serving_size_unit'] = ''\n",
    "fdb['database'] = 'fooddb'"
   ]
  },
  {
   "cell_type": "code",
   "execution_count": 74,
   "id": "8779b715-b05b-46eb-9833-1b74bda7f391",
   "metadata": {},
   "outputs": [
    {
     "data": {
      "text/plain": [
       "(242071, 36)"
      ]
     },
     "execution_count": 74,
     "metadata": {},
     "output_type": "execute_result"
    }
   ],
   "source": [
    "fdb.shape"
   ]
  },
  {
   "cell_type": "code",
   "execution_count": 75,
   "id": "6ecaf70d-c72f-4e2a-bd94-419069f64f73",
   "metadata": {},
   "outputs": [],
   "source": [
    "products_cats = pd.concat([off_clean, fdb], axis=0, ignore_index=True)"
   ]
  },
  {
   "cell_type": "code",
   "execution_count": 76,
   "id": "595a3b3b-d0d0-4b07-b929-fcc11fe7cba8",
   "metadata": {},
   "outputs": [
    {
     "data": {
      "text/plain": [
       "(811804, 36)"
      ]
     },
     "execution_count": 76,
     "metadata": {},
     "output_type": "execute_result"
    }
   ],
   "source": [
    "products_cats.shape"
   ]
  },
  {
   "cell_type": "code",
   "execution_count": 77,
   "id": "d29fb49d-b6dd-48f8-a520-d3d39a233440",
   "metadata": {},
   "outputs": [],
   "source": [
    "products_cats['country_group'] = 'UK'\n",
    "products_cats.loc[products_cats['country'].isin(['France', 'Germany', 'Switzerland', \n",
    "                                                 'Belgium']), 'country_group'] = 'EUwest' \n",
    "products_cats.loc[products_cats['country'].isin(['Italy', 'Spain']), 'country_group'] = 'EUsouth' "
   ]
  },
  {
   "cell_type": "code",
   "execution_count": 78,
   "id": "07e1dc5f-4fa5-40e2-acfb-d4ad4b1ca5b9",
   "metadata": {},
   "outputs": [],
   "source": [
    "# products_cats.sample(100)"
   ]
  },
  {
   "cell_type": "code",
   "execution_count": 79,
   "id": "7f02cb6a-8e63-4652-941f-60adfae5d303",
   "metadata": {},
   "outputs": [],
   "source": [
    "# can think about department aisle shelf, maybe rename columns according to R script, add more rows to off_clean with or without ingredients"
   ]
  },
  {
   "cell_type": "code",
   "execution_count": 80,
   "id": "e4a81bea-0a79-4a71-9978-3558aa806017",
   "metadata": {},
   "outputs": [],
   "source": [
    "# maybe do this before cleaning - and remove this from r script (lines 358-364), also 798 to 804\n",
    "\n",
    "# products_cats[products_cats['ingredients_text'].str.contains(r'%.*?\\b(fat|less|reduced|lower)\\b', \n",
    "#                                                              case=False, regex=True)].shape"
   ]
  },
  {
   "cell_type": "code",
   "execution_count": 81,
   "id": "ba1ae164-41b7-49a8-a371-b6a33925a616",
   "metadata": {},
   "outputs": [
    {
     "data": {
      "text/plain": [
       "(627268, 37)"
      ]
     },
     "execution_count": 81,
     "metadata": {},
     "output_type": "execute_result"
    }
   ],
   "source": [
    "products_cats[products_cats['ingredients_text']!=''].shape"
   ]
  },
  {
   "cell_type": "code",
   "execution_count": 82,
   "id": "5522683b-b771-41a2-894c-2be6860e5718",
   "metadata": {},
   "outputs": [
    {
     "data": {
      "text/plain": [
       "United Kingdom    232361\n",
       "United States     167932\n",
       "France            126237\n",
       "Germany            35051\n",
       "Spain              17674\n",
       "Switzerland        12800\n",
       "Italy              10907\n",
       "Belgium             9366\n",
       "Canada              6442\n",
       "Australia           5383\n",
       "Ireland             3115\n",
       "Name: country, dtype: int64"
      ]
     },
     "execution_count": 82,
     "metadata": {},
     "output_type": "execute_result"
    }
   ],
   "source": [
    "products_cats[products_cats['ingredients_text']!='']['country'].value_counts()"
   ]
  },
  {
   "cell_type": "code",
   "execution_count": 86,
   "id": "e6546362-7176-445f-888d-ec4c76e0c122",
   "metadata": {},
   "outputs": [],
   "source": [
    "products_cats.to_csv('../../SFS/environmental_impacts/Products_dat/products_categories.csv', index=False)"
   ]
  },
  {
   "cell_type": "code",
   "execution_count": null,
   "id": "d86ec794-d482-481f-9e24-a4e5d69d2ede",
   "metadata": {},
   "outputs": [],
   "source": []
  }
 ],
 "metadata": {
  "kernelspec": {
   "display_name": "Python 3 (ipykernel)",
   "language": "python",
   "name": "python3"
  },
  "language_info": {
   "codemirror_mode": {
    "name": "ipython",
    "version": 3
   },
   "file_extension": ".py",
   "mimetype": "text/x-python",
   "name": "python",
   "nbconvert_exporter": "python",
   "pygments_lexer": "ipython3",
   "version": "3.7.10"
  }
 },
 "nbformat": 4,
 "nbformat_minor": 5
}
