{
 "cells": [
  {
   "cell_type": "code",
   "execution_count": 1,
   "id": "189236b8-6970-4b17-b058-20c638639147",
   "metadata": {},
   "outputs": [
    {
     "name": "stdout",
     "output_type": "stream",
     "text": [
      "\u001b[34mproduct_impacts\u001b[m\u001b[m\n"
     ]
    }
   ],
   "source": [
    "import os\n",
    "os.chdir('../..')\n",
    "!ls"
   ]
  },
  {
   "cell_type": "code",
   "execution_count": 2,
   "id": "f2a73d85-6cd0-4a97-b1d8-2a66a9aeadd8",
   "metadata": {},
   "outputs": [],
   "source": [
    "import pandas as pd\n",
    "import numpy as np\n",
    "import re\n",
    "import unicodedata\n",
    "from skimpy import skim\n",
    "from tqdm.notebook import tqdm\n",
    "\n",
    "from product_impacts.product_cat.run_model import get_store\n",
    "\n",
    "pd.set_option('display.max_columns', None)\n",
    "pd.set_option('display.max_rows', None)\n",
    "tqdm.pandas()"
   ]
  },
  {
   "cell_type": "markdown",
   "id": "05714347-81d9-405c-b14c-bf71c38b93e1",
   "metadata": {},
   "source": [
    "#### Food db data"
   ]
  },
  {
   "cell_type": "code",
   "execution_count": 3,
   "id": "0a9ad4cf-65a4-4a73-8fc6-794aba67b324",
   "metadata": {},
   "outputs": [
    {
     "name": "stderr",
     "output_type": "stream",
     "text": [
      "/Users/shruti/anaconda3/envs/ct_map/lib/python3.7/site-packages/IPython/core/interactiveshell.py:3457: DtypeWarning: Columns (16) have mixed types.Specify dtype option on import or set low_memory=False.\n",
      "  exec(code_obj, self.user_global_ns, self.user_ns)\n",
      "/Users/shruti/anaconda3/envs/ct_map/lib/python3.7/site-packages/IPython/core/interactiveshell.py:3457: DtypeWarning: Columns (37,38,40,41) have mixed types.Specify dtype option on import or set low_memory=False.\n",
      "  exec(code_obj, self.user_global_ns, self.user_ns)\n"
     ]
    }
   ],
   "source": [
    "fdb = pd.read_csv('../../SFS/NDNS UK/predictions/all_predictions_15Oct2024.csv')\n",
    "\n",
    "products1 = pd.read_csv('../../SFS/all_fooddb_data_extracts/Extract_2019/foodDB_Raw/products.csv', usecols= [\n",
    "    'product_id', 'product_list_name', 'product_name', 'ingredients_text',  \n",
    "    'energy_per_100', 'fat_per_100', 'saturates_per_100', 'salt_per_100', \n",
    "    'sugar_per_100', 'carbohydrate_per_100', 'protein_per_100', 'fibre_per_100',\n",
    "    'serving', 'serving_value', 'serving_unit']).rename(columns={\n",
    "    'serving': 'serving_size', \n",
    "    'serving_value': 'serving_size_value', \n",
    "    'serving_unit': 'serving_size_unit'})\n",
    "products2 = pd.read_csv('../../SFS/all_fooddb_data_extracts/Extract_2021/foodDB_dat/products.csv', usecols= [\n",
    "    'product_id', 'product_list_name', 'product_name', 'ingredients_text', \n",
    "    'energy_per_100', 'fat_per_100', 'saturates_per_100', 'salt_per_100', \n",
    "    'sugar_per_100', 'carbohydrate_per_100', 'protein_per_100', 'fibre_per_100',\n",
    "    'serving', 'serving_value', 'serving_unit']).rename(columns={\n",
    "    'serving': 'serving_size', \n",
    "    'serving_value': 'serving_size_value', \n",
    "    'serving_unit': 'serving_size_unit'})\n",
    "products3 = pd.read_csv('../../SFS/all_fooddb_data_extracts/Extract_2022/May_2022_Extract/products.csv',  usecols= [\n",
    "    'foodDB_product_id', 'product_list_name', 'product_name', 'ingredients_list', \n",
    "    'Energy', 'Fat', 'Saturates', 'Salt', 'Sugar', 'Carbohydrate', 'Fibre', 'Protein',\n",
    "    'serving_size', 'serving_size_value', 'serving_size_unit']).rename(columns={\n",
    "    'foodDB_product_id': 'product_id',\n",
    "    'ingredients_list': 'ingredients_text',\n",
    "    'Energy': 'energy_per_100',\n",
    "    'Fat': 'fat_per_100', \n",
    "    'Saturates': 'saturates_per_100', \n",
    "    'Salt': 'salt_per_100', \n",
    "    'Sugar': 'sugar_per_100', \n",
    "    'Carbohydrate': 'carbohydrate_per_100', \n",
    "    'Protein': 'protein_per_100', \n",
    "    'Fibre': 'fibre_per_100'})\n",
    "products = pd.concat([products1, products2, products3], axis=0, ignore_index=True)\n",
    "\n",
    "products = products.drop_duplicates(['product_id']).reset_index(drop=True)\n",
    "products.loc[(products['product_name'].notnull()) \n",
    "             & (products['product_name'].str.len()>products['product_list_name'].str.len()),\n",
    "             'product_list_name'] = products[\n",
    "    (products['product_name'].notnull()) \n",
    "    & (products['product_name'].str.len()>products['product_list_name'].str.len())]['product_name']\n",
    "products['ingredients_text'] = products['ingredients_text'].fillna('')\n",
    "\n",
    "fdb = products.merge(fdb[['product_id', 'store', 'parentcategory_pred', 'mainfoodgroup_pred', 'subfoodgroup_pred']])"
   ]
  },
  {
   "cell_type": "code",
   "execution_count": 4,
   "id": "a359f9c3-3eb7-40b8-b1f2-804a2e723bbb",
   "metadata": {},
   "outputs": [
    {
     "data": {
      "text/plain": [
       "(262711, 19)"
      ]
     },
     "execution_count": 4,
     "metadata": {},
     "output_type": "execute_result"
    }
   ],
   "source": [
    "fdb.shape"
   ]
  },
  {
   "cell_type": "code",
   "execution_count": 5,
   "id": "e3ab0f0b-f952-4f27-9c87-cf065f2e0905",
   "metadata": {},
   "outputs": [],
   "source": [
    "fdb = fdb[~fdb['parentcategory_pred'].isin(['Alcoholic Beverages', 'Not Food', \n",
    "                                            # 'Artificial Sweeteners'\n",
    "                                           ])]"
   ]
  },
  {
   "cell_type": "code",
   "execution_count": 6,
   "id": "e2266bc9-cef2-4b8a-bfce-5bef2c0e59ae",
   "metadata": {},
   "outputs": [],
   "source": [
    "# replacing grams with % (doing this separately here as the cleaning function function removes *)\n",
    "exclusion_pattern = r'(?!.*egg\\*\\*)(?!.*veg\\*\\*)(?!.*ing\\*\\*)'\n",
    "pattern = rf'^{exclusion_pattern}.*g\\*\\*.*$'\n",
    "combined_condition = fdb['ingredients_text'].str.contains(pattern, case=False, regex=True)\n",
    "fdb.loc[combined_condition, 'ingredients_text'] = fdb.loc[combined_condition, \n",
    "                                                          'ingredients_text'].str.replace('g**', '%', regex=False)"
   ]
  },
  {
   "cell_type": "code",
   "execution_count": 7,
   "id": "6e63c5c8-68c3-44b0-a078-7a9cdbafbf90",
   "metadata": {},
   "outputs": [
    {
     "data": {
      "text/plain": [
       "(242475, 19)"
      ]
     },
     "execution_count": 7,
     "metadata": {},
     "output_type": "execute_result"
    }
   ],
   "source": [
    "fdb.shape"
   ]
  },
  {
   "cell_type": "code",
   "execution_count": 8,
   "id": "f859747e-9385-4f44-8eb8-5c2ac5922a6a",
   "metadata": {},
   "outputs": [
    {
     "data": {
      "text/plain": [
       "Cereals and Cereal Products             52426\n",
       "Miscellaneous                           27598\n",
       "Meat and Meat Products                  26837\n",
       "Non-Alcoholic Beverages                 25994\n",
       "Sugar, Preserves and Confectionery      25822\n",
       "Vegetables, Potatoes                    23757\n",
       "Milk and Milk Products                  23239\n",
       "Fish and Fish Dishes                     9302\n",
       "Fruit                                    7343\n",
       "Savoury Snacks                           6460\n",
       "Nuts and Seeds                           5057\n",
       "Fat Spreads                              3811\n",
       "Commercial Toddlers Foods and Drinks     2488\n",
       "Eggs and Egg Dishes                      1315\n",
       "Dietary Supplements                       622\n",
       "Artificial Sweeteners                     404\n",
       "Name: parentcategory_pred, dtype: int64"
      ]
     },
     "execution_count": 8,
     "metadata": {},
     "output_type": "execute_result"
    }
   ],
   "source": [
    "fdb['parentcategory_pred'].value_counts()"
   ]
  },
  {
   "cell_type": "markdown",
   "id": "b7ac5321-6932-4b0e-8428-62da9d7e7db7",
   "metadata": {},
   "source": [
    "#### Open food facts data"
   ]
  },
  {
   "cell_type": "code",
   "execution_count": 9,
   "id": "7e356887-c12d-41f9-9894-598b0d14104e",
   "metadata": {},
   "outputs": [
    {
     "name": "stderr",
     "output_type": "stream",
     "text": [
      "/Users/shruti/anaconda3/envs/ct_map/lib/python3.7/site-packages/IPython/core/interactiveshell.py:3457: DtypeWarning: Columns (15,16,29) have mixed types.Specify dtype option on import or set low_memory=False.\n",
      "  exec(code_obj, self.user_global_ns, self.user_ns)\n"
     ]
    }
   ],
   "source": [
    "# it is okay to just go with the neaural network oredictions and impose a 0.8 threshold (maybe this is too conservative, can rethink)\n",
    "off = pd.read_csv('../../SFS/openfoodfacts/all/openfoodfacts_lang.csv')\n",
    "\n",
    "off = off[['product_id', 'product_name', 'ingredients_text',\n",
    "           'product_name_en', 'ingredients_text_en', 'countries_en', 'stores',\n",
    "           'energy_100g', 'fat_100g', 'saturated-fat_100g', 'carbohydrates_100g', \n",
    "           'fiber_100g', 'proteins_100g', 'sugars_100g', 'salt_100g', \n",
    "           'serving_size', 'serving_quantity']].rename(columns={\n",
    "    'energy_100g': 'energy_per_100', \n",
    "    'fat_100g': 'fat_per_100', \n",
    "    'saturated-fat_100g': 'saturates_per_100', \n",
    "    'salt_100g': 'salt_per_100', \n",
    "    'sugars_100g': 'sugar_per_100',\n",
    "    'carbohydrates_100g': 'carbohydrate_per_100', \n",
    "    'proteins_100g': 'protein_per_100', \n",
    "    'fiber_100g': 'fibre_per_100'})\n",
    "\n",
    "preds = []\n",
    "\n",
    "for prefix in ['eng/', 'non_eng/']:\n",
    "    pred = pd.read_csv(f'../../SFS/openfoodfacts/all/predictions/{prefix}predictions_nn.csv')\n",
    "\n",
    "    # pred = pred[(pred['parentcategory_prob']>0.8)\n",
    "    #                   & ((pred['subfoodgroup_prob'].isna()) | (pred['subfoodgroup_prob']>0.8))]\n",
    "    \n",
    "    preds.append(pred)\n",
    "\n",
    "preds = pd.concat(preds, axis=0, ignore_index=True)\n",
    "off = off.merge(preds)"
   ]
  },
  {
   "cell_type": "code",
   "execution_count": 10,
   "id": "43910520-6b0e-479e-bab9-1d00cf6e7d7d",
   "metadata": {},
   "outputs": [
    {
     "data": {
      "text/plain": [
       "(960365, 22)"
      ]
     },
     "execution_count": 10,
     "metadata": {},
     "output_type": "execute_result"
    }
   ],
   "source": [
    "off[off['ingredients_text_en'].notnull()].shape"
   ]
  },
  {
   "cell_type": "code",
   "execution_count": 11,
   "id": "3d27ed88-c097-48e8-b72e-baf9c8a8fb99",
   "metadata": {},
   "outputs": [],
   "source": [
    "off = off[~off['parentcategory'].isin(['Alcoholic Beverages', 'Not Food', \n",
    "                                       # 'Artificial Sweeteners'\n",
    "                                      ])]"
   ]
  },
  {
   "cell_type": "code",
   "execution_count": 12,
   "id": "7c2aa6b1-a6c6-4c97-b369-6f0d73e0bc9f",
   "metadata": {},
   "outputs": [],
   "source": [
    "off['ingredients_text_en'] = off['ingredients_text_en'].fillna('')"
   ]
  },
  {
   "cell_type": "code",
   "execution_count": 13,
   "id": "dc0cc7bb-6c2f-49f4-ac26-4e6b06f9d31f",
   "metadata": {},
   "outputs": [
    {
     "data": {
      "text/plain": [
       "(1213083, 22)"
      ]
     },
     "execution_count": 13,
     "metadata": {},
     "output_type": "execute_result"
    }
   ],
   "source": [
    "off.shape"
   ]
  },
  {
   "cell_type": "code",
   "execution_count": 14,
   "id": "178ce711-4015-43ee-84d6-04d09f99102a",
   "metadata": {},
   "outputs": [
    {
     "data": {
      "text/plain": [
       "(932678, 22)"
      ]
     },
     "execution_count": 14,
     "metadata": {},
     "output_type": "execute_result"
    }
   ],
   "source": [
    "off[off['ingredients_text_en']!=''].shape"
   ]
  },
  {
   "cell_type": "code",
   "execution_count": 15,
   "id": "86185ce2-540d-4a56-a3ab-befbddb45f6a",
   "metadata": {},
   "outputs": [
    {
     "data": {
      "text/plain": [
       "United States           299563\n",
       "France                  273609\n",
       "Germany                  71872\n",
       "Spain                    35922\n",
       "United Kingdom           34127\n",
       "Switzerland              24609\n",
       "Italy                    22646\n",
       "Belgium                  19255\n",
       "World                    18443\n",
       "Canada                   12990\n",
       "Netherlands              11708\n",
       "Australia                 8909\n",
       "Poland                    6917\n",
       "Ireland                   5555\n",
       "Mexico                    5418\n",
       "Austria                   4977\n",
       "Portugal                  4577\n",
       "Bulgaria                  4576\n",
       "Sweden                    4177\n",
       "Czech Republic            3936\n",
       "Norway                    3612\n",
       "Romania                   3461\n",
       "Finland                   3376\n",
       "New Zealand               3096\n",
       "Argentina                 3066\n",
       "Thailand                  2844\n",
       "Russia                    2672\n",
       "Bolivia                   2612\n",
       "Brazil                    2408\n",
       "India                     2204\n",
       "Hungary                   1947\n",
       "Croatia                   1658\n",
       "Luxembourg                1609\n",
       "Morocco                   1519\n",
       "Denmark                   1486\n",
       "South Africa              1222\n",
       "Chile                     1179\n",
       "Tunisia                   1145\n",
       "Colombia                  1131\n",
       "Réunion                   1118\n",
       "Algeria                   1018\n",
       "Greece                     988\n",
       "Serbia                     940\n",
       "Japan                      863\n",
       "Singapore                  842\n",
       "Slovakia                   710\n",
       "Slovenia                   705\n",
       "Indonesia                  599\n",
       "Lithuania                  567\n",
       "French Polynesia           556\n",
       "Guadeloupe                 510\n",
       "Hong Kong                  488\n",
       "Peru                       485\n",
       "Philippines                477\n",
       "Latvia                     443\n",
       "Saudi Arabia               437\n",
       "Turkey                     437\n",
       "Martinique                 411\n",
       "Ukraine                    349\n",
       "Costa Rica                 341\n",
       "New Caledonia              322\n",
       "United Arab Emirates       314\n",
       "Panama                     291\n",
       "Estonia                    267\n",
       "Malaysia                   252\n",
       "Israel                     248\n",
       "Ecuador                    220\n",
       "Venezuela                  186\n",
       "Iraq                       170\n",
       "Puerto Rico                170\n",
       "Qatar                      169\n",
       "Lebanon                    154\n",
       "Kuwait                     150\n",
       "Egypt                      130\n",
       "South Korea                113\n",
       "Cuba                       110\n",
       "Cyprus                      95\n",
       "Name: countries_en, dtype: int64"
      ]
     },
     "execution_count": 15,
     "metadata": {},
     "output_type": "execute_result"
    }
   ],
   "source": [
    "off[off['ingredients_text_en']!='']['countries_en'].value_counts()"
   ]
  },
  {
   "cell_type": "code",
   "execution_count": 16,
   "id": "f251ef48-abcf-4157-b720-c82493a0733e",
   "metadata": {},
   "outputs": [
    {
     "data": {
      "text/plain": [
       "Cereals and Cereal Products             254065\n",
       "Sugar, Preserves and Confectionery      153977\n",
       "Vegetables, Potatoes                    141228\n",
       "Milk and Milk Products                  138615\n",
       "Non-Alcoholic Beverages                 116132\n",
       "Meat and Meat Products                  115478\n",
       "Miscellaneous                           106677\n",
       "Fruit                                    47197\n",
       "Nuts and Seeds                           39211\n",
       "Fish and Fish Dishes                     37821\n",
       "Savoury Snacks                           31372\n",
       "Fat Spreads                              19052\n",
       "Eggs and Egg Dishes                       5294\n",
       "Dietary Supplements                       3964\n",
       "Commercial Toddlers Foods and Drinks      1642\n",
       "Artificial Sweeteners                     1358\n",
       "Name: parentcategory, dtype: int64"
      ]
     },
     "execution_count": 16,
     "metadata": {},
     "output_type": "execute_result"
    }
   ],
   "source": [
    "off['parentcategory'].value_counts()"
   ]
  },
  {
   "cell_type": "code",
   "execution_count": 17,
   "id": "d310e017-208d-4c37-a6f7-eefa2cb6edc1",
   "metadata": {},
   "outputs": [],
   "source": [
    "# off[off['countries_en'].isin(['United States', 'France', 'United Kingdom', 'Germany',\n",
    "#                               'Spain', 'Switzerland', 'Italy', 'Canada', 'Belgium',\n",
    "#                               'Australia', 'Ireland'])].groupby(\n",
    "#     ['countries_en', 'parentcategory']).count()[['product_id']].reset_index().pivot(\n",
    "#     index='countries_en', columns='parentcategory', values='product_id')"
   ]
  },
  {
   "cell_type": "markdown",
   "id": "ceef34f7-ca9e-4751-a4b7-c90c19f98490",
   "metadata": {},
   "source": [
    "#### Generic cleaning funciton - can be applied to both food db and open food facts"
   ]
  },
  {
   "cell_type": "code",
   "execution_count": 18,
   "id": "7d90cdab-64a3-46a7-844a-63132c8d9d8a",
   "metadata": {},
   "outputs": [],
   "source": [
    "def clean_ingredients(text, is_fdb=True):\n",
    "    \n",
    "    # Mapping for special characters not handled by unicodedata\n",
    "    special_replacements = {\n",
    "        'ß': 'ss',\n",
    "        'Æ': 'ae',\n",
    "        'æ': 'ae',\n",
    "        'Œ': 'oe',\n",
    "        'œ': 'oe',\n",
    "        'Ø': 'o',\n",
    "        'ø': 'o',\n",
    "        'Đ': 'd',\n",
    "        'đ': 'd',\n",
    "        'Þ': 'th',\n",
    "        'þ': 'th',\n",
    "        # Add more mappings as needed\n",
    "    }\n",
    "    \n",
    "    # Removing unwanted characters and words\n",
    "    text = text.lower()\n",
    "    text = text.replace(\"*\", \" \").replace(\"_\", \" \").replace(\"’\", \"'\").replace(\"?\", \" \").replace(\"=\", \" \").replace(\"^\", \" \")\n",
    "    text = re.sub(' +', ' ', text)\n",
    "    text = text.replace(\";\", \",\").replace(\",,\", \",\").replace(\", ,\", \",\")\n",
    "    text = text.replace(\": (\", \"(\")\n",
    "    text = text.replace(\"“\", \"\").replace(\"”\", \"\")\n",
    "    text = text.replace(\"& quot;\", \"\")  # remove html encoded quotes\n",
    "    text = text.replace(\"â€\\xa0\", \"\")\n",
    "    text = text.replace(\"\\u200b\", \"\")\n",
    "    text = text.replace(\"&\", \"and\")      # replace ampersand\n",
    "    text = text.replace('ingredients:', '')\n",
    "    text = text.replace('ingredients list:', '')\n",
    "    text = re.sub(r'(?<!\\s)\\(', ' (', text)\n",
    "    \n",
    "    # removing diacritics and replacing special Latin characters\n",
    "    for char, replacement in special_replacements.items():\n",
    "        text = text.replace(char, replacement)\n",
    "    # Normalize the string to NFD (Normalization Form Decomposition)\n",
    "    text = unicodedata.normalize('NFD', text)\n",
    "    # Remove combining diacritical marks\n",
    "    text = re.sub(r'[\\u0300-\\u036f]', '', text)\n",
    "    \n",
    "    # Converting brackets to parentheses\n",
    "    text = re.sub(\"\\[|\\{\",\"(\", text)\n",
    "    text = re.sub(\"\\]|\\}\",\")\", text)\n",
    "\n",
    "    # Replacing \"per cent\" with \"%\"\n",
    "    text = re.sub(r\"per(\\s)?cent\", \"%\", text)\n",
    "    text = text.replace(\" %\", \"%\")\n",
    "    text = text.replace(\"%\", \"% \")\n",
    "    text = text.replace(\"( \", \"(\").replace(\" )\", \")\")\n",
    "    text = re.sub(' +', ' ', text)\n",
    "    text = text.replace(\"%%\", \"%\")\n",
    "    \n",
    "    # Fix \"(10% brown\" → \"(10%) brown\"\n",
    "    text = re.sub(r'\\((\\d+(?:\\.\\d+)?)%(\\s)', r'(\\1%)\\2', text)\n",
    "    # Fix \"grapes 10%)\" → \"grapes (10%)\" \n",
    "    text = re.sub(r'\\s+([+-]?\\d+(?:\\.\\d+)?)%\\)', r' (\\1%)', text)\n",
    "    # Fix \"10%\" → \"(10%)\"\n",
    "    text = re.sub(r'(?<!\\()(\\d+(?:\\.\\d+)?)%(?!\\))', r'(\\1%)', text)\n",
    "    \n",
    "    # Removing specific allergen advice text and other labels\n",
    "    if is_fdb:\n",
    "        text = text.replace(\"allergy Advice: for allergens see highlighted ingredients\", \"\")\n",
    "        text = text.replace(\"for allergens, see undelined ingredients in bold.\", \"\")\n",
    "    text = re.sub(r'allerg.*', '', text)\n",
    "    text = re.sub(r'it may contain.*', '', text)\n",
    "    text = re.sub(r'may contain.*', '', text)\n",
    "    text = re.sub(r'our method.*', '', text)\n",
    "    text = re.sub(r'www.*', '', text)\n",
    "    text = re.sub(r'dietary advice.*', '', text)\n",
    "    text = re.sub(r'not suitable for.*', '', text)\n",
    "    text = re.sub(r'suitable for.*', '', text)\n",
    "    text = re.sub(r'this product is made in.*', '', text)\n",
    "    text = re.sub(r'made in.*', '', text)\n",
    "    text = re.sub(r'free from.*', '', text)\n",
    "    text = re.sub(r'rainforest alliance.*', '', text)\n",
    "    text = re.sub(r'organic ingredients certified.*', '', text)\n",
    "    text = re.sub(r'certified organic ingredients.*', '', text)\n",
    "    text = re.sub(r'from sustainably grown.*', '', text)\n",
    "    text = text.replace('sustainably grown', '')\n",
    "    text = re.sub(r'†from.*', '', text)\n",
    "    text = text.replace(\"†\", \" \").strip()\n",
    "    text = re.sub(' +', ' ', text)\n",
    "\n",
    "    # removing empty brackets\n",
    "    text = text.replace(\"()\",\" \").strip()\n",
    "    text = re.sub(' +', ' ', text)\n",
    "    \n",
    "    return text"
   ]
  },
  {
   "cell_type": "code",
   "execution_count": 19,
   "id": "52344361-2110-47e4-9449-e08fb07f813b",
   "metadata": {},
   "outputs": [
    {
     "data": {
      "application/vnd.jupyter.widget-view+json": {
       "model_id": "6658dee8ed1942d49cf17ca38e02dcc8",
       "version_major": 2,
       "version_minor": 0
      },
      "text/plain": [
       "  0%|          | 0/242475 [00:00<?, ?it/s]"
      ]
     },
     "metadata": {},
     "output_type": "display_data"
    }
   ],
   "source": [
    "fdb['ingredients_text'] = fdb.progress_apply(lambda row: clean_ingredients(row['ingredients_text'], True), axis=1)"
   ]
  },
  {
   "cell_type": "code",
   "execution_count": 20,
   "id": "3e6c3624-5508-457d-ad71-107bcfaf7b83",
   "metadata": {},
   "outputs": [
    {
     "data": {
      "application/vnd.jupyter.widget-view+json": {
       "model_id": "1aec9130a9354e7a904a479ece6db152",
       "version_major": 2,
       "version_minor": 0
      },
      "text/plain": [
       "  0%|          | 0/1213083 [00:00<?, ?it/s]"
      ]
     },
     "metadata": {},
     "output_type": "display_data"
    }
   ],
   "source": [
    "off['ingredients_text_en'] = off.progress_apply(lambda row: clean_ingredients(row['ingredients_text_en'], False), axis=1)"
   ]
  },
  {
   "cell_type": "markdown",
   "id": "fc9ea5ff-7592-427e-b66b-fc246af29826",
   "metadata": {},
   "source": [
    "#### cleaning functions only for open food facts"
   ]
  },
  {
   "cell_type": "code",
   "execution_count": 21,
   "id": "ead08498-f105-4bf1-9c91-5110e55ddf4b",
   "metadata": {},
   "outputs": [],
   "source": [
    "def clean_ingredients2(text):\n",
    "    \n",
    "    # handling ' - ' separaters \n",
    "    if ',' not in text:\n",
    "        text = text.replace(\" - \", \", \")\n",
    "        \n",
    "    # removing origin: ...\n",
    "    text = re.sub(\"\\(origin:[^)]*\\)\", \"\", text)\n",
    "    text = re.sub(\"\\(country of origin:[^)]*\\)\", \"\", text)\n",
    "    text = re.sub(\"origin:[^.]*\\.\", \"\", text)\n",
    "    \n",
    "    text = re.sub(r'although every care.*', '', text)\n",
    "    \n",
    "    return text"
   ]
  },
  {
   "cell_type": "code",
   "execution_count": 22,
   "id": "58436ffd-114c-4ade-aab8-670d5f5acb7d",
   "metadata": {},
   "outputs": [
    {
     "data": {
      "application/vnd.jupyter.widget-view+json": {
       "model_id": "e6981c369a10460991b51ec696638c4f",
       "version_major": 2,
       "version_minor": 0
      },
      "text/plain": [
       "  0%|          | 0/1213083 [00:00<?, ?it/s]"
      ]
     },
     "metadata": {},
     "output_type": "display_data"
    }
   ],
   "source": [
    "off['ingredients_text_en'] = off.progress_apply(lambda row: clean_ingredients2(row['ingredients_text_en']), axis=1)"
   ]
  },
  {
   "cell_type": "code",
   "execution_count": 23,
   "id": "ee842a94-8b7a-4b20-9a62-5f06c1fe9b68",
   "metadata": {},
   "outputs": [],
   "source": [
    "off = off[off['countries_en']!='World']"
   ]
  },
  {
   "cell_type": "code",
   "execution_count": 24,
   "id": "a4963b78-a627-4dc2-a87b-235563a89f30",
   "metadata": {},
   "outputs": [],
   "source": [
    "# off = off[off['countries_en'].isin(['United States', 'France', 'United Kingdom', 'Germany',\n",
    "#                                     'Spain', 'Switzerland', 'Italy', 'Canada', 'Belgium',\n",
    "#                                     'Australia', 'Ireland'])].reset_index(drop=True)"
   ]
  },
  {
   "cell_type": "code",
   "execution_count": 25,
   "id": "2e2d6eff-fd9f-4858-8b4a-1e3bf78af5e5",
   "metadata": {},
   "outputs": [],
   "source": [
    "# 2 rows have large and weird strings, removing those\n",
    "off.loc[(off['ingredients_text_en'].str.contains('helado sabor a vainilla 55,(5%)', regex=False)), \n",
    "        'ingredients_text_en'] = ''"
   ]
  },
  {
   "cell_type": "code",
   "execution_count": 26,
   "id": "e66854e2-94f4-455b-ab71-e01681864a74",
   "metadata": {},
   "outputs": [],
   "source": [
    "allowed_pattern = r'^[A-Za-z0-9.\\(\\),% ]+$' # allowing only alphanumeric, periods, percentages, parantheses, commas\n",
    "off1 = off[(off['ingredients_text_en'].str.match(allowed_pattern))\n",
    "           | (off['ingredients_text_en']=='')\n",
    "          ]\n",
    "\n",
    "off2 = off[(~off['ingredients_text_en'].str.match(allowed_pattern))\n",
    "           & (off['ingredients_text_en']!='')\n",
    "          ]"
   ]
  },
  {
   "cell_type": "code",
   "execution_count": 27,
   "id": "75fa1c72-c16d-4094-b827-7126f9a77240",
   "metadata": {},
   "outputs": [
    {
     "data": {
      "text/plain": [
       "(728336, 22)"
      ]
     },
     "execution_count": 27,
     "metadata": {},
     "output_type": "execute_result"
    }
   ],
   "source": [
    "off1.shape"
   ]
  },
  {
   "cell_type": "code",
   "execution_count": 28,
   "id": "260eba78-a4af-403a-b137-894fb6ac3cf9",
   "metadata": {},
   "outputs": [
    {
     "data": {
      "text/plain": [
       "(449560, 22)"
      ]
     },
     "execution_count": 28,
     "metadata": {},
     "output_type": "execute_result"
    }
   ],
   "source": [
    "off2.shape # figure out if any of these are usable"
   ]
  },
  {
   "cell_type": "code",
   "execution_count": 29,
   "id": "9e2a697f-c5e2-45d8-a9cb-589e21b9901c",
   "metadata": {},
   "outputs": [],
   "source": [
    "def correct_structure(s, max_iterations=10):\n",
    "    \"\"\"\n",
    "    Corrects the structure of the input string by ensuring that percentages\n",
    "    are placed immediately after the relevant words within each segment.\n",
    "\n",
    "    Args:\n",
    "        s (str): The input string to be corrected.\n",
    "\n",
    "    Returns:\n",
    "        str: The corrected string with properly structured segments.\n",
    "    \"\"\"\n",
    "    s = re.sub(' +', ' ', s)\n",
    "    s = re.sub(r'\\.$', '', s)\n",
    "    s = re.sub(r'\\,$', '', s)\n",
    "\n",
    "    # Pattern 1: (percentage) word => word (percentage)\n",
    "    pattern1 = re.compile(r'\\((\\d+(\\.\\d+)?)%\\)\\s+([^(),]+)')\n",
    "    replacement1 = r'\\3 (\\1%)'\n",
    "\n",
    "    # Pattern 2: word (description) (percentage) => word (percentage) (description)\n",
    "    pattern2 = re.compile(r'([^(),]+)\\s*\\(([^()]+)\\)\\s*\\((\\d+(\\.\\d+)?)%\\)')\n",
    "    replacement2 = r'\\1 (\\3%) (\\2)'\n",
    "\n",
    "    iterations = 0\n",
    "    previous_s = None\n",
    "\n",
    "    while previous_s != s and iterations < max_iterations:\n",
    "        previous_s = s\n",
    "        s = pattern1.sub(replacement1, s)\n",
    "        s = pattern2.sub(replacement2, s)\n",
    "        iterations += 1\n",
    "\n",
    "    if iterations >= max_iterations:\n",
    "        # Optionally, log the problematic string for debugging\n",
    "        # print(f\"Max iterations reached. Replacing string with empty string: {s}\")\n",
    "        return ''\n",
    "    \n",
    "    # Clean up any extra spaces resulting from substitutions\n",
    "    s = re.sub(r'\\s+', ' ', s)\n",
    "    \n",
    "    s = s.replace('(', ' (')\n",
    "    s = re.sub(' +', ' ', s)\n",
    "\n",
    "    return s.strip()"
   ]
  },
  {
   "cell_type": "code",
   "execution_count": 30,
   "id": "50e5f15a-dc78-4c63-8f45-d65350faa2a6",
   "metadata": {},
   "outputs": [
    {
     "data": {
      "application/vnd.jupyter.widget-view+json": {
       "model_id": "9124c253ea4f4283a1e180532ae2ff2e",
       "version_major": 2,
       "version_minor": 0
      },
      "text/plain": [
       "  0%|          | 0/728336 [00:00<?, ?it/s]"
      ]
     },
     "metadata": {},
     "output_type": "display_data"
    },
    {
     "name": "stderr",
     "output_type": "stream",
     "text": [
      "/Users/shruti/anaconda3/envs/ct_map/lib/python3.7/site-packages/ipykernel_launcher.py:1: SettingWithCopyWarning: \n",
      "A value is trying to be set on a copy of a slice from a DataFrame.\n",
      "Try using .loc[row_indexer,col_indexer] = value instead\n",
      "\n",
      "See the caveats in the documentation: https://pandas.pydata.org/pandas-docs/stable/user_guide/indexing.html#returning-a-view-versus-a-copy\n",
      "  \"\"\"Entry point for launching an IPython kernel.\n"
     ]
    }
   ],
   "source": [
    "off1['ingredients_text_en'] = off1['ingredients_text_en'].progress_apply(correct_structure)"
   ]
  },
  {
   "cell_type": "code",
   "execution_count": 31,
   "id": "020699d5-b00f-44ec-b070-ddcf443900e7",
   "metadata": {},
   "outputs": [],
   "source": [
    "def clean_ingredients3(text):\n",
    "    # remove may contain, traces etc\n",
    "    \n",
    "    text = re.sub(r'it can contain.*', '', text)\n",
    "    text = re.sub(r'can contain.*', '', text)\n",
    "    text = re.sub(r'it does not contain.*', '', text)\n",
    "    text = re.sub(r'this product coes not contain.*', '', text)\n",
    "    text = re.sub(r'this chocolate coes not contain.*', '', text)\n",
    "    text = re.sub(r'does not contain.*', '', text)\n",
    "    text = re.sub(r'possible traces.*', '', text)\n",
    "    text = re.sub(r'keep refrigerated.*', '', text)\n",
    "    \n",
    "    text = re.sub(r'contains or less of the following:', '', text)\n",
    "    text = re.sub(r'contains less than of the following:', '', text)\n",
    "    text = re.sub(r'contains two% or less of the following:', '', text)\n",
    "    \n",
    "    text = re.sub(r'contains or less of :', '', text)\n",
    "    text = re.sub(r'contains less than of :', '', text)\n",
    "    text = re.sub(r'contains two% or less of :', '', text)\n",
    "    \n",
    "    text = re.sub(r'contains or less of the following', '', text)\n",
    "    text = re.sub(r'contains less than of the following', '', text)\n",
    "    text = re.sub(r'contains two% or less of the following', '', text)\n",
    "    \n",
    "    text = re.sub(r'contains or less of', '', text)\n",
    "    text = re.sub(r'contains less than of', '', text)\n",
    "    text = re.sub(r'contains two% or less of', '', text)\n",
    "    \n",
    "    text = re.sub(r'contains or less', '', text)\n",
    "    text = re.sub(r'contains less than', '', text)\n",
    "    text = re.sub(r'contains two% or less', '', text)\n",
    "    \n",
    "    text = re.sub(r'\\.$', '', text)\n",
    "    text = re.sub(r'\\,$', '', text)\n",
    "    text = re.sub(r'(?<!\\d)\\.', ',', text)\n",
    "    \n",
    "    return text.strip()"
   ]
  },
  {
   "cell_type": "code",
   "execution_count": 32,
   "id": "73c3a598-9eae-4272-97b8-1938c3a7e855",
   "metadata": {},
   "outputs": [
    {
     "data": {
      "application/vnd.jupyter.widget-view+json": {
       "model_id": "7347671ac52c410b8de2bcae2b732826",
       "version_major": 2,
       "version_minor": 0
      },
      "text/plain": [
       "  0%|          | 0/728336 [00:00<?, ?it/s]"
      ]
     },
     "metadata": {},
     "output_type": "display_data"
    },
    {
     "name": "stderr",
     "output_type": "stream",
     "text": [
      "/Users/shruti/anaconda3/envs/ct_map/lib/python3.7/site-packages/ipykernel_launcher.py:1: SettingWithCopyWarning: \n",
      "A value is trying to be set on a copy of a slice from a DataFrame.\n",
      "Try using .loc[row_indexer,col_indexer] = value instead\n",
      "\n",
      "See the caveats in the documentation: https://pandas.pydata.org/pandas-docs/stable/user_guide/indexing.html#returning-a-view-versus-a-copy\n",
      "  \"\"\"Entry point for launching an IPython kernel.\n"
     ]
    }
   ],
   "source": [
    "off1['ingredients_text_en'] = off1['ingredients_text_en'].progress_apply(clean_ingredients3)"
   ]
  },
  {
   "cell_type": "code",
   "execution_count": 33,
   "id": "795dfd3f-c2bd-4b99-9d2a-3b068d9e934b",
   "metadata": {},
   "outputs": [
    {
     "data": {
      "text/plain": [
       "(728336, 22)"
      ]
     },
     "execution_count": 33,
     "metadata": {},
     "output_type": "execute_result"
    }
   ],
   "source": [
    "off1.shape"
   ]
  },
  {
   "cell_type": "code",
   "execution_count": 34,
   "id": "aab6bbb6-260e-4454-a97a-cbdcfd882c4d",
   "metadata": {},
   "outputs": [
    {
     "name": "stderr",
     "output_type": "stream",
     "text": [
      "/Users/shruti/anaconda3/envs/ct_map/lib/python3.7/site-packages/ipykernel_launcher.py:1: UserWarning: Boolean Series key will be reindexed to match DataFrame index.\n",
      "  \"\"\"Entry point for launching an IPython kernel.\n"
     ]
    },
    {
     "data": {
      "text/plain": [
       "(464314, 22)"
      ]
     },
     "execution_count": 34,
     "metadata": {},
     "output_type": "execute_result"
    }
   ],
   "source": [
    "off1[off['ingredients_text_en']!=''].shape"
   ]
  },
  {
   "cell_type": "code",
   "execution_count": 35,
   "id": "d3103a10-9219-45cb-b517-e370007fb910",
   "metadata": {},
   "outputs": [],
   "source": [
    "allowed_pattern = r'^[A-Za-z0-9.\\(\\),% -]+$' # allowing only alphanumeric, periods, percentages, parantheses, commas, hyphen\n",
    "off3 = off2[(off2['ingredients_text_en'].str.match(allowed_pattern))]\n",
    "\n",
    "off4 = off2[(~off2['ingredients_text_en'].str.match(allowed_pattern))]"
   ]
  },
  {
   "cell_type": "code",
   "execution_count": 36,
   "id": "c735ab9a-b791-42bf-be72-7552752e586e",
   "metadata": {},
   "outputs": [
    {
     "data": {
      "text/plain": [
       "(449560, 22)"
      ]
     },
     "execution_count": 36,
     "metadata": {},
     "output_type": "execute_result"
    }
   ],
   "source": [
    "off2.shape"
   ]
  },
  {
   "cell_type": "code",
   "execution_count": 37,
   "id": "6c184df0-dde6-49bf-9d63-3e249d5ab7f6",
   "metadata": {},
   "outputs": [
    {
     "data": {
      "text/plain": [
       "(79097, 22)"
      ]
     },
     "execution_count": 37,
     "metadata": {},
     "output_type": "execute_result"
    }
   ],
   "source": [
    "off3.shape"
   ]
  },
  {
   "cell_type": "code",
   "execution_count": 38,
   "id": "3fe1da3b-482d-49cf-a8b3-0f493e44da00",
   "metadata": {},
   "outputs": [
    {
     "data": {
      "text/plain": [
       "(370463, 22)"
      ]
     },
     "execution_count": 38,
     "metadata": {},
     "output_type": "execute_result"
    }
   ],
   "source": [
    "off4.shape"
   ]
  },
  {
   "cell_type": "code",
   "execution_count": 39,
   "id": "dd1b21f5-0921-46ae-a9dc-f17aeb6b7a05",
   "metadata": {},
   "outputs": [
    {
     "data": {
      "text/plain": [
       "(61001, 22)"
      ]
     },
     "execution_count": 39,
     "metadata": {},
     "output_type": "execute_result"
    }
   ],
   "source": [
    "off3 = off3[(off3['ingredients_text_en'].str.contains('-', regex=False)) \n",
    "            & (~off3['ingredients_text_en'].str.contains(' - ', regex=False))]\n",
    "off3.shape"
   ]
  },
  {
   "cell_type": "code",
   "execution_count": 40,
   "id": "4558a92e-922d-4a29-bb36-821e4db9dac6",
   "metadata": {},
   "outputs": [
    {
     "data": {
      "application/vnd.jupyter.widget-view+json": {
       "model_id": "4a1acf0b501c4c9cb8acf7893c80d941",
       "version_major": 2,
       "version_minor": 0
      },
      "text/plain": [
       "  0%|          | 0/61001 [00:00<?, ?it/s]"
      ]
     },
     "metadata": {},
     "output_type": "display_data"
    }
   ],
   "source": [
    "off3['ingredients_text_en'] = off3['ingredients_text_en'].progress_apply(correct_structure)"
   ]
  },
  {
   "cell_type": "code",
   "execution_count": 41,
   "id": "b2e61d24-8192-44d0-b752-9ccf93f42e0d",
   "metadata": {},
   "outputs": [
    {
     "data": {
      "application/vnd.jupyter.widget-view+json": {
       "model_id": "d664e47ebdc8426ba33015509ef98d0b",
       "version_major": 2,
       "version_minor": 0
      },
      "text/plain": [
       "  0%|          | 0/61001 [00:00<?, ?it/s]"
      ]
     },
     "metadata": {},
     "output_type": "display_data"
    }
   ],
   "source": [
    "off3['ingredients_text_en'] = off3['ingredients_text_en'].progress_apply(clean_ingredients3)"
   ]
  },
  {
   "cell_type": "code",
   "execution_count": 42,
   "id": "cffde0ce-535f-49f2-83fe-b14d9196fc2b",
   "metadata": {},
   "outputs": [],
   "source": [
    "allowed_pattern = r'^[A-Za-z0-9.\\(\\),%: ]+$' # allowing only alphanumeric, periods, percentages, parantheses, commas, colon\n",
    "off5 = off4[(off4['ingredients_text_en'].str.match(allowed_pattern))]\n",
    "\n",
    "off6 = off4[(~off4['ingredients_text_en'].str.match(allowed_pattern))]"
   ]
  },
  {
   "cell_type": "code",
   "execution_count": 43,
   "id": "58ea8466-e8ee-4b5a-8d08-eb03cbfeb002",
   "metadata": {},
   "outputs": [
    {
     "data": {
      "text/plain": [
       "(171143, 22)"
      ]
     },
     "execution_count": 43,
     "metadata": {},
     "output_type": "execute_result"
    }
   ],
   "source": [
    "off5.shape"
   ]
  },
  {
   "cell_type": "code",
   "execution_count": 44,
   "id": "ea46db48-aacb-46af-b69a-44bb601249d7",
   "metadata": {},
   "outputs": [
    {
     "data": {
      "text/plain": [
       "(199320, 22)"
      ]
     },
     "execution_count": 44,
     "metadata": {},
     "output_type": "execute_result"
    }
   ],
   "source": [
    "off6.shape"
   ]
  },
  {
   "cell_type": "code",
   "execution_count": 45,
   "id": "6128c8ce-3567-4948-813f-4061f0821211",
   "metadata": {},
   "outputs": [],
   "source": [
    "off5 = off5[(off5['ingredients_text_en'].str.contains('preservative:', regex=False))\n",
    "             | (off5['ingredients_text_en'].str.contains('preservatives:', regex=False))\n",
    "             | (off5['ingredients_text_en'].str.contains('conservative:', regex=False))\n",
    "             | (off5['ingredients_text_en'].str.contains('conservatives:', regex=False))\n",
    "             | (off5['ingredients_text_en'].str.contains('acidifying:', regex=False))\n",
    "             | (off5['ingredients_text_en'].str.contains('acidity:', regex=False))\n",
    "             | (off5['ingredients_text_en'].str.contains('acidic:', regex=False))\n",
    "             | (off5['ingredients_text_en'].str.contains('acid:', regex=False))\n",
    "             | (off5['ingredients_text_en'].str.contains('color:', regex=False))\n",
    "             | (off5['ingredients_text_en'].str.contains('colors:', regex=False))\n",
    "             | (off5['ingredients_text_en'].str.contains('colour:', regex=False))\n",
    "             | (off5['ingredients_text_en'].str.contains('coloring:', regex=False))\n",
    "             | (off5['ingredients_text_en'].str.contains('regulator:', regex=False))\n",
    "             | (off5['ingredients_text_en'].str.contains('regulators:', regex=False))\n",
    "             | (off5['ingredients_text_en'].str.contains('corrector:', regex=False))\n",
    "             | (off5['ingredients_text_en'].str.contains('emulgator:', regex=False))\n",
    "             | (off5['ingredients_text_en'].str.contains('emulsifying:', regex=False))\n",
    "             | (off5['ingredients_text_en'].str.contains('antioxidant:', regex=False))\n",
    "             | (off5['ingredients_text_en'].str.contains('fier:', regex=False))\n",
    "             | (off5['ingredients_text_en'].str.contains('fiers:', regex=False))\n",
    "             | (off5['ingredients_text_en'].str.contains('zer:', regex=False))\n",
    "             | (off5['ingredients_text_en'].str.contains('less:', regex=False))\n",
    "             | (off5['ingredients_text_en'].str.contains('following:', regex=False))\n",
    "             | (off5['ingredients_text_en'].str.contains('of:', regex=False))\n",
    "             | (off5['ingredients_text_en'].str.contains('thickening:', regex=False))\n",
    "             | (off5['ingredients_text_en'].str.contains('contains:', regex=False))\n",
    "             | (off5['ingredients_text_en'].str.contains('cultures:', regex=False))\n",
    "             | (off5['ingredients_text_en'].str.contains('agent:', regex=False))]"
   ]
  },
  {
   "cell_type": "code",
   "execution_count": 46,
   "id": "0dcaf425-6957-465c-95ce-48b4417fa5e5",
   "metadata": {},
   "outputs": [
    {
     "data": {
      "text/plain": [
       "(123143, 22)"
      ]
     },
     "execution_count": 46,
     "metadata": {},
     "output_type": "execute_result"
    }
   ],
   "source": [
    "off5.shape"
   ]
  },
  {
   "cell_type": "code",
   "execution_count": 47,
   "id": "0198233d-0f49-4129-80a9-5cddb59d0707",
   "metadata": {},
   "outputs": [
    {
     "data": {
      "application/vnd.jupyter.widget-view+json": {
       "model_id": "07496f5502a240bdbad5c78527673e85",
       "version_major": 2,
       "version_minor": 0
      },
      "text/plain": [
       "  0%|          | 0/123143 [00:00<?, ?it/s]"
      ]
     },
     "metadata": {},
     "output_type": "display_data"
    }
   ],
   "source": [
    "off5['ingredients_text_en'] = off5['ingredients_text_en'].progress_apply(correct_structure)"
   ]
  },
  {
   "cell_type": "code",
   "execution_count": 48,
   "id": "6e445f4a-9fc5-4295-890d-311e462582c8",
   "metadata": {},
   "outputs": [
    {
     "data": {
      "application/vnd.jupyter.widget-view+json": {
       "model_id": "36a58cd9cb3d4df082ad4b69b533b71d",
       "version_major": 2,
       "version_minor": 0
      },
      "text/plain": [
       "  0%|          | 0/123143 [00:00<?, ?it/s]"
      ]
     },
     "metadata": {},
     "output_type": "display_data"
    }
   ],
   "source": [
    "off5['ingredients_text_en'] = off5['ingredients_text_en'].progress_apply(clean_ingredients3)"
   ]
  },
  {
   "cell_type": "code",
   "execution_count": 49,
   "id": "e3bc38fc-0867-49af-b615-b90dcc8e6c1e",
   "metadata": {},
   "outputs": [],
   "source": [
    "off_clean = pd.concat([off1, off3, off5], axis=0, ignore_index=True)"
   ]
  },
  {
   "cell_type": "code",
   "execution_count": 50,
   "id": "197b8b55-dcf9-4701-8651-cf04dbdbd03a",
   "metadata": {},
   "outputs": [],
   "source": [
    "def clean_ingredients4(text):\n",
    "    # remove may contain, traces etc\n",
    "    \n",
    "    text = re.sub(r'product from organic farming.*', '', text)\n",
    "    text = re.sub(r'products from organic farming.*', '', text)\n",
    "    text = re.sub(r'all the ingredients come from organic farmin.*', '', text)\n",
    "    text = re.sub(r'agricultural ingredient from organic farming.*', '', text)\n",
    "    text = re.sub(r'(ingredients from organic farming).*', '', text)\n",
    "    text = re.sub(r'ingredient from organic farming.*', '', text)\n",
    "    text = re.sub(r'ingredients from organic farming.*', '', text)\n",
    "    text = re.sub(r'from organic farming.*', '', text)\n",
    "    \n",
    "    text = text.replace('origin france', '')\n",
    "    text = text.replace('origin, france', '')\n",
    "    text = text.replace('developed from eu origin', '')\n",
    "    text = text.replace('eu origin, asia', '')\n",
    "    text = text.replace('eu original', '')\n",
    "    text = text.replace('eu origin', '')\n",
    "    text = text.replace('origin eu', '')\n",
    "    text = text.replace('origin spain', '')\n",
    "    text = text.replace('brittany origin', '')\n",
    "    text = text.replace('origin of the netherlands and france', '')\n",
    "    text = text.replace('zygochlams patagonjca, argentinian origin', '')\n",
    "    text = text.replace('ingredients origin france (100%)', '')\n",
    "    text = text.replace('developed from france origin france', '')\n",
    "    text = text.replace('this product is made from eu original pork', '')\n",
    "    text = text.replace('origin england or france', '')\n",
    "    text = text.replace('ingredients of natural origin', '')\n",
    "    text = text.replace('france', '')\n",
    "    \n",
    "    text = text.replace(':', '')\n",
    "    text = re.sub(' +', ' ', text)\n",
    "    text = text.strip()\n",
    "    text = re.sub(r'\\.$', '', text)\n",
    "    text = re.sub(r'\\,$', '', text)\n",
    "    text = text.replace('()', '')\n",
    "    \n",
    "    return text.strip()"
   ]
  },
  {
   "cell_type": "code",
   "execution_count": 51,
   "id": "83fb3f27-767d-41a0-bc09-ea640e529f42",
   "metadata": {},
   "outputs": [
    {
     "data": {
      "application/vnd.jupyter.widget-view+json": {
       "model_id": "5805540d9ec14cdbbe772e8121b37aaa",
       "version_major": 2,
       "version_minor": 0
      },
      "text/plain": [
       "  0%|          | 0/912480 [00:00<?, ?it/s]"
      ]
     },
     "metadata": {},
     "output_type": "display_data"
    }
   ],
   "source": [
    "off_clean['ingredients_text_en'] = off_clean['ingredients_text_en'].progress_apply(clean_ingredients4)"
   ]
  },
  {
   "cell_type": "code",
   "execution_count": 52,
   "id": "fffc44bb-4c9f-40fc-b175-19b29b67e62d",
   "metadata": {},
   "outputs": [
    {
     "data": {
      "text/plain": [
       "(912480, 22)"
      ]
     },
     "execution_count": 52,
     "metadata": {},
     "output_type": "execute_result"
    }
   ],
   "source": [
    "off_clean.shape"
   ]
  },
  {
   "cell_type": "code",
   "execution_count": 53,
   "id": "87d94b4e-5e79-4606-ae21-ca7257c9f7e5",
   "metadata": {},
   "outputs": [
    {
     "data": {
      "text/plain": [
       "United States           315531\n",
       "France                  218294\n",
       "Germany                  60431\n",
       "United Kingdom           52573\n",
       "Spain                    33780\n",
       "Canada                   24811\n",
       "Switzerland              22955\n",
       "Australia                21486\n",
       "Italy                    20986\n",
       "Belgium                  17834\n",
       "Ireland                  15719\n",
       "Netherlands               9819\n",
       "Poland                    5971\n",
       "New Zealand               4779\n",
       "Sweden                    4263\n",
       "Mexico                    4173\n",
       "Austria                   4165\n",
       "Portugal                  4144\n",
       "Finland                   3533\n",
       "Norway                    3465\n",
       "Czech Republic            3241\n",
       "Bulgaria                  2960\n",
       "India                     2945\n",
       "Brazil                    2891\n",
       "Romania                   2598\n",
       "Bolivia                   2509\n",
       "Argentina                 2323\n",
       "Thailand                  2318\n",
       "South Africa              2153\n",
       "Singapore                 2107\n",
       "Saudi Arabia              1918\n",
       "Japan                     1915\n",
       "Luxembourg                1882\n",
       "Russia                    1874\n",
       "Hungary                   1819\n",
       "Denmark                   1798\n",
       "Croatia                   1417\n",
       "Morocco                   1404\n",
       "Philippines               1364\n",
       "Greece                    1195\n",
       "United Arab Emirates      1179\n",
       "Chile                     1027\n",
       "Tunisia                    969\n",
       "Réunion                    963\n",
       "Indonesia                  929\n",
       "Colombia                   889\n",
       "Malaysia                   822\n",
       "Hong Kong                  763\n",
       "Qatar                      731\n",
       "Slovakia                   714\n",
       "Algeria                    707\n",
       "Puerto Rico                705\n",
       "Serbia                     698\n",
       "Lithuania                  676\n",
       "French Polynesia           632\n",
       "Cuba                       625\n",
       "Slovenia                   599\n",
       "Israel                     594\n",
       "Kuwait                     519\n",
       "New Caledonia              500\n",
       "Latvia                     477\n",
       "Peru                       460\n",
       "Egypt                      449\n",
       "Lebanon                    441\n",
       "Turkey                     433\n",
       "Guadeloupe                 430\n",
       "South Korea                381\n",
       "Estonia                    374\n",
       "Cyprus                     362\n",
       "Panama                     362\n",
       "Costa Rica                 360\n",
       "Ukraine                    345\n",
       "Martinique                 309\n",
       "Iraq                       262\n",
       "Ecuador                    229\n",
       "Venezuela                  222\n",
       "Name: countries_en, dtype: int64"
      ]
     },
     "execution_count": 53,
     "metadata": {},
     "output_type": "execute_result"
    }
   ],
   "source": [
    "off_clean['countries_en'].value_counts()"
   ]
  },
  {
   "cell_type": "code",
   "execution_count": 54,
   "id": "42630939-e1f5-43d4-923d-4bb790e60e01",
   "metadata": {},
   "outputs": [
    {
     "data": {
      "text/plain": [
       "(641839, 22)"
      ]
     },
     "execution_count": 54,
     "metadata": {},
     "output_type": "execute_result"
    }
   ],
   "source": [
    "off_clean[off_clean['ingredients_text_en']!=''].shape"
   ]
  },
  {
   "cell_type": "code",
   "execution_count": 55,
   "id": "b23756a0-6a8d-4352-bc74-9827f5bca43d",
   "metadata": {},
   "outputs": [
    {
     "data": {
      "text/plain": [
       "United States           222524\n",
       "France                  178596\n",
       "Germany                  50009\n",
       "Spain                    25502\n",
       "United Kingdom           25336\n",
       "Switzerland              18095\n",
       "Italy                    14997\n",
       "Belgium                  12923\n",
       "Canada                    8801\n",
       "Netherlands               8143\n",
       "Australia                 6966\n",
       "Poland                    5131\n",
       "Ireland                   3965\n",
       "Mexico                    3755\n",
       "Portugal                  3723\n",
       "Austria                   3457\n",
       "Sweden                    3192\n",
       "Finland                   2749\n",
       "Norway                    2738\n",
       "Bulgaria                  2631\n",
       "Czech Republic            2629\n",
       "Bolivia                   2449\n",
       "New Zealand               2445\n",
       "Argentina                 2144\n",
       "Romania                   2025\n",
       "Brazil                    1872\n",
       "India                     1712\n",
       "Russia                    1680\n",
       "Thailand                  1604\n",
       "Hungary                   1381\n",
       "Croatia                   1247\n",
       "Luxembourg                1061\n",
       "Denmark                   1010\n",
       "Morocco                    998\n",
       "Chile                      892\n",
       "Tunisia                    880\n",
       "Réunion                    797\n",
       "Colombia                   743\n",
       "South Africa               671\n",
       "Singapore                  648\n",
       "Greece                     604\n",
       "Serbia                     575\n",
       "Algeria                    547\n",
       "Indonesia                  521\n",
       "Slovenia                   452\n",
       "Slovakia                   446\n",
       "French Polynesia           425\n",
       "Lithuania                  410\n",
       "Peru                       382\n",
       "Japan                      378\n",
       "Guadeloupe                 348\n",
       "Latvia                     335\n",
       "Saudi Arabia               321\n",
       "Philippines                318\n",
       "Hong Kong                  312\n",
       "Turkey                     283\n",
       "Martinique                 274\n",
       "Panama                     240\n",
       "Costa Rica                 240\n",
       "New Caledonia              232\n",
       "United Arab Emirates       205\n",
       "Estonia                    183\n",
       "Ecuador                    179\n",
       "Malaysia                   174\n",
       "Ukraine                    169\n",
       "Venezuela                  163\n",
       "Israel                     160\n",
       "Puerto Rico                123\n",
       "Qatar                      117\n",
       "Kuwait                     106\n",
       "Lebanon                    103\n",
       "Egypt                       90\n",
       "Cuba                        88\n",
       "Iraq                        78\n",
       "South Korea                 75\n",
       "Cyprus                      62\n",
       "Name: countries_en, dtype: int64"
      ]
     },
     "execution_count": 55,
     "metadata": {},
     "output_type": "execute_result"
    }
   ],
   "source": [
    "off_clean[off_clean['ingredients_text_en']!='']['countries_en'].value_counts()"
   ]
  },
  {
   "cell_type": "code",
   "execution_count": 56,
   "id": "97b95c74-04a9-47f5-9809-a493576103c6",
   "metadata": {},
   "outputs": [],
   "source": [
    "# off_clean.groupby(\n",
    "#     ['countries_en', 'parentcategory']).count()[['product_id']].reset_index().pivot(\n",
    "#     index='countries_en', columns='parentcategory', values='product_id')"
   ]
  },
  {
   "cell_type": "code",
   "execution_count": 57,
   "id": "7bae0a03-0d5a-46bb-b560-045e2f57cdb4",
   "metadata": {},
   "outputs": [],
   "source": [
    "# off_clean[off_clean['ingredients_text_en']!=''].sample(100)['ingredients_text_en'].values"
   ]
  },
  {
   "cell_type": "code",
   "execution_count": 58,
   "id": "620aca65-1feb-4d7b-b62d-0236d9586c94",
   "metadata": {},
   "outputs": [
    {
     "data": {
      "text/plain": [
       "(265416, 22)"
      ]
     },
     "execution_count": 58,
     "metadata": {},
     "output_type": "execute_result"
    }
   ],
   "source": [
    "off[~off['product_id'].isin(off_clean['product_id'].unique())].shape"
   ]
  },
  {
   "cell_type": "code",
   "execution_count": 59,
   "id": "107d5bd3-7da3-447d-8372-6983bb3a7fe5",
   "metadata": {},
   "outputs": [],
   "source": [
    "# off[~off['product_id'].isin(off_clean['product_id'].unique())].sample(100)['ingredients_text_en'].values"
   ]
  },
  {
   "cell_type": "code",
   "execution_count": 60,
   "id": "9f1fe1b0-fe8d-41cc-b5d1-492501611945",
   "metadata": {},
   "outputs": [],
   "source": [
    "def translation_terms(text):\n",
    "    \n",
    "    text = text.replace(' ble ', ' wheat ')\n",
    "    text = text.replace('soja ', ' soya ')\n",
    "    text = text.replace(' leche ', ' milk ')\n",
    "    text = text.replace(' ait ', ' milk ')\n",
    "    text = text.replace(' oeuf ', ' egg ')\n",
    "    text = text.replace(' euf ', ' egg ')\n",
    "    text = text.replace(' oeufs ', ' eggs ')\n",
    "    text = text.replace(' eufs ', ' eggs ')\n",
    "    text = text.replace(' moutarde ', ' mustard ')\n",
    "    text = text.replace(' sucre ', ' sugar ')\n",
    "    text = text.replace(' beurre ', ' butter ')\n",
    "    \n",
    "    return text"
   ]
  },
  {
   "cell_type": "code",
   "execution_count": 61,
   "id": "bdf1b294-c79d-4cac-a633-63bb6f317efc",
   "metadata": {},
   "outputs": [
    {
     "data": {
      "application/vnd.jupyter.widget-view+json": {
       "model_id": "617db710bcce4e848f8fb9eee9c4fe98",
       "version_major": 2,
       "version_minor": 0
      },
      "text/plain": [
       "  0%|          | 0/912480 [00:00<?, ?it/s]"
      ]
     },
     "metadata": {},
     "output_type": "display_data"
    }
   ],
   "source": [
    "off_clean['ingredients_text_en'] = off_clean['ingredients_text_en'].progress_apply(translation_terms)"
   ]
  },
  {
   "cell_type": "markdown",
   "id": "40d1493f-4148-4acc-b431-b47bb6e0c917",
   "metadata": {},
   "source": [
    "#### standardize columns and merge datasets"
   ]
  },
  {
   "cell_type": "code",
   "execution_count": 62,
   "id": "e17b91be-13cd-4863-8898-57203d764166",
   "metadata": {},
   "outputs": [],
   "source": [
    "# cleaning nutrient data\n",
    "def nutrition_adjust_function(dat, nutrient_list):\n",
    "    \"\"\"\n",
    "    Adjusts and standardizes nutrient data in a DataFrame.\n",
    "\n",
    "    Parameters:\n",
    "    - dat: pandas DataFrame containing nutrient information.\n",
    "    - nutrient_list: list of nutrient column names to process.\n",
    "\n",
    "    Returns:\n",
    "    - Modified DataFrame with standardized nutrient values and units.\n",
    "    \"\"\"\n",
    "    # Creating new columns to store data\n",
    "    for nutrient in nutrient_list:\n",
    "        dat[f\"{nutrient}_value\"] = np.nan\n",
    "        dat[f\"{nutrient}_unit\"] = np.nan\n",
    "\n",
    "    # Define units to extract\n",
    "    unit_pattern = r'(mg|g|kcal|calorie|kj|j|kiloj)'\n",
    "\n",
    "    # Define which nutrients are energy\n",
    "    energy_nutrients = ['energy_per_100']\n",
    "\n",
    "    for nutrient in nutrient_list:\n",
    "        # Process each nutrient column\n",
    "        value_col = f\"{nutrient}_value\"\n",
    "        unit_col = f\"{nutrient}_unit\"\n",
    "\n",
    "        # Ensure the nutrient column is string type for regex operations\n",
    "        dat[nutrient] = dat[nutrient].astype(str)\n",
    "\n",
    "        # Extract units using regex\n",
    "        dat[unit_col] = dat[nutrient].str.extract(unit_pattern, flags=re.IGNORECASE, expand=False)\n",
    "        dat[unit_col] = dat[unit_col].str.lower()\n",
    "\n",
    "        # Extract numeric values using regex\n",
    "        # Pattern to capture numbers with optional decimal separators and optional spaces\n",
    "        number_pattern = r'(\\d{1,4}\\s*[.,]?\\s*\\d{0,3})'\n",
    "\n",
    "        extracted_numbers = dat[nutrient].str.extract(number_pattern, flags=re.IGNORECASE, expand=False)\n",
    "        extracted_numbers = extracted_numbers.str.replace(r'\\s+', '', regex=True)  # Remove spaces\n",
    "        extracted_numbers = extracted_numbers.str.replace(',', '.', regex=False)  # Replace comma with dot\n",
    "\n",
    "        # Assign numeric values\n",
    "        dat[value_col] = pd.to_numeric(extracted_numbers, errors='coerce')\n",
    "\n",
    "        # Handle entries that are purely numeric (no units)\n",
    "        # Detect if the entire string is a number\n",
    "        purely_numeric_mask = dat[nutrient].str.strip().str.fullmatch(r'^\\d+([.,]\\d+)?$')\n",
    "\n",
    "        # Assign values and units for purely numeric entries\n",
    "        dat.loc[purely_numeric_mask, value_col] = pd.to_numeric(dat.loc[purely_numeric_mask, nutrient].str.replace(',', '.', regex=False), errors='coerce')\n",
    "        # Assign default units: 'kj' for energy, 'g' for others\n",
    "        default_unit = 'kj' if nutrient.lower() in [n.lower() for n in energy_nutrients] else 'g'\n",
    "        dat.loc[purely_numeric_mask, unit_col] = default_unit\n",
    "\n",
    "        # Adjusting units\n",
    "        # Convert kcal to kj\n",
    "        kcal_mask = dat[unit_col] == 'kcal'\n",
    "        dat.loc[kcal_mask, value_col] = dat.loc[kcal_mask, value_col] * 4.184\n",
    "        dat.loc[kcal_mask, unit_col] = 'kj'\n",
    "\n",
    "        # Convert mg to g\n",
    "        mg_mask = dat[unit_col] == 'mg'\n",
    "        dat.loc[mg_mask, value_col] = dat.loc[mg_mask, value_col] / 1000\n",
    "        dat.loc[mg_mask, unit_col] = 'g'\n",
    "\n",
    "        # Define expected unit based on nutrient type\n",
    "        expected_unit = 'kj' if nutrient.lower() in [n.lower() for n in energy_nutrients] else 'g'\n",
    "\n",
    "        # Identify invalid units\n",
    "        invalid_unit_mask = ~dat[unit_col].isin([expected_unit])\n",
    "\n",
    "        # Set invalid entries to NaN\n",
    "        dat.loc[invalid_unit_mask, value_col] = np.nan\n",
    "        dat.loc[invalid_unit_mask, unit_col] = np.nan\n",
    "\n",
    "        # Additionally, if the value is NaN, set unit to NaN\n",
    "        value_nan_mask = dat[value_col].isna()\n",
    "        dat.loc[value_nan_mask, unit_col] = np.nan\n",
    "\n",
    "    return dat"
   ]
  },
  {
   "cell_type": "code",
   "execution_count": 63,
   "id": "b9bf0314-a2fc-4375-9a72-7380e9a9faf2",
   "metadata": {},
   "outputs": [],
   "source": [
    "# Define the list of nutrients\n",
    "nutrient_list = ['energy_per_100', 'fat_per_100', 'saturates_per_100', \n",
    "                 'carbohydrate_per_100', 'fibre_per_100', 'protein_per_100', \n",
    "                 'sugar_per_100', 'salt_per_100']\n",
    "\n",
    "# Apply the function\n",
    "fdb = nutrition_adjust_function(fdb, nutrient_list)"
   ]
  },
  {
   "cell_type": "code",
   "execution_count": 64,
   "id": "ee8a72d2-0a08-432a-8886-90a44ac30397",
   "metadata": {},
   "outputs": [],
   "source": [
    "# Apply the function\n",
    "off_clean = nutrition_adjust_function(off_clean, nutrient_list)"
   ]
  },
  {
   "cell_type": "code",
   "execution_count": 65,
   "id": "33b5cf53-e8b4-4cad-9303-5d5ec97e61e7",
   "metadata": {},
   "outputs": [],
   "source": [
    "off_clean['serving_size'] = off_clean['serving_size'].fillna('')\n",
    "off_clean['serving_size_unit'] = 'g'\n",
    "off_clean.loc[(~off_clean['serving_size'].str.contains('g'))\n",
    "              & (off_clean['serving_size']!=''), 'serving_size_unit'] = 'ml'"
   ]
  },
  {
   "cell_type": "code",
   "execution_count": 66,
   "id": "06092d97-d0f4-4b49-9f78-3970701e6970",
   "metadata": {},
   "outputs": [],
   "source": [
    "off_clean = off_clean[['product_id', 'product_name_en', 'ingredients_text_en',\n",
    "                       'countries_en', 'stores', \n",
    "                       'energy_per_100', 'fat_per_100', 'saturates_per_100', \n",
    "                       'carbohydrate_per_100', 'fibre_per_100', 'protein_per_100', \n",
    "                       'sugar_per_100', 'salt_per_100',\n",
    "                       'energy_per_100_value', 'fat_per_100_value', 'saturates_per_100_value', \n",
    "                       'carbohydrate_per_100_value', 'fibre_per_100_value', 'protein_per_100_value', \n",
    "                       'sugar_per_100_value', 'salt_per_100_value',\n",
    "                       'energy_per_100_unit', 'fat_per_100_unit', 'saturates_per_100_unit', \n",
    "                       'carbohydrate_per_100_unit', 'fibre_per_100_unit', 'protein_per_100_unit', \n",
    "                       'sugar_per_100_unit', 'salt_per_100_unit',\n",
    "                       'serving_size', 'serving_quantity', 'serving_size_unit',\n",
    "                       'parentcategory', 'mainfoodgroup','subfoodgroup']].rename(\n",
    "    columns={'product_name_en': 'product_name', \n",
    "             'ingredients_text_en': 'ingredients_text',\n",
    "             'countries_en': 'country',\n",
    "             'stores': 'store',\n",
    "             'serving_quantity': 'serving_size_value',\n",
    "             'parentcategory': 'Department', \n",
    "             'mainfoodgroup': 'Aisle',\n",
    "             'subfoodgroup': 'Shelf'})"
   ]
  },
  {
   "cell_type": "code",
   "execution_count": 67,
   "id": "600ab5d5-8d23-45fc-882b-d55dd3c17a98",
   "metadata": {},
   "outputs": [],
   "source": [
    "off_clean['database'] = 'openfoodfacts'"
   ]
  },
  {
   "cell_type": "code",
   "execution_count": 68,
   "id": "d6f2c6ee-7c01-4f67-b89d-349d91b8fa3a",
   "metadata": {},
   "outputs": [
    {
     "data": {
      "text/plain": [
       "(912480, 36)"
      ]
     },
     "execution_count": 68,
     "metadata": {},
     "output_type": "execute_result"
    }
   ],
   "source": [
    "off_clean.shape"
   ]
  },
  {
   "cell_type": "code",
   "execution_count": 69,
   "id": "e34cede5-4312-4916-bd6f-7de285f069c2",
   "metadata": {},
   "outputs": [],
   "source": [
    "fdb['country'] = 'United Kingdom'\n",
    "fdb = fdb[['product_id', 'product_list_name', 'ingredients_text', \n",
    "           'country', 'store', \n",
    "           'energy_per_100', 'fat_per_100', 'saturates_per_100', \n",
    "           'carbohydrate_per_100', 'fibre_per_100', 'protein_per_100', \n",
    "           'sugar_per_100', 'salt_per_100',\n",
    "           'energy_per_100_value', 'fat_per_100_value', 'saturates_per_100_value', \n",
    "           'carbohydrate_per_100_value', 'fibre_per_100_value', 'protein_per_100_value', \n",
    "           'sugar_per_100_value', 'salt_per_100_value',\n",
    "           'energy_per_100_unit', 'fat_per_100_unit', 'saturates_per_100_unit', \n",
    "           'carbohydrate_per_100_unit', 'fibre_per_100_unit', 'protein_per_100_unit', \n",
    "           'sugar_per_100_unit', 'salt_per_100_unit',\n",
    "           'serving_size', 'serving_size_value', 'serving_size_unit',\n",
    "           'parentcategory_pred', 'mainfoodgroup_pred','subfoodgroup_pred']].rename(\n",
    "    columns={'product_list_name': 'product_name',\n",
    "             'parentcategory_pred': 'Department',\n",
    "             'mainfoodgroup_pred': 'Aisle',\n",
    "             'subfoodgroup_pred': 'Shelf'})"
   ]
  },
  {
   "cell_type": "code",
   "execution_count": 70,
   "id": "3ec4bb50-570f-489d-97dc-4ce280e0e971",
   "metadata": {},
   "outputs": [],
   "source": [
    "fdb.loc[(~fdb['serving_size_unit'].isin(['', 'g', 'ml']))\n",
    "        & (fdb['serving_size_unit'].notnull()), 'serving_size_value'] = np.nan\n",
    "fdb.loc[(~fdb['serving_size_unit'].isin(['', 'g', 'ml']))\n",
    "        & (fdb['serving_size_unit'].notnull()), 'serving_size_unit'] = ''\n",
    "fdb['database'] = 'fooddb'"
   ]
  },
  {
   "cell_type": "code",
   "execution_count": 71,
   "id": "8779b715-b05b-46eb-9833-1b74bda7f391",
   "metadata": {},
   "outputs": [
    {
     "data": {
      "text/plain": [
       "(242475, 36)"
      ]
     },
     "execution_count": 71,
     "metadata": {},
     "output_type": "execute_result"
    }
   ],
   "source": [
    "fdb.shape"
   ]
  },
  {
   "cell_type": "code",
   "execution_count": 72,
   "id": "6ecaf70d-c72f-4e2a-bd94-419069f64f73",
   "metadata": {},
   "outputs": [],
   "source": [
    "products_cats = pd.concat([off_clean, fdb], axis=0, ignore_index=True)"
   ]
  },
  {
   "cell_type": "code",
   "execution_count": 73,
   "id": "595a3b3b-d0d0-4b07-b929-fcc11fe7cba8",
   "metadata": {},
   "outputs": [
    {
     "data": {
      "text/plain": [
       "(1154955, 36)"
      ]
     },
     "execution_count": 73,
     "metadata": {},
     "output_type": "execute_result"
    }
   ],
   "source": [
    "products_cats.shape"
   ]
  },
  {
   "cell_type": "code",
   "execution_count": 74,
   "id": "d29fb49d-b6dd-48f8-a520-d3d39a233440",
   "metadata": {},
   "outputs": [],
   "source": [
    "products_cats['country_group'] = 'UK'\n",
    "products_cats.loc[products_cats['country'].isin(['Germany', 'France', 'Austria', 'Belgium', 'Switzerland', \n",
    "                                                 'Netherlands', 'Luxembourg']), 'country_group'] = 'EUwest' \n",
    "products_cats.loc[products_cats['country'].isin(['Italy', 'Spain', 'Portugal']), 'country_group'] = 'EUsouth' \n",
    "products_cats.loc[products_cats['country'].isin(['Norway', 'Sweden', 'Finland', 'Denmark', \n",
    "                                                 'Lithuania', 'Latvia', 'Estonia']), 'country_group'] = 'Nordic' \n",
    "products_cats.loc[products_cats['country'].isin(['Poland', 'Czech Republic', 'Slovakia', 'Romania', \n",
    "                                                 'Hungary', 'Bulgaria', 'Slovenia', 'Croatia', \n",
    "                                                 'Serbia', 'Ukraine', 'Russia', 'New Caledonia']), 'country_group'] = 'EUeast' \n",
    "products_cats.loc[products_cats['country'].isin(['Greece', 'Turkey', 'Cyprus', 'Israel', \n",
    "                                                 'Lebanon', 'Egypt', 'Morocco', 'Tunisia', \n",
    "                                                 'Algeria', 'South Africa']), 'country_group'] = 'MedAf' \n",
    "products_cats.loc[products_cats['country'].isin(['India', 'United Arab Emirates', 'Saudi Arabia', \n",
    "                                                 'Qatar', 'Kuwait', 'Iraq', 'Réunion',\n",
    "                                                 'Mexico', 'Argentina', 'Bolivia',  \n",
    "                                                 'Venezuela', 'Peru', 'Chile', 'Ecuador', 'Brazil', \n",
    "                                                 'Cuba', 'Puerto Rico', 'Guadeloupe', 'Martinique', \n",
    "                                                 'French Polynesia', 'Panama', 'Costa Rica', \n",
    "                                                 'Colombia']), 'country_group'] = 'LatAmMeSAsia' \n",
    "products_cats.loc[products_cats['country'].isin(['Japan', 'South Korea', 'Thailand', 'Indonesia', \n",
    "                                                 'Philippines', 'Malaysia', 'Singapore', 'Hong Kong']), 'country_group'] = 'EAsia' "
   ]
  },
  {
   "cell_type": "code",
   "execution_count": 75,
   "id": "07e1dc5f-4fa5-40e2-acfb-d4ad4b1ca5b9",
   "metadata": {},
   "outputs": [],
   "source": [
    "# products_cats.sample(100)"
   ]
  },
  {
   "cell_type": "code",
   "execution_count": 76,
   "id": "ba1ae164-41b7-49a8-a371-b6a33925a616",
   "metadata": {},
   "outputs": [
    {
     "data": {
      "text/plain": [
       "(853710, 37)"
      ]
     },
     "execution_count": 76,
     "metadata": {},
     "output_type": "execute_result"
    }
   ],
   "source": [
    "products_cats[products_cats['ingredients_text']!=''].shape"
   ]
  },
  {
   "cell_type": "code",
   "execution_count": 77,
   "id": "4e5052bc-973e-4035-a983-d21213aea708",
   "metadata": {},
   "outputs": [
    {
     "data": {
      "text/plain": [
       "UK              481908\n",
       "EUwest          272284\n",
       "EUsouth          44222\n",
       "EUeast           18598\n",
       "LatAmMeSAsia     17653\n",
       "Nordic           10617\n",
       "MedAf             4398\n",
       "EAsia             4030\n",
       "Name: country_group, dtype: int64"
      ]
     },
     "execution_count": 77,
     "metadata": {},
     "output_type": "execute_result"
    }
   ],
   "source": [
    "products_cats[products_cats['ingredients_text']!='']['country_group'].value_counts()"
   ]
  },
  {
   "cell_type": "code",
   "execution_count": 78,
   "id": "5522683b-b771-41a2-894c-2be6860e5718",
   "metadata": {},
   "outputs": [
    {
     "data": {
      "text/plain": [
       "United Kingdom          237207\n",
       "United States           222524\n",
       "France                  178596\n",
       "Germany                  50009\n",
       "Spain                    25502\n",
       "Switzerland              18095\n",
       "Italy                    14997\n",
       "Belgium                  12923\n",
       "Canada                    8801\n",
       "Netherlands               8143\n",
       "Australia                 6966\n",
       "Poland                    5131\n",
       "Ireland                   3965\n",
       "Mexico                    3755\n",
       "Portugal                  3723\n",
       "Austria                   3457\n",
       "Sweden                    3192\n",
       "Finland                   2749\n",
       "Norway                    2738\n",
       "Bulgaria                  2631\n",
       "Czech Republic            2629\n",
       "Bolivia                   2449\n",
       "New Zealand               2445\n",
       "Argentina                 2144\n",
       "Romania                   2025\n",
       "Brazil                    1872\n",
       "India                     1712\n",
       "Russia                    1680\n",
       "Thailand                  1604\n",
       "Hungary                   1381\n",
       "Croatia                   1247\n",
       "Luxembourg                1061\n",
       "Denmark                   1010\n",
       "Morocco                    998\n",
       "Chile                      892\n",
       "Tunisia                    880\n",
       "Réunion                    797\n",
       "Colombia                   743\n",
       "South Africa               671\n",
       "Singapore                  648\n",
       "Greece                     604\n",
       "Serbia                     575\n",
       "Algeria                    547\n",
       "Indonesia                  521\n",
       "Slovenia                   452\n",
       "Slovakia                   446\n",
       "French Polynesia           425\n",
       "Lithuania                  410\n",
       "Peru                       382\n",
       "Japan                      378\n",
       "Guadeloupe                 348\n",
       "Latvia                     335\n",
       "Saudi Arabia               321\n",
       "Philippines                318\n",
       "Hong Kong                  312\n",
       "Turkey                     283\n",
       "Martinique                 274\n",
       "Panama                     240\n",
       "Costa Rica                 240\n",
       "New Caledonia              232\n",
       "United Arab Emirates       205\n",
       "Estonia                    183\n",
       "Ecuador                    179\n",
       "Malaysia                   174\n",
       "Ukraine                    169\n",
       "Venezuela                  163\n",
       "Israel                     160\n",
       "Puerto Rico                123\n",
       "Qatar                      117\n",
       "Kuwait                     106\n",
       "Lebanon                    103\n",
       "Egypt                       90\n",
       "Cuba                        88\n",
       "Iraq                        78\n",
       "South Korea                 75\n",
       "Cyprus                      62\n",
       "Name: country, dtype: int64"
      ]
     },
     "execution_count": 78,
     "metadata": {},
     "output_type": "execute_result"
    }
   ],
   "source": [
    "products_cats[products_cats['ingredients_text']!='']['country'].value_counts()"
   ]
  },
  {
   "cell_type": "code",
   "execution_count": 79,
   "id": "e6546362-7176-445f-888d-ec4c76e0c122",
   "metadata": {},
   "outputs": [],
   "source": [
    "products_cats.to_csv('../../SFS/environmental_impacts/Products_dat/products_categories.csv', index=False)"
   ]
  },
  {
   "cell_type": "code",
   "execution_count": null,
   "id": "d86ec794-d482-481f-9e24-a4e5d69d2ede",
   "metadata": {},
   "outputs": [],
   "source": []
  }
 ],
 "metadata": {
  "kernelspec": {
   "display_name": "Python 3 (ipykernel)",
   "language": "python",
   "name": "python3"
  },
  "language_info": {
   "codemirror_mode": {
    "name": "ipython",
    "version": 3
   },
   "file_extension": ".py",
   "mimetype": "text/x-python",
   "name": "python",
   "nbconvert_exporter": "python",
   "pygments_lexer": "ipython3",
   "version": "3.7.10"
  }
 },
 "nbformat": 4,
 "nbformat_minor": 5
}
