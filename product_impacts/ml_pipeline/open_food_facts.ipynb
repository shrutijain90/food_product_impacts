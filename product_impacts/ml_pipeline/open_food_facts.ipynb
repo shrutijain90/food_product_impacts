{
 "cells": [
  {
   "cell_type": "code",
   "execution_count": 44,
   "id": "4956fc93-3e8d-4f6b-8539-11396ee0fd33",
   "metadata": {},
   "outputs": [
    {
     "name": "stdout",
     "output_type": "stream",
     "text": [
      "\u001b[34mproduct_impacts\u001b[m\u001b[m\n"
     ]
    },
    {
     "name": "stderr",
     "output_type": "stream",
     "text": [
      "python(85955) MallocStackLogging: can't turn off malloc stack logging because it was not enabled.\n"
     ]
    }
   ],
   "source": [
    "import os\n",
    "os.chdir('../..')\n",
    "!ls"
   ]
  },
  {
   "cell_type": "code",
   "execution_count": 2,
   "id": "ddaddbfc-6a1d-4b50-828b-f4a821c843fe",
   "metadata": {},
   "outputs": [],
   "source": [
    "import pandas as pd\n",
    "import numpy as np\n",
    "import pickle\n",
    "import csv\n",
    "import time\n",
    "import ast\n",
    "import random\n",
    "from tqdm.notebook import tqdm\n",
    "from googletrans import Translator\n",
    "from easynmt import EasyNMT\n",
    "from langdetect import detect, LangDetectException\n",
    "\n",
    "import matplotlib.pyplot as plt\n",
    "import seaborn as sns\n",
    "import colorcet as cc\n",
    "\n",
    "tqdm.pandas()\n",
    "pd.set_option('display.max_columns', None)\n",
    "pd.set_option('display.max_rows', None)"
   ]
  },
  {
   "cell_type": "code",
   "execution_count": 3,
   "id": "ae39a4a6-fbbb-41c8-88a0-2922bf98a90f",
   "metadata": {},
   "outputs": [],
   "source": [
    "# enter path here\n",
    "data_dir = '../../SFS/openfoodfacts/all/'"
   ]
  },
  {
   "cell_type": "code",
   "execution_count": 4,
   "id": "b39c8935-e9a8-475b-b270-4bc428890a60",
   "metadata": {},
   "outputs": [],
   "source": [
    "chunks = 100000\n",
    "data = pd.read_csv(f'{data_dir}en.openfoodfacts.org.products.csv', sep='\\t', chunksize=chunks, low_memory=False, on_bad_lines='skip')\n",
    "\n",
    "df_list = []\n",
    "\n",
    "for chunk in data:\n",
    "    df_list.append(chunk)"
   ]
  },
  {
   "cell_type": "code",
   "execution_count": 5,
   "id": "d483f7da-c3a3-4e90-822b-83519c34e1c6",
   "metadata": {},
   "outputs": [],
   "source": [
    "cols = ['product_name', 'categories', 'categories_tags', 'categories_en', \n",
    "        'origins', 'origins_tags', 'origins_en',\n",
    "        'labels', 'labels_tags', 'labels_en',\n",
    "        'stores', 'countries', 'countries_tags', 'countries_en', \n",
    "        'ingredients_text', 'ingredients_tags', 'ingredients_analysis_tags',\n",
    "        'energy_100g', 'fat_100g', 'saturated-fat_100g', \n",
    "        'carbohydrates_100g', 'fiber_100g', 'proteins_100g',\n",
    "        'sugars_100g', 'salt_100g', 'serving_size', 'serving_quantity']\n",
    "\n",
    "df = pd.concat([df[cols] for df in df_list], axis=0, ignore_index=True)"
   ]
  },
  {
   "cell_type": "code",
   "execution_count": 6,
   "id": "f4207682-5d24-4660-995d-c4e3afa619fa",
   "metadata": {},
   "outputs": [],
   "source": [
    "df = df.fillna('')\n",
    "df = df[df['product_name']!='']\n",
    "df = df[df['product_name']!=' ']\n",
    "df = df[df['countries_en']!='']"
   ]
  },
  {
   "cell_type": "code",
   "execution_count": 7,
   "id": "3af7ccf4-6705-4a38-a0ab-f68f35ee5b2a",
   "metadata": {},
   "outputs": [],
   "source": [
    "df['countries_en'] = df.apply(lambda row: row['countries_en'].split(','), axis=1)"
   ]
  },
  {
   "cell_type": "code",
   "execution_count": 8,
   "id": "af797ade-4920-44ae-b086-ab2f6bad7477",
   "metadata": {},
   "outputs": [],
   "source": [
    "df = df.explode('countries_en')"
   ]
  },
  {
   "cell_type": "code",
   "execution_count": 9,
   "id": "c1088356-0b28-4bbb-9533-3a9910c6c22b",
   "metadata": {},
   "outputs": [],
   "source": [
    "countries = df.groupby('countries_en')[['product_name']].count().reset_index()\n",
    "df = df[df['countries_en'].isin(countries[countries['product_name']>1000]['countries_en'].values)]"
   ]
  },
  {
   "cell_type": "code",
   "execution_count": 10,
   "id": "f36a2463-13b1-4d73-a4a6-10676ef2e32a",
   "metadata": {},
   "outputs": [],
   "source": [
    "df['product_name_lower'] = df['product_name'].str.lower()\n",
    "df['ingredients_text_lower'] = df['ingredients_text'].str.lower()\n",
    "\n",
    "df = df.drop_duplicates(subset=['product_name_lower', 'ingredients_text', 'countries_en'])\n",
    "df = df.drop(['product_name_lower', 'ingredients_text_lower'], axis=1).reset_index(drop=True)"
   ]
  },
  {
   "cell_type": "code",
   "execution_count": 11,
   "id": "2e58549b-225b-449f-a6d3-ca79058b9a7b",
   "metadata": {},
   "outputs": [],
   "source": [
    "df['product_id'] = df.index\n",
    "df['product_id'] = df['product_id'].apply(str)\n",
    "df['product_id'] = '29112024' + df['product_id']\n",
    "df['product_id'] = pd.to_numeric(df['product_id'])\n",
    "first_column = df.pop('product_id') \n",
    "df.insert(0, 'product_id', first_column) "
   ]
  },
  {
   "cell_type": "code",
   "execution_count": 12,
   "id": "3dabc3e3-cd01-49e0-806b-76d245d00193",
   "metadata": {},
   "outputs": [],
   "source": [
    "def detect_language(text):\n",
    "    try:\n",
    "        # Only attempt detection if text has sufficient length\n",
    "        if len(text.strip()) > 1:  # Adjust this threshold as needed\n",
    "            return detect(text)\n",
    "        else:\n",
    "            return \"und\"  # Assign \"und\" (undetermined) for empty or short text\n",
    "    except LangDetectException:\n",
    "        return \"und\"  # Assign \"und\" for undetectable languages"
   ]
  },
  {
   "cell_type": "code",
   "execution_count": 13,
   "id": "2fcd6bb5-bbe5-46da-aa30-8e9eb2368d28",
   "metadata": {},
   "outputs": [],
   "source": [
    "df['ingredients_text_language'] = df.progress_apply(lambda row: detect_language(row['ingredients_text'], axis=1)\n",
    "df['product_name_language'] = df.progress_apply(lambda row: detect_language(row['product_name'], axis=1)"
   ]
  },
  {
   "cell_type": "code",
   "execution_count": 14,
   "id": "9b3aae61-360b-4867-8e19-e7fb27c37106",
   "metadata": {},
   "outputs": [],
   "source": [
    "df['product_name_en'] = df['product_name']\n",
    "df['ingredients_text_en'] = df['ingredients_text']"
   ]
  },
  {
   "cell_type": "code",
   "execution_count": 21,
   "id": "eadcfdfa-f958-4cbe-bf1b-ec4d9c764321",
   "metadata": {},
   "outputs": [],
   "source": [
    "df_eng = df[(df['ingredients_text_language']=='en') \n",
    "            | ((df['ingredients_text_language']=='und') \n",
    "               & (df['product_name_language']=='en'))].reset_index(drop=True)\n",
    "\n",
    "df_non_eng1 = df[(df['ingredients_text_language']!='en') \n",
    "                & (df['product_name_language']!='en')\n",
    "                & (df['ingredients_text']!='')].reset_index(drop=True)\n",
    "\n",
    "df_non_eng2 = df[(df['ingredients_text_language']!='en') \n",
    "                & (df['product_name_language']!='en')\n",
    "                & (df['ingredients_text']=='')].reset_index(drop=True)"
   ]
  },
  {
   "cell_type": "code",
   "execution_count": 22,
   "id": "846d0771-7557-41ad-bedf-9557c6d00066",
   "metadata": {},
   "outputs": [
    {
     "data": {
      "text/plain": [
       "(755225, 32)"
      ]
     },
     "execution_count": 22,
     "metadata": {},
     "output_type": "execute_result"
    }
   ],
   "source": [
    "df_eng.shape"
   ]
  },
  {
   "cell_type": "code",
   "execution_count": 23,
   "id": "7582b64a-7ee4-4054-ab0b-98169ff46397",
   "metadata": {},
   "outputs": [
    {
     "data": {
      "text/plain": [
       "(556635, 32)"
      ]
     },
     "execution_count": 23,
     "metadata": {},
     "output_type": "execute_result"
    }
   ],
   "source": [
    "df_non_eng1.shape"
   ]
  },
  {
   "cell_type": "code",
   "execution_count": 24,
   "id": "34bb90d0-3eb5-49cb-820f-0cbf59ec366b",
   "metadata": {},
   "outputs": [
    {
     "data": {
      "text/plain": [
       "(1186201, 32)"
      ]
     },
     "execution_count": 24,
     "metadata": {},
     "output_type": "execute_result"
    }
   ],
   "source": [
    "df_non_eng2.shape"
   ]
  },
  {
   "cell_type": "code",
   "execution_count": 25,
   "id": "84f0de45-d5ac-4f47-9409-bd1ab44a8214",
   "metadata": {},
   "outputs": [
    {
     "data": {
      "text/plain": [
       "(300489, 32)"
      ]
     },
     "execution_count": 25,
     "metadata": {},
     "output_type": "execute_result"
    }
   ],
   "source": [
    "df_non_eng1[(df_non_eng1['product_name_language']==df_non_eng1['ingredients_text_language'])].shape"
   ]
  },
  {
   "cell_type": "code",
   "execution_count": 26,
   "id": "2d8bbed0-1122-4a1c-86ad-10df40f87e0b",
   "metadata": {},
   "outputs": [],
   "source": [
    "translation_cache = {}\n",
    "translator = Translator()\n",
    "\n",
    "def translate_with_cache(text):\n",
    "    if text=='':\n",
    "        return ''\n",
    "    if text in translation_cache:\n",
    "        return translation_cache[text]\n",
    "    try:\n",
    "        translated = translator.translate(text, dest='en').text\n",
    "        translation_cache[text] = translated\n",
    "        return translated\n",
    "    except Exception as e:\n",
    "        return f\"Error: {e}\""
   ]
  },
  {
   "cell_type": "code",
   "execution_count": 27,
   "id": "64d2179b-eb06-41c1-b51c-78a811d3b1ed",
   "metadata": {
    "tags": []
   },
   "outputs": [],
   "source": [
    "# Translate in batches with delays\n",
    "batch_size = 100\n",
    "for start in range(0, len(df_non_eng1), batch_size):\n",
    "    end = start + batch_size\n",
    "    # print(f\"Processing rows {start} to {end}\")\n",
    "    df_non_eng1.loc[start:end, 'ingredients_text_en'] = df_non_eng1['ingredients_text'][start:end].apply(translate_with_cache)\n",
    "    # print(df_non_eng1.loc[start:end,:].sample(1)[['ingredients_text', 'ingredients_text_en']].values)\n",
    "    time.sleep(5)  # Add a delay to avoid rate limiting"
   ]
  },
  {
   "cell_type": "code",
   "execution_count": 28,
   "id": "c90590cc-aac6-43ff-a827-fb97c7a69e38",
   "metadata": {
    "tags": []
   },
   "outputs": [],
   "source": [
    "# Translate in batches with delays\n",
    "batch_size = 100\n",
    "for start in range(0, len(df_non_eng1), batch_size):\n",
    "    end = start + batch_size\n",
    "    # print(f\"Processing rows {start} to {end}\")\n",
    "    df_non_eng1.loc[start:end, 'product_name_en'] = df_non_eng1['product_name'][start:end].apply(translate_with_cache)\n",
    "    # print(df_non_eng1.loc[start:end,:].sample(1)[['product_name', 'product_name_en']].values)\n",
    "    time.sleep(5)  # Add a delay to avoid rate limiting"
   ]
  },
  {
   "cell_type": "code",
   "execution_count": 29,
   "id": "2a909fe2-0466-4fc9-8d0f-ad161887c2d5",
   "metadata": {},
   "outputs": [],
   "source": [
    "# removing translation errors\n",
    "df_non_eng1.loc[df_non_eng1['ingredients_text']=='na', 'ingredients_text'] = ''\n",
    "df_non_eng1.loc[df_non_eng1['ingredients_text_en']=='na', 'ingredients_text_en'] = ''\n",
    "df_non_eng1.loc[df_non_eng1['ingredients_text_en'].str.contains(\n",
    "    'error:', case=False, regex=False), 'ingredients_text_en'] = ''\n",
    "df_non_eng1.loc[df_non_eng1['product_name_en'].str.contains(\n",
    "    'error:', case=False, regex=False), 'product_name_en'] = df_non_eng1[\n",
    "    df_non_eng1['product_name_en'].str.contains(\n",
    "    'error:', case=False, regex=False)]['product_name']"
   ]
  },
  {
   "cell_type": "code",
   "execution_count": 43,
   "id": "7bc50f21-7630-40d9-8448-1de86bb3451d",
   "metadata": {
    "tags": []
   },
   "outputs": [],
   "source": [
    "# Translate in batches with delays\n",
    "batch_size = 100\n",
    "for start in range(0, len(df_non_eng2), batch_size):\n",
    "    end = start + batch_size\n",
    "    # print(f\"Processing rows {start} to {end}\")\n",
    "    df_non_eng2.loc[start:end, 'product_name_en'] = df_non_eng2['product_name'][start:end].apply(translate_with_cache)\n",
    "    # print(df_non_eng2.loc[start:end,:].sample(1)[['product_name', 'product_name_en']].values)\n",
    "    time.sleep(5)  # Add a delay to avoid rate limiting"
   ]
  },
  {
   "cell_type": "code",
   "execution_count": 32,
   "id": "9fd875bc-3b40-4636-bcda-2eaa95fd5fcf",
   "metadata": {},
   "outputs": [],
   "source": [
    "# removing translation errors\n",
    "df_non_eng2.loc[df_non_eng2['product_name_en'].str.contains(\n",
    "    'error:', case=False, regex=False), 'product_name_en'] = df_non_eng2[\n",
    "    df_non_eng2['product_name_en'].str.contains(\n",
    "    'error:', case=False, regex=False)]['product_name']"
   ]
  },
  {
   "cell_type": "code",
   "execution_count": 39,
   "id": "b3f2cdd7-2af3-4e6d-97a1-58e3418712c9",
   "metadata": {},
   "outputs": [],
   "source": [
    "df = pd.concat([df_eng, df_non_eng1, df_non_eng2], axis=0, ignore_index=True)"
   ]
  },
  {
   "cell_type": "code",
   "execution_count": 40,
   "id": "feb7f703-bad1-4a41-b8bc-5cf3a6193cac",
   "metadata": {},
   "outputs": [
    {
     "data": {
      "text/plain": [
       "(2498061, 32)"
      ]
     },
     "execution_count": 40,
     "metadata": {},
     "output_type": "execute_result"
    }
   ],
   "source": [
    "df.shape"
   ]
  },
  {
   "cell_type": "code",
   "execution_count": 42,
   "id": "6f5fb340-a555-412b-8953-7f5bcb456a24",
   "metadata": {},
   "outputs": [],
   "source": [
    "df.to_csv(f'{data_dir}openfoodfacts_lang.csv', index=False)"
   ]
  },
  {
   "cell_type": "code",
   "execution_count": null,
   "id": "26a854bb-71d9-4cce-ad30-6a8c04d5ddbe",
   "metadata": {},
   "outputs": [],
   "source": []
  }
 ],
 "metadata": {
  "kernelspec": {
   "display_name": "Python 3 (ipykernel)",
   "language": "python",
   "name": "python3"
  },
  "language_info": {
   "codemirror_mode": {
    "name": "ipython",
    "version": 3
   },
   "file_extension": ".py",
   "mimetype": "text/x-python",
   "name": "python",
   "nbconvert_exporter": "python",
   "pygments_lexer": "ipython3",
   "version": "3.10.0"
  }
 },
 "nbformat": 4,
 "nbformat_minor": 5
}
