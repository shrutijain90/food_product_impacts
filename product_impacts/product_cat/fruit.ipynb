{
 "cells": [
  {
   "cell_type": "code",
   "execution_count": 1,
   "id": "0a4446ef-ff16-473f-a09f-e04273475868",
   "metadata": {},
   "outputs": [
    {
     "name": "stdout",
     "output_type": "stream",
     "text": [
      "\u001b[34mproduct_impacts\u001b[m\u001b[m\n"
     ]
    },
    {
     "name": "stderr",
     "output_type": "stream",
     "text": [
      "python(10356) MallocStackLogging: can't turn off malloc stack logging because it was not enabled.\n"
     ]
    }
   ],
   "source": [
    "import os\n",
    "os.chdir('../..')\n",
    "!ls"
   ]
  },
  {
   "cell_type": "code",
   "execution_count": 2,
   "id": "ecbbb64c-e52f-4f2d-8ae6-1cc348ddc169",
   "metadata": {},
   "outputs": [],
   "source": [
    "import os.path\n",
    "import pandas as pd\n",
    "from skimpy import skim\n",
    "import requests\n",
    "from bs4 import BeautifulSoup\n",
    "import statistics\n",
    "from sentence_transformers import SentenceTransformer, util\n",
    "from sklearn.decomposition import PCA\n",
    "from sklearn.manifold import TSNE\n",
    "from sklearn.cluster import KMeans\n",
    "from sklearn.svm import SVC, LinearSVC, NuSVC\n",
    "from sklearn.model_selection import train_test_split, cross_validate\n",
    "from sklearn.pipeline import Pipeline\n",
    "from sklearn.linear_model import ElasticNet\n",
    "from sklearn.ensemble import RandomForestClassifier, GradientBoostingClassifier, HistGradientBoostingClassifier, AdaBoostClassifier\n",
    "from sklearn.naive_bayes import GaussianNB\n",
    "from sklearn.discriminant_analysis import LinearDiscriminantAnalysis\n",
    "from sklearn.discriminant_analysis import QuadraticDiscriminantAnalysis\n",
    "from sklearn.neighbors import KNeighborsClassifier\n",
    "from sklearn.metrics import accuracy_score, matthews_corrcoef, f1_score, mean_squared_error, r2_score, roc_auc_score, balanced_accuracy_score, precision_score, recall_score\n",
    "from sklearn.metrics.pairwise import cosine_similarity\n",
    "from sklearn import preprocessing\n",
    "from sklearn.feature_selection import mutual_info_classif\n",
    "from hiclass import LocalClassifierPerParentNode, LocalClassifierPerLevel\n",
    "\n",
    "from product_impacts.product_cat.run_model import get_store, get_ndns_cats, get_products, get_ndns_matches, get_tsne\n",
    "\n",
    "import numpy as np\n",
    "import pickle\n",
    "import json"
   ]
  },
  {
   "cell_type": "code",
   "execution_count": 3,
   "id": "d501d8fb-9b8c-4c3c-8e42-f86a37401f5e",
   "metadata": {},
   "outputs": [
    {
     "name": "stderr",
     "output_type": "stream",
     "text": [
      "python(10393) MallocStackLogging: can't turn off malloc stack logging because it was not enabled.\n"
     ]
    }
   ],
   "source": [
    "import matplotlib.pyplot as plt\n",
    "import seaborn as sns\n",
    "import colorcet as cc\n",
    "\n",
    "sns.set()"
   ]
  },
  {
   "cell_type": "code",
   "execution_count": 4,
   "id": "296ced90-f2ab-4ce3-acab-934a5b6f2424",
   "metadata": {},
   "outputs": [],
   "source": [
    "pd.set_option('display.max_columns', None)\n",
    "pd.set_option('display.max_rows', None)\n",
    "os.environ[\"RAY_ENABLE_MAC_LARGE_OBJECT_STORE\"] = \"1\""
   ]
  },
  {
   "cell_type": "code",
   "execution_count": 5,
   "id": "6de2a6cf-08a5-4da6-b243-3b541b41094f",
   "metadata": {},
   "outputs": [
    {
     "name": "stderr",
     "output_type": "stream",
     "text": [
      "/Users/shruti/anaconda3/envs/ct_map/lib/python3.7/site-packages/openpyxl/worksheet/_read_only.py:79: UserWarning: Data Validation extension is not supported and will be removed\n",
      "  for idx, row in parser.parse():\n"
     ]
    }
   ],
   "source": [
    "ndns = get_ndns_cats('../../SFS/NDNS UK/ndns_edited.csv')\n",
    "products = get_products()\n",
    "labelled_data, non_food_products = get_ndns_matches(\n",
    "    ndns, products)"
   ]
  },
  {
   "cell_type": "code",
   "execution_count": 6,
   "id": "8874d1c8-b568-453a-ac59-de07056bca5d",
   "metadata": {},
   "outputs": [],
   "source": [
    "# removing duplicated product names + ingredients (basically products with same exact feature vectors)\n",
    "labelled_data['product_list_name_lower'] = labelled_data['product_list_name'].str.lower()\n",
    "labelled_data['ingredients_text_lower'] = labelled_data['ingredients_text'].str.lower()\n",
    "labelled_data = labelled_data.drop_duplicates(\n",
    "    subset=['product_list_name_lower', 'ingredients_text_lower']).reset_index(drop=True)"
   ]
  },
  {
   "cell_type": "code",
   "execution_count": 7,
   "id": "619310fc-f160-47bc-ae1a-d6b298b80662",
   "metadata": {},
   "outputs": [],
   "source": [
    "# lev 0 predictions\n",
    "predicted_data = pd.read_csv('../../SFS/NDNS UK/predictions/predictions_lev0_manuallabels_nonHI_RF_withcorrections_14Oct2024.csv')"
   ]
  },
  {
   "cell_type": "code",
   "execution_count": 8,
   "id": "7c91162c-a459-4e4b-8eeb-242321207fb5",
   "metadata": {},
   "outputs": [
    {
     "data": {
      "text/plain": [
       "(262711, 11)"
      ]
     },
     "execution_count": 8,
     "metadata": {},
     "output_type": "execute_result"
    }
   ],
   "source": [
    "predicted_data.shape"
   ]
  },
  {
   "cell_type": "code",
   "execution_count": 9,
   "id": "40c9d12c-838f-4d37-8c6f-4b785117546a",
   "metadata": {},
   "outputs": [
    {
     "data": {
      "text/plain": [
       "Cereals and Cereal Products             52426\n",
       "Miscellaneous                           27598\n",
       "Meat and Meat Products                  26837\n",
       "Non-Alcoholic Beverages                 25994\n",
       "Sugar, Preserves and Confectionery      25822\n",
       "Vegetables, Potatoes                    23757\n",
       "Milk and Milk Products                  23239\n",
       "Alcoholic Beverages                     15150\n",
       "Fish and Fish Dishes                     9302\n",
       "Fruit                                    7343\n",
       "Savoury Snacks                           6460\n",
       "Not Food                                 5086\n",
       "Nuts and Seeds                           5057\n",
       "Fat Spreads                              3811\n",
       "Commercial Toddlers Foods and Drinks     2488\n",
       "Eggs and Egg Dishes                      1315\n",
       "Dietary Supplements                       622\n",
       "Artificial Sweeteners                     404\n",
       "Name: parentcategory_pred, dtype: int64"
      ]
     },
     "execution_count": 9,
     "metadata": {},
     "output_type": "execute_result"
    }
   ],
   "source": [
    "predicted_data['parentcategory_pred'].value_counts()"
   ]
  },
  {
   "cell_type": "code",
   "execution_count": 10,
   "id": "3e9c00b8-fde8-4c77-af23-23e8d68c5a66",
   "metadata": {},
   "outputs": [],
   "source": [
    "pred = predicted_data[predicted_data['parentcategory_pred']=='Fruit'].reset_index(drop=True)\n",
    "lab = labelled_data[(labelled_data['parentcategory']=='Fruit')\n",
    "                           & (labelled_data['subfoodgroupdesc'].notnull())].reset_index(drop=True)\n",
    "lab = lab.merge(pred[['product_id']])"
   ]
  },
  {
   "cell_type": "code",
   "execution_count": 11,
   "id": "af85d92e-6f67-4a2c-a02f-427c9a7ee174",
   "metadata": {},
   "outputs": [
    {
     "data": {
      "text/plain": [
       "(7343, 11)"
      ]
     },
     "execution_count": 11,
     "metadata": {},
     "output_type": "execute_result"
    }
   ],
   "source": [
    "pred.shape"
   ]
  },
  {
   "cell_type": "code",
   "execution_count": 12,
   "id": "2481297b-32d2-4087-9327-152da4c1a3e7",
   "metadata": {},
   "outputs": [
    {
     "data": {
      "text/plain": [
       "(1342, 12)"
      ]
     },
     "execution_count": 12,
     "metadata": {},
     "output_type": "execute_result"
    }
   ],
   "source": [
    "lab.shape"
   ]
  },
  {
   "cell_type": "code",
   "execution_count": 13,
   "id": "db3ff309-1d4f-496f-93b6-24377ebf4ebd",
   "metadata": {},
   "outputs": [
    {
     "data": {
      "text/plain": [
       "Other fruit not canned         718\n",
       "Apples and pears not canned    236\n",
       "Citrus fruit not canned        132\n",
       "Canned fruit in juice          129\n",
       "Canned fruit in syrup           85\n",
       "Bananas                         42\n",
       "Name: subfoodgroupdesc, dtype: int64"
      ]
     },
     "execution_count": 13,
     "metadata": {},
     "output_type": "execute_result"
    }
   ],
   "source": [
    "lab['subfoodgroupdesc'].value_counts()"
   ]
  },
  {
   "cell_type": "code",
   "execution_count": 14,
   "id": "27094b38-ea3c-42ce-b49b-3ad200a0a396",
   "metadata": {},
   "outputs": [
    {
     "data": {
      "text/plain": [
       "Fruit    1342\n",
       "Name: mainfoodgroupdesc, dtype: int64"
      ]
     },
     "execution_count": 14,
     "metadata": {},
     "output_type": "execute_result"
    }
   ],
   "source": [
    "lab['mainfoodgroupdesc'].value_counts()"
   ]
  },
  {
   "cell_type": "code",
   "execution_count": 15,
   "id": "161029ef-16ce-43d2-bb7c-65c508b93817",
   "metadata": {},
   "outputs": [
    {
     "data": {
      "text/plain": [
       "Other fruit not canned                         718\n",
       "Apples and pears not canned                    236\n",
       "Citrus fruit not canned                        132\n",
       "Canned fruit in juice                          129\n",
       "Canned fruit in syrup                           84\n",
       "Bananas                                         42\n",
       "Nuts and seeds                                  19\n",
       "Soft drinks not low calorie concentrated         7\n",
       "Fruit juice                                      6\n",
       "Sugar confectionery                              4\n",
       "Other vegetable products and dishes              3\n",
       "Tomatoes                                         3\n",
       "Crisps and savoury snacks                        2\n",
       "Fruit pies                                       2\n",
       "Fromage frais and other dairy desserts           1\n",
       "Other cereal based puddings                      1\n",
       "Non-nutrient supplements (including herbal)      1\n",
       "Ice cream                                        1\n",
       "Buns cakes and pastries                          1\n",
       "Preserves                                        1\n",
       "Sweet spreads fillings and icing                 1\n",
       "Biscuits                                         1\n",
       "Other meat products                              1\n",
       "Name: subfoodgroup_lab, dtype: int64"
      ]
     },
     "execution_count": 15,
     "metadata": {},
     "output_type": "execute_result"
    }
   ],
   "source": [
    "pred['subfoodgroup_lab'].value_counts()"
   ]
  },
  {
   "cell_type": "code",
   "execution_count": 16,
   "id": "33b67f12-e561-48ae-a1c7-cd3c21cd00e3",
   "metadata": {},
   "outputs": [],
   "source": [
    "# correcting some labels\n",
    "\n",
    "lab.loc[(lab['subfoodgroupdesc']=='Canned fruit in syrup')\n",
    "         & (lab['product_list_name'].str.lower().str.contains('juice')),\n",
    "        'subfoodgroupdesc'] = 'Canned fruit in juice'\n",
    "\n",
    "lab.loc[(lab['subfoodgroupdesc']=='Citrus fruit not canned')\n",
    "         & (lab['product_list_name'].str.lower().str.contains('juice')),\n",
    "        'subfoodgroupdesc'] = 'Canned fruit in juice'\n",
    "\n",
    "lab.loc[(lab['subfoodgroupdesc']=='Canned fruit in syrup')\n",
    "         & (lab['product_list_name'].str.lower().str.contains(' apple ')),\n",
    "        'subfoodgroupdesc'] = 'Apples and pears not canned'"
   ]
  },
  {
   "cell_type": "code",
   "execution_count": 17,
   "id": "9d6e2d96-f373-4ec4-b391-f461fbad7e3a",
   "metadata": {},
   "outputs": [],
   "source": [
    "# correcting the lev 1 categories and codes\n",
    "lab = lab.drop(['mainfoodgroupcode', 'mainfoodgroupdesc', 'subfoodgroupcode'], axis=1)\n",
    "lab = lab.merge(\n",
    "    ndns[['mainfoodgroupcode', 'mainfoodgroupdesc', 'subfoodgroupcode', 'subfoodgroupdesc']].drop_duplicates(\n",
    "        subset=['subfoodgroupdesc']), how='left')"
   ]
  },
  {
   "cell_type": "code",
   "execution_count": 18,
   "id": "bc9c8b5a-5752-4fd7-bc68-3640a9ae3bc9",
   "metadata": {},
   "outputs": [
    {
     "data": {
      "text/plain": [
       "Other fruit not canned         718\n",
       "Apples and pears not canned    240\n",
       "Canned fruit in juice          160\n",
       "Citrus fruit not canned        112\n",
       "Canned fruit in syrup           70\n",
       "Bananas                         42\n",
       "Name: subfoodgroupdesc, dtype: int64"
      ]
     },
     "execution_count": 18,
     "metadata": {},
     "output_type": "execute_result"
    }
   ],
   "source": [
    "lab['subfoodgroupdesc'].value_counts()"
   ]
  },
  {
   "cell_type": "code",
   "execution_count": 19,
   "id": "b09d89ac-3745-4c0f-ac8c-d0641ae0aa36",
   "metadata": {},
   "outputs": [
    {
     "data": {
      "text/plain": [
       "Fruit    1342\n",
       "Name: mainfoodgroupdesc, dtype: int64"
      ]
     },
     "execution_count": 19,
     "metadata": {},
     "output_type": "execute_result"
    }
   ],
   "source": [
    "lab['mainfoodgroupdesc'].value_counts()"
   ]
  },
  {
   "cell_type": "code",
   "execution_count": 20,
   "id": "e9c12e78-6556-4022-873d-ced5fe43046e",
   "metadata": {},
   "outputs": [
    {
     "name": "stderr",
     "output_type": "stream",
     "text": [
      "/Users/shruti/anaconda3/envs/ct_map/lib/python3.7/site-packages/ipykernel_launcher.py:3: SettingWithCopyWarning: \n",
      "A value is trying to be set on a copy of a slice from a DataFrame.\n",
      "Try using .loc[row_indexer,col_indexer] = value instead\n",
      "\n",
      "See the caveats in the documentation: https://pandas.pydata.org/pandas-docs/stable/user_guide/indexing.html#returning-a-view-versus-a-copy\n",
      "  This is separate from the ipykernel package so we can avoid doing imports until\n",
      "/Users/shruti/anaconda3/envs/ct_map/lib/python3.7/site-packages/ipykernel_launcher.py:4: SettingWithCopyWarning: \n",
      "A value is trying to be set on a copy of a slice from a DataFrame.\n",
      "Try using .loc[row_indexer,col_indexer] = value instead\n",
      "\n",
      "See the caveats in the documentation: https://pandas.pydata.org/pandas-docs/stable/user_guide/indexing.html#returning-a-view-versus-a-copy\n",
      "  after removing the cwd from sys.path.\n",
      "/Users/shruti/anaconda3/envs/ct_map/lib/python3.7/site-packages/pandas/core/indexing.py:1817: SettingWithCopyWarning: \n",
      "A value is trying to be set on a copy of a slice from a DataFrame.\n",
      "Try using .loc[row_indexer,col_indexer] = value instead\n",
      "\n",
      "See the caveats in the documentation: https://pandas.pydata.org/pandas-docs/stable/user_guide/indexing.html#returning-a-view-versus-a-copy\n",
      "  self._setitem_single_column(loc, value, pi)\n"
     ]
    }
   ],
   "source": [
    "lev2_labels_add = pred[[\n",
    "    'product_id', 'product_list_name', 'product_name', 'ingredients_text', 'store']]\n",
    "lev2_labels_add['parentcategory'] = 'Fruit'\n",
    "lev2_labels_add['subfoodgroupdesc'] = np.NaN\n",
    "\n",
    "lev2_labels_add.loc[(lev2_labels_add['product_list_name'].str.lower().str.contains(\"mandarin\"))\n",
    "                    & (lev2_labels_add['product_list_name'].str.lower().str.contains(\"juice\")),\n",
    "                    'subfoodgroupdesc'] = 'Canned fruit in juice'\n",
    "\n",
    "lev2_labels_add.loc[(lev2_labels_add['product_list_name'].str.lower().str.contains(\"peach halves\"))\n",
    "                    & (lev2_labels_add['product_list_name'].str.lower().str.contains(\"juice\")),\n",
    "                    'subfoodgroupdesc'] = 'Canned fruit in juice'\n",
    "\n",
    "lev2_labels_add.loc[(lev2_labels_add['product_list_name'].str.lower().str.contains(\"mango pulp\")),\n",
    "                    'subfoodgroupdesc'] = 'Canned fruit in juice'\n",
    "\n",
    "lev2_labels_add.loc[(lev2_labels_add['product_list_name'].str.lower().str.contains(\"mango\"))\n",
    "                    & (lev2_labels_add['product_list_name'].str.lower().str.contains(\"juice\")),\n",
    "                    'subfoodgroupdesc'] = 'Canned fruit in juice'\n",
    "\n",
    "lev2_labels_add.loc[(lev2_labels_add['product_list_name'].str.lower().str.contains(\"princes\"))\n",
    "                    & (lev2_labels_add['product_list_name'].str.lower().str.contains(\"juice\")),\n",
    "                    'subfoodgroupdesc'] = 'Canned fruit in juice'\n",
    "\n",
    "lev2_labels_add.loc[(lev2_labels_add['product_list_name'].str.lower().str.contains(\"pineapple\"))\n",
    "                    & (lev2_labels_add['product_list_name'].str.lower().str.contains(\"syrup\")),\n",
    "                    'subfoodgroupdesc'] = 'Canned fruit in syrup'\n",
    "\n",
    "lev2_labels_add.loc[(lev2_labels_add['product_list_name'].str.lower().str.contains(\"raspberries\"))\n",
    "                    & (lev2_labels_add['product_list_name'].str.lower().str.contains(\"syrup\")),\n",
    "                    'subfoodgroupdesc'] = 'Canned fruit in syrup'\n",
    "\n",
    "lev2_labels_add.loc[(lev2_labels_add['product_list_name'].str.lower().str.contains(\"mandarins\"))\n",
    "                    & (lev2_labels_add['product_list_name'].str.lower().str.contains(\"syrup\")),\n",
    "                    'subfoodgroupdesc'] = 'Canned fruit in syrup'\n",
    "\n",
    "lev2_labels_add.loc[(lev2_labels_add['product_list_name'].str.lower().str.contains(\"rhubarb\"))\n",
    "                    & (lev2_labels_add['product_list_name'].str.lower().str.contains(\"syrup\")),\n",
    "                    'subfoodgroupdesc'] = 'Canned fruit in syrup'\n",
    "\n",
    "lev2_labels_add.loc[(lev2_labels_add['product_list_name'].str.lower().str.contains(\"apple sauce\")),\n",
    "                    'subfoodgroupdesc'] = 'Apples and pears not canned'\n",
    "\n",
    "lev2_labels_add.loc[(lev2_labels_add['product_list_name'].str.lower().str.contains(\"biona\"))\n",
    "                    & (lev2_labels_add['product_list_name'].str.lower().str.contains(\" apple\")),\n",
    "                    'subfoodgroupdesc'] = 'Apples and pears not canned'\n",
    "\n",
    "lev2_labels_add.loc[(lev2_labels_add['product_list_name'].str.lower().str.contains(\"biona\"))\n",
    "                    & (lev2_labels_add['product_list_name'].str.lower().str.contains(\"pear\")),\n",
    "                    'subfoodgroupdesc'] = 'Apples and pears not canned'\n",
    "\n",
    "lev2_labels_add.loc[(lev2_labels_add['product_list_name'].str.lower().str.contains(\"clearspring\"))\n",
    "                    & (lev2_labels_add['product_list_name'].str.lower().str.contains(\" apple\")),\n",
    "                    'subfoodgroupdesc'] = 'Apples and pears not canned'\n",
    "\n",
    "lev2_labels_add.loc[(lev2_labels_add['product_list_name'].str.lower().str.contains(\"raspberries\"))\n",
    "                    & (~lev2_labels_add['product_list_name'].str.lower().str.contains(\"syrup\"))\n",
    "                    & (~lev2_labels_add['product_list_name'].str.lower().str.contains(\"juice\")),\n",
    "                    'subfoodgroupdesc'] = 'Other fruit not canned'\n",
    "\n",
    "lev2_labels_add.loc[(lev2_labels_add['product_list_name'].str.lower().str.contains(\"peaches\"))\n",
    "                    & (~lev2_labels_add['product_list_name'].str.lower().str.contains(\"syrup\"))\n",
    "                    & (~lev2_labels_add['product_list_name'].str.lower().str.contains(\"juice\")),\n",
    "                    'subfoodgroupdesc'] = 'Other fruit not canned'\n",
    "\n",
    "lev2_labels_add.loc[(lev2_labels_add['product_list_name'].str.lower().str.contains(\"olives chilli\")),\n",
    "                    'subfoodgroupdesc'] = 'Other fruit not canned'\n",
    "\n",
    "lev2_labels_add.loc[(lev2_labels_add['product_list_name'].str.lower().str.contains(\"mixed berry pot\")),\n",
    "                    'subfoodgroupdesc'] = 'Other fruit not canned'\n",
    "\n",
    "lev2_labels_add.loc[(lev2_labels_add['product_list_name'].str.lower().str.contains(\"mango pot\")),\n",
    "                    'subfoodgroupdesc'] = 'Other fruit not canned'\n",
    "\n",
    "lev2_labels_add.loc[(lev2_labels_add['product_list_name'].str.lower().str.contains(\"mango, melon\")),\n",
    "                    'subfoodgroupdesc'] = 'Other fruit not canned'\n",
    "\n",
    "lev2_labels_add.loc[(lev2_labels_add['product_list_name'].str.lower().str.contains(\"mango chunks\")),\n",
    "                    'subfoodgroupdesc'] = 'Other fruit not canned'\n",
    "\n",
    "lev2_labels_add.loc[(lev2_labels_add['product_list_name'].str.lower().str.contains(\"rhubarb\"))\n",
    "                    & (~lev2_labels_add['product_list_name'].str.lower().str.contains(\"syrup\")),\n",
    "                    'subfoodgroupdesc'] = 'Other fruit not canned'\n",
    "\n",
    "lev2_labels_add.loc[(lev2_labels_add['product_list_name'].str.lower().str.contains(\"fruit bowl\"))\n",
    "                    & (lev2_labels_add['product_list_name'].str.lower().str.contains(\"peeler\")),\n",
    "                    'subfoodgroupdesc'] = 'Other fruit not canned'\n",
    "\n",
    "lev2_labels_add.loc[(lev2_labels_add['product_list_name'].str.lower().str.contains(\"mandarins\"))\n",
    "                    & (~lev2_labels_add['product_list_name'].str.lower().str.contains(\"syrup\"))\n",
    "                    & (~lev2_labels_add['product_list_name'].str.lower().str.contains(\"juice\")),\n",
    "                    'subfoodgroupdesc'] = 'Citrus fruit not canned'\n",
    "\n",
    "lev2_labels_add.loc[(lev2_labels_add['product_list_name'].str.lower().str.contains(\"orange\"))\n",
    "                    & (~lev2_labels_add['product_list_name'].str.lower().str.contains(\"river\"))\n",
    "                    & (~lev2_labels_add['product_list_name'].str.lower().str.contains(\"melon\"))\n",
    "                    & (~lev2_labels_add['product_list_name'].str.lower().str.contains(\"sultana\"))\n",
    "                    & (~lev2_labels_add['product_list_name'].str.lower().str.contains(\"syrup\"))\n",
    "                    & (~lev2_labels_add['product_list_name'].str.lower().str.contains(\"juice\")),\n",
    "                    'subfoodgroupdesc'] = 'Citrus fruit not canned'\n",
    "\n",
    "lev2_labels_add.loc[(lev2_labels_add['product_list_name'].str.lower().str.contains(\"st limes\")),\n",
    "                    'subfoodgroupdesc'] = 'Citrus fruit not canned'"
   ]
  },
  {
   "cell_type": "code",
   "execution_count": 21,
   "id": "fb78cc08-e1a3-4fa6-817f-4a5863ce2753",
   "metadata": {},
   "outputs": [],
   "source": [
    "# lev2_labels_add.loc[(lev2_labels_add['product_list_name'].str.lower().str.contains(\"st limes\"))\n",
    "#                    ]"
   ]
  },
  {
   "cell_type": "code",
   "execution_count": 22,
   "id": "ae713996-5f81-4dd2-89b4-a9538387a08d",
   "metadata": {},
   "outputs": [],
   "source": [
    "lev2_labels_add = lev2_labels_add.merge(\n",
    "    ndns.drop('detaileddesc', axis=1)).drop_duplicates(subset=['product_id', 'subfoodgroupdesc'])\n",
    "lev2_labels_add['product_list_name_lower'] = lev2_labels_add['product_list_name'].str.lower()\n",
    "lev2_labels_add['ingredients_text_lower'] = lev2_labels_add['ingredients_text'].str.lower()\n",
    "lev2_labels_add = lev2_labels_add.drop_duplicates(\n",
    "    subset=['product_list_name_lower', 'ingredients_text_lower']).reset_index(drop=True)\n",
    "\n",
    "dups = lab[['product_id', 'product_list_name_lower', 'ingredients_text_lower', 'subfoodgroupdesc']].merge(\n",
    "    lev2_labels_add[['product_list_name_lower', 'ingredients_text_lower', 'subfoodgroupdesc']])['product_id'].values\n",
    "lev2_labels_add = lev2_labels_add[(~lev2_labels_add['product_id'].isin(dups))]\n",
    "lab = lab[(~lab['product_id'].isin(lev2_labels_add['product_id'].values))]\n",
    "lab = pd.concat([lab, lev2_labels_add], ignore_index=True, axis=0).drop_duplicates(\n",
    "    subset=['product_list_name_lower', 'ingredients_text_lower']).reset_index(drop=True)"
   ]
  },
  {
   "cell_type": "code",
   "execution_count": 23,
   "id": "c5222ffa-42a8-41db-aa27-c7fa5be52292",
   "metadata": {},
   "outputs": [
    {
     "data": {
      "text/plain": [
       "(1572, 12)"
      ]
     },
     "execution_count": 23,
     "metadata": {},
     "output_type": "execute_result"
    }
   ],
   "source": [
    "lab.shape"
   ]
  },
  {
   "cell_type": "code",
   "execution_count": 24,
   "id": "b8398622-22d5-4bed-b052-3c2965ab8ca4",
   "metadata": {},
   "outputs": [
    {
     "data": {
      "text/plain": [
       "Other fruit not canned         825\n",
       "Apples and pears not canned    289\n",
       "Canned fruit in juice          210\n",
       "Citrus fruit not canned        132\n",
       "Canned fruit in syrup           74\n",
       "Bananas                         42\n",
       "Name: subfoodgroupdesc, dtype: int64"
      ]
     },
     "execution_count": 24,
     "metadata": {},
     "output_type": "execute_result"
    }
   ],
   "source": [
    "lab['subfoodgroupdesc'].value_counts()"
   ]
  },
  {
   "cell_type": "code",
   "execution_count": 25,
   "id": "6e6fb25b-efca-4f40-bc68-e15e04c34eb4",
   "metadata": {},
   "outputs": [],
   "source": [
    "pred = pred.drop('mainfoodgroup_lab', axis=1).merge(\n",
    "    lab[['product_id', 'mainfoodgroupdesc']], how='left').rename(columns={'mainfoodgroupdesc': 'mainfoodgroup_lab'})\n",
    "\n",
    "pred = pred.drop('subfoodgroup_lab', axis=1).merge(\n",
    "    lab[['product_id', 'subfoodgroupdesc']], how='left').rename(columns={'subfoodgroupdesc': 'subfoodgroup_lab'})"
   ]
  },
  {
   "cell_type": "code",
   "execution_count": 26,
   "id": "dbc8209c-6c91-4fec-a05d-b1855dd053df",
   "metadata": {},
   "outputs": [],
   "source": [
    "query_embeddings = np.load('../../SFS/bert/all_embeddings_all3.npy')\n",
    "tsne_results = get_tsne(query_embeddings, '../../SFS/bert/tsne_results_all3.npy')\n",
    "product_ids = np.load('../../SFS/bert/all_ids_all3.npy')\n",
    "\n",
    "features = pd.DataFrame(data=query_embeddings)\n",
    "id_col = 'product_id'\n",
    "X_cols = features.columns.tolist()\n",
    "y_cols = ['parentcategory', 'mainfoodgroupdesc', 'subfoodgroupdesc']\n",
    "\n",
    "features['product_id'] = pd.Series(product_ids, index=features.index)\n",
    "features[['tsne_0', 'tsne_1']] = tsne_results\n",
    "lab = lab.merge(features)"
   ]
  },
  {
   "cell_type": "code",
   "execution_count": 27,
   "id": "2e2101da-22e9-4d4a-b19b-ddf9a0b6b780",
   "metadata": {},
   "outputs": [
    {
     "name": "stdout",
     "output_type": "stream",
     "text": [
      "Number of unique level 1 categories in train: 1\n",
      "Number of unique level 1 categories in test: 1\n",
      "Number of unique level 2 categories in train: 6\n",
      "Number of unique level 2 categories in test: 6\n",
      "\n",
      "Lev 1 train accuracy: 1.0\n",
      "Lev 1 train balanced accuracy: 1.0\n",
      "Lev 1 test accuracy: 1.0\n",
      "Lev 1 test balanced accuracy: 1.0\n",
      "\n",
      "Lev 2 train accuracy: 0.9856801909307876\n",
      "Lev 2 train balanced accuracy: 0.9868136262896142\n",
      "Lev 2 test accuracy: 0.9523809523809523\n",
      "Lev 2 test balanced accuracy: 0.9325263504475036\n",
      "\n",
      "Number of unique level 1 categories predicted in train: 1\n",
      "Number of unique level 1 categories predicted in test: 1\n",
      "Number of unique level 2 categories predicted in train: 6\n",
      "Number of unique level 2 categories predicted in test: 6\n",
      "\n"
     ]
    }
   ],
   "source": [
    "acc_list_train = []\n",
    "bal_acc_list_train = []\n",
    "precision_list_train = []\n",
    "recall_list_train = []\n",
    "f1_list_train = []\n",
    "mcc_list_train = []\n",
    "\n",
    "acc_list_test = []\n",
    "bal_acc_list_test = []\n",
    "precision_list_test = []\n",
    "recall_list_test = []\n",
    "f1_list_test = []\n",
    "mcc_list_test = []\n",
    "\n",
    "for i in range(1):\n",
    "    train, test = train_test_split(lab, test_size=0.2, random_state=i)\n",
    "    print(f'Number of unique level 1 categories in train: {train[y_cols[1]].nunique()}')\n",
    "    print(f'Number of unique level 1 categories in test: {test[y_cols[1]].nunique()}')\n",
    "    print(f'Number of unique level 2 categories in train: {train[y_cols[2]].nunique()}')\n",
    "    print(f'Number of unique level 2 categories in test: {test[y_cols[2]].nunique()}\\n')\n",
    "\n",
    "    X_train = train[X_cols]\n",
    "    y_train = train[[y_cols[1], y_cols[2]]]\n",
    "    y_train1 = train[y_cols[1]]\n",
    "    y_train2 = train[y_cols[2]]\n",
    "\n",
    "    X_test = test[X_cols]\n",
    "    y_test = test[[y_cols[1], y_cols[2]]]\n",
    "    y_test1 = test[y_cols[1]]\n",
    "    y_test2 = test[y_cols[2]]\n",
    "\n",
    "    mod = RandomForestClassifier(n_estimators=400, \n",
    "                                 min_samples_leaf=10, \n",
    "                                 max_depth=25,\n",
    "                                 class_weight='balanced'\n",
    "                                )\n",
    "\n",
    "    clf2 = mod\n",
    "    clf2.fit(X_train, y_train2)\n",
    "    y_train_pred2 = clf2.predict(X_train)\n",
    "    y_test_pred2 = clf2.predict(X_test)\n",
    "\n",
    "    y_train_pred1 = pd.DataFrame(y_train_pred2, columns=[y_cols[2]]).merge(\n",
    "        lab[[y_cols[1], y_cols[2]]].drop_duplicates(), how='left')[y_cols[1]].values\n",
    "    y_test_pred1 = pd.DataFrame(y_test_pred2, columns=[y_cols[2]]).merge(\n",
    "        lab[[y_cols[1], y_cols[2]]].drop_duplicates(), how='left')[y_cols[1]].values\n",
    "\n",
    "    print(f'Lev 1 train accuracy: {accuracy_score(y_train1, y_train_pred1)}')\n",
    "    print(f'Lev 1 train balanced accuracy: {balanced_accuracy_score(y_train1, y_train_pred1)}')\n",
    "    print(f'Lev 1 test accuracy: {accuracy_score(y_test1, y_test_pred1)}')\n",
    "    print(f'Lev 1 test balanced accuracy: {balanced_accuracy_score(y_test1, y_test_pred1)}\\n')\n",
    "\n",
    "    print(f'Lev 2 train accuracy: {accuracy_score(y_train2, y_train_pred2)}')\n",
    "    print(f'Lev 2 train balanced accuracy: {balanced_accuracy_score(y_train2, y_train_pred2)}')\n",
    "    print(f'Lev 2 test accuracy: {accuracy_score(y_test2, y_test_pred2)}')\n",
    "    print(f'Lev 2 test balanced accuracy: {balanced_accuracy_score(y_test2, y_test_pred2)}\\n')\n",
    "\n",
    "    print(f'Number of unique level 1 categories predicted in train: {len(np.unique(y_train_pred1))}')\n",
    "    print(f'Number of unique level 1 categories predicted in test: {len(np.unique(y_test_pred1))}')    \n",
    "    print(f'Number of unique level 2 categories predicted in train: {len(np.unique(y_train_pred2))}')\n",
    "    print(f'Number of unique level 2 categories predicted in test: {len(np.unique(y_test_pred2))}\\n')    \n",
    "    \n",
    "    acc_list_train.append(accuracy_score(y_train2, y_train_pred2))\n",
    "    bal_acc_list_train.append(balanced_accuracy_score(y_train2, y_train_pred2))\n",
    "    precision_list_train.append(precision_score(y_train2, y_train_pred2, average='weighted'))\n",
    "    recall_list_train.append(recall_score(y_train2, y_train_pred2, average='weighted'))\n",
    "    f1_list_train.append(f1_score(y_train2, y_train_pred2, average='weighted'))\n",
    "    mcc_list_train.append(matthews_corrcoef(y_train2, y_train_pred2))\n",
    "    \n",
    "    acc_list_test.append(accuracy_score(y_test2, y_test_pred2))\n",
    "    bal_acc_list_test.append(balanced_accuracy_score(y_test2, y_test_pred2))\n",
    "    precision_list_test.append(precision_score(y_test2, y_test_pred2, average='weighted'))\n",
    "    recall_list_test.append(recall_score(y_test2, y_test_pred2, average='weighted'))\n",
    "    f1_list_test.append(f1_score(y_test2, y_test_pred2, average='weighted'))\n",
    "    mcc_list_test.append(matthews_corrcoef(y_test2, y_test_pred2))"
   ]
  },
  {
   "cell_type": "code",
   "execution_count": 28,
   "id": "29dcb292-a0a1-4d9c-a0b4-2f3ecbcaa5bb",
   "metadata": {},
   "outputs": [
    {
     "name": "stdout",
     "output_type": "stream",
     "text": [
      "train\n",
      "accuracy: 0.9856801909307876\n",
      "balanced accuracy: 0.9868136262896142\n",
      "precision: 0.9861444553885849\n",
      "recall: 0.9856801909307876\n",
      "f1: 0.9858019631570013\n",
      "mcc: 0.9785047322676289\n",
      "test\n",
      "accuracy: 0.9523809523809523\n",
      "balanced accuracy: 0.9325263504475036\n",
      "precision: 0.9533454036222585\n",
      "recall: 0.9523809523809523\n",
      "f1: 0.9518387729363335\n",
      "mcc: 0.9283272250564831\n"
     ]
    }
   ],
   "source": [
    "print('train')\n",
    "print(f'accuracy: {statistics.mean(acc_list_train)}')\n",
    "print(f'balanced accuracy: {statistics.mean(bal_acc_list_train)}')\n",
    "print(f'precision: {statistics.mean(precision_list_train)}')\n",
    "print(f'recall: {statistics.mean(recall_list_train)}')\n",
    "print(f'f1: {statistics.mean(f1_list_train)}')\n",
    "print(f'mcc: {statistics.mean(mcc_list_train)}')\n",
    "\n",
    "print('test')\n",
    "print(f'accuracy: {statistics.mean(acc_list_test)}')\n",
    "print(f'balanced accuracy: {statistics.mean(bal_acc_list_test)}')\n",
    "print(f'precision: {statistics.mean(precision_list_test)}')\n",
    "print(f'recall: {statistics.mean(recall_list_test)}')\n",
    "print(f'f1: {statistics.mean(f1_list_test)}')\n",
    "print(f'mcc: {statistics.mean(mcc_list_test)}')"
   ]
  },
  {
   "cell_type": "code",
   "execution_count": 28,
   "id": "e605f3ea-c650-450c-b85c-07b5805457b7",
   "metadata": {},
   "outputs": [
    {
     "name": "stdout",
     "output_type": "stream",
     "text": [
      "Lev 2 train accuracy: 0.9872773536895675\n",
      "Lev 2 train balanced accuracy: 0.9882032918192087\n",
      "Number of unique level 2 categories in train: 6\n",
      "Number of unique level 2 categories in pred: 6\n",
      "(18, 13)\n"
     ]
    }
   ],
   "source": [
    "X_train = lab[X_cols]\n",
    "y_train = lab[[y_cols[1], y_cols[2]]]\n",
    "y_train1 = lab[y_cols[1]]\n",
    "y_train2 = lab[y_cols[2]]\n",
    "\n",
    "pred = pred.drop(['tsne_0', 'tsne_1'], axis=1).merge(features)\n",
    "X_pred = pred[X_cols]\n",
    "\n",
    "mod = RandomForestClassifier(n_estimators=500, \n",
    "                             min_samples_leaf=10, \n",
    "                             max_depth=20,\n",
    "                             class_weight='balanced'\n",
    "                            )\n",
    "\n",
    "clf2 = mod\n",
    "clf2.fit(X_train, y_train2)\n",
    "y_train_pred2 = clf2.predict(X_train)\n",
    "y_pred2 = clf2.predict(X_pred)\n",
    "\n",
    "y_train_pred1 = pd.DataFrame(y_train_pred2, columns=[y_cols[2]]).merge(\n",
    "    lab[[y_cols[1], y_cols[2]]].drop_duplicates(), how='left')[y_cols[1]].values\n",
    "y_pred1 = pd.DataFrame(y_pred2, columns=[y_cols[2]]).merge(\n",
    "    lab[[y_cols[1], y_cols[2]]].drop_duplicates(), how='left')[y_cols[1]].values\n",
    "\n",
    "\n",
    "print(f'Lev 2 train accuracy: {accuracy_score(y_train2, y_train_pred2)}')\n",
    "print(f'Lev 2 train balanced accuracy: {balanced_accuracy_score(y_train2, y_train_pred2)}')\n",
    "\n",
    "print(f'Number of unique level 2 categories in train: {len(np.unique(y_train_pred2))}')\n",
    "print(f'Number of unique level 2 categories in pred: {len(np.unique(y_pred2))}')    \n",
    "\n",
    "pred['mainfoodgroup_pred'] = pd.Series(y_pred1, index = pred.index)\n",
    "pred['subfoodgroup_pred'] = pd.Series(y_pred2, index = pred.index)\n",
    "\n",
    "cols = ['product_id', 'product_name', 'product_list_name', 'store', 'ingredients_text',\n",
    "        'parentcategory_lab', 'mainfoodgroup_lab', 'subfoodgroup_lab',\n",
    "        'parentcategory_pred', 'mainfoodgroup_pred', 'subfoodgroup_pred', 'tsne_0', 'tsne_1']\n",
    "\n",
    "pred = pred[cols]\n",
    "\n",
    "print(pred[(pred['subfoodgroup_lab'].notnull()) & (pred['parentcategory_lab']==pred['parentcategory_pred'])\n",
    "           & (pred['subfoodgroup_lab']!=pred['subfoodgroup_pred'])].shape)"
   ]
  },
  {
   "cell_type": "code",
   "execution_count": 29,
   "id": "971bffbd-36a9-4da5-9c03-1846cb9b98af",
   "metadata": {},
   "outputs": [
    {
     "data": {
      "text/plain": [
       "Other fruit not canned         5177\n",
       "Canned fruit in juice           782\n",
       "Apples and pears not canned     747\n",
       "Citrus fruit not canned         292\n",
       "Canned fruit in syrup           227\n",
       "Bananas                         118\n",
       "Name: subfoodgroup_pred, dtype: int64"
      ]
     },
     "execution_count": 29,
     "metadata": {},
     "output_type": "execute_result"
    }
   ],
   "source": [
    "pred['subfoodgroup_pred'].value_counts()"
   ]
  },
  {
   "cell_type": "code",
   "execution_count": 30,
   "id": "23a91817-b329-4f3f-99f7-d21e5b8db28b",
   "metadata": {},
   "outputs": [],
   "source": [
    "# "
   ]
  },
  {
   "cell_type": "code",
   "execution_count": null,
   "id": "be18412e-8e2a-45db-905e-bbee0924d2e7",
   "metadata": {},
   "outputs": [],
   "source": [
    "pred.sample(100)[['product_list_name', 'ingredients_text', 'subfoodgroup_lab', 'subfoodgroup_pred']].sort_values(\n",
    "    by='subfoodgroup_pred').reset_index(drop=True)"
   ]
  },
  {
   "cell_type": "code",
   "execution_count": 32,
   "id": "3909e1cc-dd36-4e29-9c09-026fb15a73a9",
   "metadata": {},
   "outputs": [],
   "source": [
    "# pred[pred['subfoodgroup_pred']=='Other fruit not canned'].sample(100).sort_values(by='product_list_name').reset_index(drop=True)"
   ]
  },
  {
   "cell_type": "code",
   "execution_count": 33,
   "id": "ce6a41cc-fbf0-486f-b048-e17c7b40a24e",
   "metadata": {},
   "outputs": [
    {
     "data": {
      "text/plain": [
       "<matplotlib.legend.Legend at 0x7fb6d7135190>"
      ]
     },
     "execution_count": 33,
     "metadata": {},
     "output_type": "execute_result"
    },
    {
     "data": {
      "image/png": "[encoded data removed]",
      "text/plain": [
       "<Figure size 1600x1000 with 1 Axes>"
      ]
     },
     "metadata": {},
     "output_type": "display_data"
    }
   ],
   "source": [
    "sns.set_style('whitegrid')\n",
    "plt.figure(figsize=(16,10))\n",
    "sns.scatterplot(\n",
    "    x=pred['tsne_0'], y=pred['tsne_1'],\n",
    "    hue=pred['subfoodgroup_pred'],\n",
    "    palette=sns.color_palette(cc.glasbey, n_colors=pred['subfoodgroup_pred'].nunique()), s=3\n",
    ")\n",
    "plt.legend(bbox_to_anchor=(1.28, 1), loc='upper right')"
   ]
  },
  {
   "cell_type": "code",
   "execution_count": 34,
   "id": "0825ffb0-8a2e-460c-a7d0-834fe3b4f01d",
   "metadata": {},
   "outputs": [],
   "source": [
    "# save level 2 cereal categories\n",
    "pred.to_csv('../../SFS/NDNS UK/predictions/predictions_fruit_lev2_manuallabels_nonHI_RF_15Oct2024.csv', \n",
    "                      index=False)"
   ]
  },
  {
   "cell_type": "code",
   "execution_count": null,
   "id": "0e59b8eb-a66e-4696-b812-66ef96be4716",
   "metadata": {},
   "outputs": [],
   "source": []
  }
 ],
 "metadata": {
  "kernelspec": {
   "display_name": "Python 3 (ipykernel)",
   "language": "python",
   "name": "python3"
  },
  "language_info": {
   "codemirror_mode": {
    "name": "ipython",
    "version": 3
   },
   "file_extension": ".py",
   "mimetype": "text/x-python",
   "name": "python",
   "nbconvert_exporter": "python",
   "pygments_lexer": "ipython3",
   "version": "3.7.10"
  }
 },
 "nbformat": 4,
 "nbformat_minor": 5
}
