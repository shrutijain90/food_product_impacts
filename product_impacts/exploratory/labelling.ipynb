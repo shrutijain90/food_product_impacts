{
 "cells": [
  {
   "cell_type": "code",
   "execution_count": 1,
   "id": "3187bdd9-d594-4b5a-b62f-a8527fc8fb06",
   "metadata": {},
   "outputs": [],
   "source": [
    "import pandas as pd\n",
    "import math\n",
    "from skimpy import skim\n",
    "import xlsxwriter\n",
    "import requests\n",
    "from bs4 import BeautifulSoup\n",
    "from sentence_transformers import SentenceTransformer, util\n",
    "from sklearn.decomposition import PCA\n",
    "from sklearn.manifold import TSNE\n",
    "from sklearn.cluster import KMeans\n",
    "from sklearn.svm import SVC, LinearSVC, NuSVC\n",
    "from sklearn.model_selection import train_test_split\n",
    "from sklearn.pipeline import Pipeline\n",
    "from sklearn.linear_model import ElasticNet\n",
    "from sklearn.ensemble import RandomForestClassifier, GradientBoostingClassifier, HistGradientBoostingClassifier, AdaBoostClassifier\n",
    "from sklearn.naive_bayes import GaussianNB\n",
    "from sklearn.discriminant_analysis import LinearDiscriminantAnalysis\n",
    "from sklearn.discriminant_analysis import QuadraticDiscriminantAnalysis\n",
    "from sklearn.neighbors import KNeighborsClassifier\n",
    "from sklearn.metrics import accuracy_score, matthews_corrcoef, f1_score, mean_squared_error, r2_score, roc_auc_score, balanced_accuracy_score\n",
    "from sklearn import preprocessing\n",
    "from sklearn.feature_selection import mutual_info_classif\n",
    "from hiclass import LocalClassifierPerParentNode, LocalClassifierPerLevel\n",
    "\n",
    "import numpy as np\n",
    "import pickle\n",
    "import plotly.express as px\n",
    "import matplotlib.pyplot as plt\n",
    "import seaborn as sns\n",
    "import colorcet as cc\n",
    "\n",
    "sns.set()\n",
    "pd.set_option('display.max_columns', None)\n",
    "pd.set_option('display.max_rows', None)"
   ]
  },
  {
   "cell_type": "code",
   "execution_count": 2,
   "id": "7a762efe-b29c-4ab6-92d5-6c56abe59040",
   "metadata": {},
   "outputs": [],
   "source": [
    "ndns_edited = pd.read_csv('../../SFS/NDNS UK/ndns_edited.csv', encoding='unicode_escape')\n",
    "ndns_edited.loc[ndns_edited['subfoodgroupdesc_edited'].notnull(), \n",
    "                'subfoodgroupdesc'] = ndns_edited[ndns_edited['subfoodgroupdesc_edited'].notnull()]['subfoodgroupdesc_edited']\n",
    "ndns_edited = ndns_edited.drop(['subfoodgroupdesc_edited'], axis=1)"
   ]
  },
  {
   "cell_type": "code",
   "execution_count": 3,
   "id": "13ab20a9-4e6c-403f-b0c1-77f50b8ae190",
   "metadata": {},
   "outputs": [
    {
     "name": "stdout",
     "output_type": "stream",
     "text": [
      "17\n",
      "59\n",
      "145\n"
     ]
    }
   ],
   "source": [
    "print(ndns_edited['parentcategory'].nunique())\n",
    "print(ndns_edited['mainfoodgroupdesc'].nunique())\n",
    "print(ndns_edited['subfoodgroupdesc'].nunique())"
   ]
  },
  {
   "cell_type": "code",
   "execution_count": 4,
   "id": "81948443-3517-4db3-9cc4-589acff263ec",
   "metadata": {},
   "outputs": [],
   "source": [
    "predictions = pd.read_csv('../../SFS/NDNS UK/predictions_all_LDA_HI.csv')"
   ]
  },
  {
   "cell_type": "code",
   "execution_count": 5,
   "id": "ff25a5bc-84af-4138-8e6d-79c885fe743a",
   "metadata": {},
   "outputs": [
    {
     "data": {
      "text/plain": [
       "(83247, 14)"
      ]
     },
     "execution_count": 5,
     "metadata": {},
     "output_type": "execute_result"
    }
   ],
   "source": [
    "predictions[predictions['parentcategory_lab'].isna()].shape"
   ]
  },
  {
   "cell_type": "code",
   "execution_count": 6,
   "id": "a1fa3ef2-8a62-4011-976b-de503aff503f",
   "metadata": {},
   "outputs": [],
   "source": [
    "to_label = predictions[predictions['parentcategory_lab'].isna()].sample(frac=1, random_state=0).reset_index(drop=True)\n",
    "# to_label.loc[to_label['product_name'].isna(), 'product_name'] = to_label[to_label['product_name'].isna()]['product_list_name']\n",
    "to_label = to_label[['product_id', 'product_list_name', 'store', 'parentcategory_pred', \n",
    "                     'mainfoodgroup_pred', 'subfoodgroup_pred']].rename(columns={'product_list_name': 'product_name'})"
   ]
  },
  {
   "cell_type": "code",
   "execution_count": 7,
   "id": "d05106a5-f104-44b8-a65c-a95b5a80b2a1",
   "metadata": {},
   "outputs": [
    {
     "data": {
      "text/plain": [
       "(83247, 6)"
      ]
     },
     "execution_count": 7,
     "metadata": {},
     "output_type": "execute_result"
    }
   ],
   "source": [
    "to_label.shape"
   ]
  },
  {
   "cell_type": "code",
   "execution_count": 9,
   "id": "70110d6c-71a6-4799-8c46-83e8ae92ab4c",
   "metadata": {},
   "outputs": [],
   "source": [
    "parentcategory = ndns_edited['parentcategory'].unique().tolist()\n",
    "mainfoodgroup = ndns_edited.groupby('parentcategory')['mainfoodgroupdesc'].agg(['unique']).reset_index().values\n",
    "subfoodgroup = ndns_edited.groupby('mainfoodgroupdesc')['subfoodgroupdesc'].agg(['unique']).reset_index().values"
   ]
  },
  {
   "cell_type": "code",
   "execution_count": 10,
   "id": "e3d3b54f-6fdb-4db3-a6a4-a21c3e32731c",
   "metadata": {},
   "outputs": [],
   "source": [
    "def write_to_excel(df, fname):\n",
    "    \n",
    "    # Write to xlsx file \n",
    "    writer = pd.ExcelWriter(fname, engine='xlsxwriter')\n",
    "    n_rows = df.shape[0]\n",
    "    df.to_excel(writer, sheet_name='Sheet1', index=False)\n",
    "\n",
    "    # Assign workbook and worksheet\n",
    "    workbook = writer.book\n",
    "    worksheet = writer.sheets['Sheet1']\n",
    "    \n",
    "    # Creation of unlocked format\n",
    "    unlocked = workbook.add_format({'locked': False})\n",
    "    worksheet.set_column('A:XDF', None, unlocked)\n",
    "\n",
    "    worksheet.write('H1', 'parentcategory')\n",
    "    worksheet.write('I1', 'mainfoodgroupdesc')\n",
    "    worksheet.write('J1', 'subfoodgroupdesc')\n",
    "\n",
    "    worksheet2 = workbook.add_worksheet('categories')\n",
    "    worksheet2.write_column('A2', parentcategory)\n",
    "    col = 0\n",
    "\n",
    "    for i in range(len(mainfoodgroup)):\n",
    "        col += 1\n",
    "        cat = mainfoodgroup[i]\n",
    "        worksheet2.write(0, col, cat[0])\n",
    "        worksheet2.write_column(1, col, cat[1].tolist())\n",
    "\n",
    "    for i in range(len(subfoodgroup)):\n",
    "        col += 1\n",
    "        cat = subfoodgroup[i]\n",
    "        worksheet2.write(0, col, cat[0])\n",
    "        worksheet2.write_column(1, col, cat[1].tolist())\n",
    "\n",
    "    # Creation of the dropdown menus\n",
    "    worksheet.data_validation('H2:H'+str(1+n_rows), {'validate' : 'list', 'source': '=categories!$A$2:$A$'+str(1+len(parentcategory))})\n",
    "    for i in range(n_rows):\n",
    "        worksheet.data_validation('I'+str(2+i), {'validate' : 'list', 'source': '=INDEX(categories!$B$2:$R$12, 0, MATCH($H$'+str(2+i)+', categories!$B$1:$R$1, 0))'})\n",
    "    for i in range(n_rows):\n",
    "        worksheet.data_validation('J'+str(2+i), {'validate' : 'list', 'source': '=INDEX(categories!$S$2:$BY$16, 0, MATCH($I$'+str(2+i)+', categories!$S$1:$BY$1, 0))'})\n",
    "    \n",
    "    # Close the workbook\n",
    "    workbook.close()"
   ]
  },
  {
   "cell_type": "code",
   "execution_count": 11,
   "id": "fdf86332-ea5f-4d92-8998-11f30cded762",
   "metadata": {},
   "outputs": [],
   "source": [
    "for i in range(2, math.ceil(83248/500)):\n",
    "    if i==math.ceil(83248/500)-1:\n",
    "        df = to_label.iloc[i*500:,:]\n",
    "    else:\n",
    "        df = to_label.iloc[i*500:(i+1)*500,:]\n",
    "    fname = f'../../SFS/NDNS UK/labelling_exercise/sample_{i+1}.xlsx'\n",
    "    write_to_excel(df, fname)"
   ]
  },
  {
   "cell_type": "code",
   "execution_count": null,
   "id": "38c9abe0-e7b8-4bf7-8b8a-b1b1c727fbf2",
   "metadata": {},
   "outputs": [],
   "source": []
  }
 ],
 "metadata": {
  "kernelspec": {
   "display_name": "Python 3 (ipykernel)",
   "language": "python",
   "name": "python3"
  },
  "language_info": {
   "codemirror_mode": {
    "name": "ipython",
    "version": 3
   },
   "file_extension": ".py",
   "mimetype": "text/x-python",
   "name": "python",
   "nbconvert_exporter": "python",
   "pygments_lexer": "ipython3",
   "version": "3.7.10"
  }
 },
 "nbformat": 4,
 "nbformat_minor": 5
}
