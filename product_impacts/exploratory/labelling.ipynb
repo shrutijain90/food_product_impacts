{
 "cells": [
  {
   "cell_type": "code",
   "execution_count": 1,
   "id": "3187bdd9-d594-4b5a-b62f-a8527fc8fb06",
   "metadata": {},
   "outputs": [],
   "source": [
    "import pandas as pd\n",
    "import math\n",
    "from skimpy import skim\n",
    "import xlsxwriter\n",
    "import requests\n",
    "from bs4 import BeautifulSoup\n",
    "from sentence_transformers import SentenceTransformer, util\n",
    "from sklearn.decomposition import PCA\n",
    "from sklearn.manifold import TSNE\n",
    "from sklearn.cluster import KMeans\n",
    "from sklearn.svm import SVC, LinearSVC, NuSVC\n",
    "from sklearn.model_selection import train_test_split\n",
    "from sklearn.pipeline import Pipeline\n",
    "from sklearn.linear_model import ElasticNet\n",
    "from sklearn.ensemble import RandomForestClassifier, GradientBoostingClassifier, HistGradientBoostingClassifier, AdaBoostClassifier\n",
    "from sklearn.naive_bayes import GaussianNB\n",
    "from sklearn.discriminant_analysis import LinearDiscriminantAnalysis\n",
    "from sklearn.discriminant_analysis import QuadraticDiscriminantAnalysis\n",
    "from sklearn.neighbors import KNeighborsClassifier\n",
    "from sklearn.metrics import accuracy_score, matthews_corrcoef, f1_score, mean_squared_error, r2_score, roc_auc_score, balanced_accuracy_score\n",
    "from sklearn import preprocessing\n",
    "from sklearn.feature_selection import mutual_info_classif\n",
    "from hiclass import LocalClassifierPerParentNode, LocalClassifierPerLevel\n",
    "\n",
    "import numpy as np\n",
    "import pickle\n",
    "import plotly.express as px\n",
    "import matplotlib.pyplot as plt\n",
    "import seaborn as sns\n",
    "import colorcet as cc\n",
    "\n",
    "sns.set()\n",
    "pd.set_option('display.max_columns', None)\n",
    "pd.set_option('display.max_rows', None)"
   ]
  },
  {
   "cell_type": "code",
   "execution_count": 2,
   "id": "7a762efe-b29c-4ab6-92d5-6c56abe59040",
   "metadata": {},
   "outputs": [],
   "source": [
    "ndns_edited = pd.read_csv('../../future_of_food/NDNS UK/ndns_edited.csv', encoding='unicode_escape')\n",
    "ndns_edited.loc[ndns_edited['subfoodgroupdesc_edited'].notnull(), \n",
    "                'subfoodgroupdesc'] = ndns_edited[ndns_edited['subfoodgroupdesc_edited'].notnull()]['subfoodgroupdesc_edited']\n",
    "ndns_edited = ndns_edited.drop(['subfoodgroupdesc_edited'], axis=1)"
   ]
  },
  {
   "cell_type": "code",
   "execution_count": 3,
   "id": "13ab20a9-4e6c-403f-b0c1-77f50b8ae190",
   "metadata": {},
   "outputs": [
    {
     "name": "stdout",
     "output_type": "stream",
     "text": [
      "17\n",
      "59\n",
      "145\n"
     ]
    }
   ],
   "source": [
    "print(ndns_edited['parentcategory'].nunique())\n",
    "print(ndns_edited['mainfoodgroupdesc'].nunique())\n",
    "print(ndns_edited['subfoodgroupdesc'].nunique())"
   ]
  },
  {
   "cell_type": "code",
   "execution_count": 4,
   "id": "81948443-3517-4db3-9cc4-589acff263ec",
   "metadata": {},
   "outputs": [],
   "source": [
    "predictions = pd.read_csv('../../future_of_food/NDNS UK/predictions_all_LDA_HI.csv')"
   ]
  },
  {
   "cell_type": "code",
   "execution_count": 5,
   "id": "ff25a5bc-84af-4138-8e6d-79c885fe743a",
   "metadata": {},
   "outputs": [
    {
     "data": {
      "text/plain": [
       "(83247, 14)"
      ]
     },
     "execution_count": 5,
     "metadata": {},
     "output_type": "execute_result"
    }
   ],
   "source": [
    "predictions[predictions['parentcategory_lab'].isna()].shape"
   ]
  },
  {
   "cell_type": "code",
   "execution_count": 6,
   "id": "a1fa3ef2-8a62-4011-976b-de503aff503f",
   "metadata": {},
   "outputs": [],
   "source": [
    "to_label = predictions[predictions['parentcategory_lab'].isna()].sample(frac=1, random_state=0).reset_index(drop=True)\n",
    "# to_label.loc[to_label['product_name'].isna(), 'product_name'] = to_label[to_label['product_name'].isna()]['product_list_name']\n",
    "to_label = to_label[['product_id', 'product_list_name', 'store', 'parentcategory_pred', \n",
    "                     'mainfoodgroup_pred', 'subfoodgroup_pred']].rename(columns={'product_list_name': 'product_name'})"
   ]
  },
  {
   "cell_type": "code",
   "execution_count": 7,
   "id": "d05106a5-f104-44b8-a65c-a95b5a80b2a1",
   "metadata": {},
   "outputs": [
    {
     "data": {
      "text/plain": [
       "(83247, 6)"
      ]
     },
     "execution_count": 7,
     "metadata": {},
     "output_type": "execute_result"
    }
   ],
   "source": [
    "to_label.shape"
   ]
  },
  {
   "cell_type": "code",
   "execution_count": 8,
   "id": "e71d4c49-0e35-4fa0-be37-fc6524a7e2fc",
   "metadata": {},
   "outputs": [
    {
     "data": {
      "text/html": [
       "<div>\n",
       "<style scoped>\n",
       "    .dataframe tbody tr th:only-of-type {\n",
       "        vertical-align: middle;\n",
       "    }\n",
       "\n",
       "    .dataframe tbody tr th {\n",
       "        vertical-align: top;\n",
       "    }\n",
       "\n",
       "    .dataframe thead th {\n",
       "        text-align: right;\n",
       "    }\n",
       "</style>\n",
       "<table border=\"1\" class=\"dataframe\">\n",
       "  <thead>\n",
       "    <tr style=\"text-align: right;\">\n",
       "      <th></th>\n",
       "      <th>product_id</th>\n",
       "      <th>product_name</th>\n",
       "      <th>store</th>\n",
       "      <th>parentcategory_pred</th>\n",
       "      <th>mainfoodgroup_pred</th>\n",
       "      <th>subfoodgroup_pred</th>\n",
       "    </tr>\n",
       "  </thead>\n",
       "  <tbody>\n",
       "    <tr>\n",
       "      <th>83242</th>\n",
       "      <td>11980701</td>\n",
       "      <td>Yutaka Wasabi Paste 43g</td>\n",
       "      <td>sainsbury</td>\n",
       "      <td>Cereals and Cereal Products</td>\n",
       "      <td>Puddings</td>\n",
       "      <td>Other cereal based puddings</td>\n",
       "    </tr>\n",
       "    <tr>\n",
       "      <th>83243</th>\n",
       "      <td>11967848</td>\n",
       "      <td>Lanson Black Label Brut Cha…</td>\n",
       "      <td>ocado</td>\n",
       "      <td>Non-Alcoholic Beverages</td>\n",
       "      <td>Tea, coffee and water</td>\n",
       "      <td>Coffee (made up weight)</td>\n",
       "    </tr>\n",
       "    <tr>\n",
       "      <th>83244</th>\n",
       "      <td>11961770</td>\n",
       "      <td>The Celtic Bakers Organic Sourd…</td>\n",
       "      <td>ocado</td>\n",
       "      <td>Cereals and Cereal Products</td>\n",
       "      <td>Pasta, rice and other miscellaneous cereals</td>\n",
       "      <td>Pizza</td>\n",
       "    </tr>\n",
       "    <tr>\n",
       "      <th>83245</th>\n",
       "      <td>11962875</td>\n",
       "      <td>Birds Eye Steamfresh 4 Family…</td>\n",
       "      <td>ocado</td>\n",
       "      <td>Vegetables, Potatoes</td>\n",
       "      <td>Vegetables (not raw)</td>\n",
       "      <td>Leafy green vegetables not raw</td>\n",
       "    </tr>\n",
       "    <tr>\n",
       "      <th>83246</th>\n",
       "      <td>11948435</td>\n",
       "      <td>Waitrose Cooks' Ingredients organic ground cin...</td>\n",
       "      <td>waitrose</td>\n",
       "      <td>Cereals and Cereal Products</td>\n",
       "      <td>Pasta, rice and other miscellaneous cereals</td>\n",
       "      <td>Pizza</td>\n",
       "    </tr>\n",
       "  </tbody>\n",
       "</table>\n",
       "</div>"
      ],
      "text/plain": [
       "       product_id                                       product_name  \\\n",
       "83242    11980701                            Yutaka Wasabi Paste 43g   \n",
       "83243    11967848                       Lanson Black Label Brut Cha…   \n",
       "83244    11961770                   The Celtic Bakers Organic Sourd…   \n",
       "83245    11962875                     Birds Eye Steamfresh 4 Family…   \n",
       "83246    11948435  Waitrose Cooks' Ingredients organic ground cin...   \n",
       "\n",
       "           store          parentcategory_pred  \\\n",
       "83242  sainsbury  Cereals and Cereal Products   \n",
       "83243      ocado      Non-Alcoholic Beverages   \n",
       "83244      ocado  Cereals and Cereal Products   \n",
       "83245      ocado         Vegetables, Potatoes   \n",
       "83246   waitrose  Cereals and Cereal Products   \n",
       "\n",
       "                                mainfoodgroup_pred  \\\n",
       "83242                                     Puddings   \n",
       "83243                        Tea, coffee and water   \n",
       "83244  Pasta, rice and other miscellaneous cereals   \n",
       "83245                         Vegetables (not raw)   \n",
       "83246  Pasta, rice and other miscellaneous cereals   \n",
       "\n",
       "                    subfoodgroup_pred  \n",
       "83242     Other cereal based puddings  \n",
       "83243         Coffee (made up weight)  \n",
       "83244                           Pizza  \n",
       "83245  Leafy green vegetables not raw  \n",
       "83246                           Pizza  "
      ]
     },
     "execution_count": 8,
     "metadata": {},
     "output_type": "execute_result"
    }
   ],
   "source": [
    "to_label.tail()"
   ]
  },
  {
   "cell_type": "code",
   "execution_count": 9,
   "id": "70110d6c-71a6-4799-8c46-83e8ae92ab4c",
   "metadata": {},
   "outputs": [],
   "source": [
    "parentcategory = ndns_edited['parentcategory'].unique().tolist()\n",
    "mainfoodgroup = ndns_edited.groupby('parentcategory')['mainfoodgroupdesc'].agg(['unique']).reset_index().values\n",
    "subfoodgroup = ndns_edited.groupby('mainfoodgroupdesc')['subfoodgroupdesc'].agg(['unique']).reset_index().values"
   ]
  },
  {
   "cell_type": "code",
   "execution_count": 10,
   "id": "e3d3b54f-6fdb-4db3-a6a4-a21c3e32731c",
   "metadata": {},
   "outputs": [],
   "source": [
    "def write_to_excel(df, fname):\n",
    "    \n",
    "    # Write to xlsx file \n",
    "    writer = pd.ExcelWriter(fname, engine='xlsxwriter')\n",
    "    n_rows = df.shape[0]\n",
    "    df.to_excel(writer, sheet_name='Sheet1', index=False)\n",
    "\n",
    "    # Assign workbook and worksheet\n",
    "    workbook = writer.book\n",
    "    worksheet = writer.sheets['Sheet1']\n",
    "    \n",
    "    # Creation of unlocked format\n",
    "    unlocked = workbook.add_format({'locked': False})\n",
    "    worksheet.set_column('A:XDF', None, unlocked)\n",
    "\n",
    "    worksheet.write('H1', 'parentcategory')\n",
    "    worksheet.write('I1', 'mainfoodgroupdesc')\n",
    "    worksheet.write('J1', 'subfoodgroupdesc')\n",
    "\n",
    "    worksheet2 = workbook.add_worksheet('categories')\n",
    "    worksheet2.write_column('A2', parentcategory)\n",
    "    col = 0\n",
    "\n",
    "    for i in range(len(mainfoodgroup)):\n",
    "        col += 1\n",
    "        cat = mainfoodgroup[i]\n",
    "        worksheet2.write(0, col, cat[0])\n",
    "        worksheet2.write_column(1, col, cat[1].tolist())\n",
    "\n",
    "    for i in range(len(subfoodgroup)):\n",
    "        col += 1\n",
    "        cat = subfoodgroup[i]\n",
    "        worksheet2.write(0, col, cat[0])\n",
    "        worksheet2.write_column(1, col, cat[1].tolist())\n",
    "\n",
    "    # Creation of the dropdown menus\n",
    "    worksheet.data_validation('H2:H'+str(1+n_rows), {'validate' : 'list', 'source': '=categories!$A$2:$A$'+str(1+len(parentcategory))})\n",
    "    for i in range(n_rows):\n",
    "        worksheet.data_validation('I'+str(2+i), {'validate' : 'list', 'source': '=INDEX(categories!$B$2:$R$12, 0, MATCH($H$'+str(2+i)+', categories!$B$1:$R$1, 0))'})\n",
    "    for i in range(n_rows):\n",
    "        worksheet.data_validation('J'+str(2+i), {'validate' : 'list', 'source': '=INDEX(categories!$S$2:$BY$16, 0, MATCH($I$'+str(2+i)+', categories!$S$1:$BY$1, 0))'})\n",
    "    \n",
    "    # Close the workbook\n",
    "    workbook.close()"
   ]
  },
  {
   "cell_type": "code",
   "execution_count": 11,
   "id": "fdf86332-ea5f-4d92-8998-11f30cded762",
   "metadata": {},
   "outputs": [],
   "source": [
    "for i in range(2, math.ceil(83248/500)):\n",
    "    if i==math.ceil(83248/500)-1:\n",
    "        df = to_label.iloc[i*500:,:]\n",
    "    else:\n",
    "        df = to_label.iloc[i*500:(i+1)*500,:]\n",
    "    fname = f'../../future_of_food/NDNS UK/labelling_exercise/sample_{i+1}.xlsx'\n",
    "    write_to_excel(df, fname)"
   ]
  },
  {
   "cell_type": "code",
   "execution_count": null,
   "id": "38c9abe0-e7b8-4bf7-8b8a-b1b1c727fbf2",
   "metadata": {},
   "outputs": [],
   "source": []
  }
 ],
 "metadata": {
  "kernelspec": {
   "display_name": "Python 3 (ipykernel)",
   "language": "python",
   "name": "python3"
  },
  "language_info": {
   "codemirror_mode": {
    "name": "ipython",
    "version": 3
   },
   "file_extension": ".py",
   "mimetype": "text/x-python",
   "name": "python",
   "nbconvert_exporter": "python",
   "pygments_lexer": "ipython3",
   "version": "3.7.10"
  }
 },
 "nbformat": 4,
 "nbformat_minor": 5
}
